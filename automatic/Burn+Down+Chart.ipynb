{
 "cells": [
  {
   "cell_type": "code",
   "execution_count": 1,
   "metadata": {
    "ExecuteTime": {
     "end_time": "2018-12-25T14:38:36.674460Z",
     "start_time": "2018-12-25T14:38:36.655566Z"
    },
    "collapsed": true
   },
   "outputs": [],
   "source": [
    "# 项目的开始日期，修改单引号中的内容\n",
    "start_time = '2018-12-01'\n",
    "\n",
    "# 项目的结束日期，修改单引号中的内容\n",
    "end_time = '2018-12-07'\n",
    "\n",
    "# excel文件的路径，修改单引号中的内容\n",
    "excel_path = 'test.xlsx'"
   ]
  },
  {
   "cell_type": "code",
   "execution_count": 2,
   "metadata": {
    "ExecuteTime": {
     "end_time": "2018-12-25T14:38:37.900483Z",
     "start_time": "2018-12-25T14:38:36.678345Z"
    },
    "collapsed": true
   },
   "outputs": [],
   "source": [
    "import pandas as pd\n",
    "df = pd.read_excel(excel_path, header=1)"
   ]
  },
  {
   "cell_type": "code",
   "execution_count": 3,
   "metadata": {
    "ExecuteTime": {
     "end_time": "2018-12-25T14:38:38.005441Z",
     "start_time": "2018-12-25T14:38:37.911662Z"
    }
   },
   "outputs": [
    {
     "data": {
      "text/html": [
       "<div>\n",
       "<style>\n",
       "    .dataframe thead tr:only-child th {\n",
       "        text-align: right;\n",
       "    }\n",
       "\n",
       "    .dataframe thead th {\n",
       "        text-align: left;\n",
       "    }\n",
       "\n",
       "    .dataframe tbody tr th {\n",
       "        vertical-align: top;\n",
       "    }\n",
       "</style>\n",
       "<table border=\"1\" class=\"dataframe\">\n",
       "  <thead>\n",
       "    <tr style=\"text-align: right;\">\n",
       "      <th></th>\n",
       "      <th>任务1</th>\n",
       "      <th>任务2</th>\n",
       "      <th>task3</th>\n",
       "      <th>task4</th>\n",
       "      <th>task5</th>\n",
       "    </tr>\n",
       "  </thead>\n",
       "  <tbody>\n",
       "    <tr>\n",
       "      <th>2018-12-01</th>\n",
       "      <td>5</td>\n",
       "      <td>6.0</td>\n",
       "      <td>7.0</td>\n",
       "      <td>4.0</td>\n",
       "      <td>3.0</td>\n",
       "    </tr>\n",
       "    <tr>\n",
       "      <th>2018-12-02</th>\n",
       "      <td>2</td>\n",
       "      <td>4.0</td>\n",
       "      <td>5.0</td>\n",
       "      <td>1.0</td>\n",
       "      <td>NaN</td>\n",
       "    </tr>\n",
       "    <tr>\n",
       "      <th>2018-12-03</th>\n",
       "      <td>10</td>\n",
       "      <td>NaN</td>\n",
       "      <td>1.0</td>\n",
       "      <td>NaN</td>\n",
       "      <td>NaN</td>\n",
       "    </tr>\n",
       "    <tr>\n",
       "      <th>2018-12-04</th>\n",
       "      <td>3</td>\n",
       "      <td>NaN</td>\n",
       "      <td>NaN</td>\n",
       "      <td>3.0</td>\n",
       "      <td>2.0</td>\n",
       "    </tr>\n",
       "    <tr>\n",
       "      <th>2018-12-06</th>\n",
       "      <td>0</td>\n",
       "      <td>NaN</td>\n",
       "      <td>0.0</td>\n",
       "      <td>2.0</td>\n",
       "      <td>0.0</td>\n",
       "    </tr>\n",
       "  </tbody>\n",
       "</table>\n",
       "</div>"
      ],
      "text/plain": [
       "            任务1  任务2  task3  task4  task5\n",
       "2018-12-01    5  6.0    7.0    4.0    3.0\n",
       "2018-12-02    2  4.0    5.0    1.0    NaN\n",
       "2018-12-03   10  NaN    1.0    NaN    NaN\n",
       "2018-12-04    3  NaN    NaN    3.0    2.0\n",
       "2018-12-06    0  NaN    0.0    2.0    0.0"
      ]
     },
     "execution_count": 3,
     "metadata": {},
     "output_type": "execute_result"
    }
   ],
   "source": [
    "df"
   ]
  },
  {
   "cell_type": "code",
   "execution_count": 4,
   "metadata": {
    "ExecuteTime": {
     "end_time": "2018-12-25T14:38:38.050188Z",
     "start_time": "2018-12-25T14:38:38.010302Z"
    }
   },
   "outputs": [
    {
     "name": "stdout",
     "output_type": "stream",
     "text": [
      "2018-12-01 00:00:00\n",
      "2018-12-07 00:00:00\n"
     ]
    }
   ],
   "source": [
    "import datetime\n",
    "\n",
    "start_time_obj = datetime.datetime.strptime(start_time, '%Y-%m-%d')\n",
    "end_time_obj = datetime.datetime.strptime(end_time, '%Y-%m-%d')\n",
    "print(start_time_obj)\n",
    "print(end_time_obj)"
   ]
  },
  {
   "cell_type": "code",
   "execution_count": 5,
   "metadata": {
    "ExecuteTime": {
     "end_time": "2018-12-25T14:38:40.671886Z",
     "start_time": "2018-12-25T14:38:40.620759Z"
    },
    "collapsed": true
   },
   "outputs": [],
   "source": [
    "work_load = df.loc[df.index[0]].sum()"
   ]
  },
  {
   "cell_type": "code",
   "execution_count": 6,
   "metadata": {
    "ExecuteTime": {
     "end_time": "2018-12-25T14:38:41.184865Z",
     "start_time": "2018-12-25T14:38:41.144870Z"
    }
   },
   "outputs": [
    {
     "data": {
      "text/plain": [
       "25.0"
      ]
     },
     "execution_count": 6,
     "metadata": {},
     "output_type": "execute_result"
    }
   ],
   "source": [
    "work_load"
   ]
  },
  {
   "cell_type": "code",
   "execution_count": 7,
   "metadata": {
    "ExecuteTime": {
     "end_time": "2018-12-25T14:38:42.569404Z",
     "start_time": "2018-12-25T14:38:42.535083Z"
    }
   },
   "outputs": [
    {
     "data": {
      "text/plain": [
       "Timestamp('2018-12-01 00:00:00')"
      ]
     },
     "execution_count": 7,
     "metadata": {},
     "output_type": "execute_result"
    }
   ],
   "source": [
    "df.index[0]"
   ]
  },
  {
   "cell_type": "code",
   "execution_count": 8,
   "metadata": {
    "ExecuteTime": {
     "end_time": "2018-12-25T14:38:42.952246Z",
     "start_time": "2018-12-25T14:38:42.917265Z"
    },
    "collapsed": true
   },
   "outputs": [],
   "source": [
    "date_list = []\n",
    "data_list = []\n",
    "for day in range((end_time_obj - start_time_obj).days + 1):\n",
    "    date_list.append(start_time_obj + datetime.timedelta(days=day))\n",
    "    \n",
    "    data_list.append(work_load * (1 - day * 1.0 / ((end_time_obj - start_time_obj).days)))"
   ]
  },
  {
   "cell_type": "code",
   "execution_count": 9,
   "metadata": {
    "ExecuteTime": {
     "end_time": "2018-12-25T14:38:43.762571Z",
     "start_time": "2018-12-25T14:38:43.728380Z"
    }
   },
   "outputs": [
    {
     "data": {
      "text/plain": [
       "[25.0,\n",
       " 20.833333333333336,\n",
       " 16.666666666666668,\n",
       " 12.5,\n",
       " 8.3333333333333339,\n",
       " 4.1666666666666661,\n",
       " 0.0]"
      ]
     },
     "execution_count": 9,
     "metadata": {},
     "output_type": "execute_result"
    }
   ],
   "source": [
    "data_list"
   ]
  },
  {
   "cell_type": "code",
   "execution_count": 41,
   "metadata": {
    "ExecuteTime": {
     "end_time": "2018-12-25T14:52:08.798409Z",
     "start_time": "2018-12-25T14:52:08.727752Z"
    },
    "collapsed": true
   },
   "outputs": [],
   "source": [
    "import numpy as np\n",
    "class Task(object):\n",
    "\n",
    "    __slots__ = ['start_date', 'end_date', 'day_remain_hour_dict', 'task_name', 'date_list']\n",
    "\n",
    "    def __init__(self, name):\n",
    "        self.task_name = name\n",
    "        self.start_date = None\n",
    "        self.end_date = None\n",
    "        self.date_list = []\n",
    "        self.day_remain_hour_dict = {}\n",
    "\n",
    "    def get_reamined_hour(self, date):\n",
    "        if self.end_date and date >= self.end_date:\n",
    "            return 0\n",
    "        return self.day_remain_hour_dict[date]\n",
    "\n",
    "    def set_day_remain_hour(self, date, remain_hour):\n",
    "        if np.isnan(remain_hour):\n",
    "            remain_hour = self.day_remain_hour_dict[self.date_list[-1]]\n",
    "        self.day_remain_hour_dict[date] = remain_hour\n",
    "        if remain_hour <= 0:\n",
    "            self.end_date = date\n",
    "        self.date_list.append(date)\n",
    "\n",
    "    def __repr__(self):\n",
    "#         print(type(self.task_name))\n",
    "        return 'task_name: %s, end at: %s' % (self.task_name.encode('utf8'), self.end_date and self.end_date.strftime('%Y-%m-%d'))"
   ]
  },
  {
   "cell_type": "code",
   "execution_count": 42,
   "metadata": {
    "ExecuteTime": {
     "end_time": "2018-12-25T14:52:09.174887Z",
     "start_time": "2018-12-25T14:52:09.131556Z"
    },
    "collapsed": true
   },
   "outputs": [],
   "source": [
    "task_obj_list = []\n",
    "def prepare_task_obj(task_df):\n",
    "    task_name_list = task_df.columns.values\n",
    "    date_delta = (task_df.index[-1] - task_df.index[0]).days\n",
    "    for task_name in task_name_list:\n",
    "        task_series = task_df[task_name]\n",
    "        if task_series.isnull().all():\n",
    "            continue\n",
    "        task_obj = Task(task_name)\n",
    "        for date in date_list:\n",
    "            if date not in task_df.index:\n",
    "                task_obj.set_day_remain_hour(date, task_obj.get_reamined_hour(task_obj.date_list[-1]))\n",
    "            else:\n",
    "                task_obj.set_day_remain_hour(date, task_series.loc[date])\n",
    "        task_obj_list.append(task_obj)"
   ]
  },
  {
   "cell_type": "code",
   "execution_count": 43,
   "metadata": {
    "ExecuteTime": {
     "end_time": "2018-12-25T14:52:09.579673Z",
     "start_time": "2018-12-25T14:52:09.538800Z"
    }
   },
   "outputs": [
    {
     "data": {
      "text/plain": [
       "[task_name: 任务1, end at: 2018-12-07,\n",
       " task_name: 任务2, end at: None,\n",
       " task_name: task3, end at: 2018-12-07,\n",
       " task_name: task4, end at: None,\n",
       " task_name: task5, end at: 2018-12-07]"
      ]
     },
     "execution_count": 43,
     "metadata": {},
     "output_type": "execute_result"
    }
   ],
   "source": [
    "prepare_task_obj(df)\n",
    "task_obj_list"
   ]
  },
  {
   "cell_type": "code",
   "execution_count": 44,
   "metadata": {
    "ExecuteTime": {
     "end_time": "2018-12-25T14:52:10.379573Z",
     "start_time": "2018-12-25T14:52:10.340704Z"
    }
   },
   "outputs": [
    {
     "data": {
      "text/plain": [
       "[25.0, 15.0, 19.0, 13.0, 13.0, 6.0, 6.0]"
      ]
     },
     "execution_count": 44,
     "metadata": {},
     "output_type": "execute_result"
    }
   ],
   "source": [
    "remain_hour_list = []\n",
    "for date in date_list:\n",
    "    remain_hour_list.append(sum([x.day_remain_hour_dict[date] for x in task_obj_list]))\n",
    "remain_hour_list"
   ]
  },
  {
   "cell_type": "code",
   "execution_count": 14,
   "metadata": {
    "ExecuteTime": {
     "end_time": "2018-12-23T14:28:57.585272Z",
     "start_time": "2018-12-23T14:28:57.538022Z"
    }
   },
   "outputs": [
    {
     "name": "stdout",
     "output_type": "stream",
     "text": [
      "[datetime.datetime(2018, 12, 1, 0, 0), datetime.datetime(2018, 12, 2, 0, 0), datetime.datetime(2018, 12, 3, 0, 0), datetime.datetime(2018, 12, 4, 0, 0), datetime.datetime(2018, 12, 5, 0, 0), datetime.datetime(2018, 12, 6, 0, 0), datetime.datetime(2018, 12, 7, 0, 0)]\n"
     ]
    }
   ],
   "source": [
    "print(date_list)"
   ]
  },
  {
   "cell_type": "code",
   "execution_count": 15,
   "metadata": {
    "ExecuteTime": {
     "end_time": "2018-12-23T14:28:57.643889Z",
     "start_time": "2018-12-23T14:28:57.588306Z"
    }
   },
   "outputs": [
    {
     "name": "stdout",
     "output_type": "stream",
     "text": [
      "[25.0, 20.833333333333336, 16.666666666666668, 12.5, 8.3333333333333339, 4.1666666666666661, 0.0]\n"
     ]
    }
   ],
   "source": [
    "print(data_list)"
   ]
  },
  {
   "cell_type": "code",
   "execution_count": 16,
   "metadata": {
    "ExecuteTime": {
     "end_time": "2018-12-23T14:28:57.708600Z",
     "start_time": "2018-12-23T14:28:57.648759Z"
    }
   },
   "outputs": [
    {
     "name": "stdout",
     "output_type": "stream",
     "text": [
      "[25.0, 15.0, 19.0, 13.0, 13.0, 6.0, 6.0]\n"
     ]
    }
   ],
   "source": [
    "print(remain_hour_list)"
   ]
  },
  {
   "cell_type": "code",
   "execution_count": 17,
   "metadata": {
    "ExecuteTime": {
     "end_time": "2018-12-23T14:28:59.282596Z",
     "start_time": "2018-12-23T14:28:57.718947Z"
    }
   },
   "outputs": [
    {
     "data": {
      "text/plain": [
       "<matplotlib.text.Text at 0x115791090>"
      ]
     },
     "execution_count": 17,
     "metadata": {},
     "output_type": "execute_result"
    },
    {
     "data": {
      "image/png": "[encoded data removed]",
      "text/plain": [
       "<matplotlib.figure.Figure at 0x108342e10>"
      ]
     },
     "metadata": {},
     "output_type": "display_data"
    }
   ],
   "source": [
    "%matplotlib inline\n",
    "\n",
    "import matplotlib.pyplot as plt\n",
    "plt.rcParams[\"figure.figsize\"] = (10, 6)\n",
    "plt.style.use('seaborn-whitegrid')\n",
    "plt.plot(date_list, data_list)\n",
    "plt.plot(date_list, remain_hour_list)\n",
    "plt.ylabel('remain hours')\n",
    "plt.xlabel('date')"
   ]
  },
  {
   "cell_type": "code",
   "execution_count": null,
   "metadata": {
    "collapsed": true
   },
   "outputs": [],
   "source": []
  },
  {
   "cell_type": "code",
   "execution_count": null,
   "metadata": {
    "collapsed": true
   },
   "outputs": [],
   "source": []
  }
 ],
 "metadata": {
  "kernelspec": {
   "display_name": "Python 2",
   "language": "python",
   "name": "python2"
  },
  "language_info": {
   "codemirror_mode": {
    "name": "ipython",
    "version": 2
   },
   "file_extension": ".py",
   "mimetype": "text/x-python",
   "name": "python",
   "nbconvert_exporter": "python",
   "pygments_lexer": "ipython2",
   "version": "2.7.13"
  }
 },
 "nbformat": 4,
 "nbformat_minor": 2
}
