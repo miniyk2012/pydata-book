{
 "cells": [
  {
   "cell_type": "markdown",
   "metadata": {
    "toc": true
   },
   "source": [
    "<h1>Table of Contents<span class=\"tocSkip\"></span></h1>\n",
    "<div class=\"toc\" style=\"margin-top: 1em;\"><ul class=\"toc-item\"><li><ul class=\"toc-item\"><li><span><a href=\"#创建ndarray\" data-toc-modified-id=\"创建ndarray-0.1\"><span class=\"toc-item-num\">0.1&nbsp;&nbsp;</span>创建ndarray</a></span></li><li><span><a href=\"#ndarray的数据类型\" data-toc-modified-id=\"ndarray的数据类型-0.2\"><span class=\"toc-item-num\">0.2&nbsp;&nbsp;</span>ndarray的数据类型</a></span></li><li><span><a href=\"#数组与标量之间的运算\" data-toc-modified-id=\"数组与标量之间的运算-0.3\"><span class=\"toc-item-num\">0.3&nbsp;&nbsp;</span>数组与标量之间的运算</a></span></li><li><span><a href=\"#基本的索引和切片\" data-toc-modified-id=\"基本的索引和切片-0.4\"><span class=\"toc-item-num\">0.4&nbsp;&nbsp;</span>基本的索引和切片</a></span></li><li><span><a href=\"#切片索引\" data-toc-modified-id=\"切片索引-0.5\"><span class=\"toc-item-num\">0.5&nbsp;&nbsp;</span>切片索引</a></span></li><li><span><a href=\"#布尔型索引\" data-toc-modified-id=\"布尔型索引-0.6\"><span class=\"toc-item-num\">0.6&nbsp;&nbsp;</span>布尔型索引</a></span></li><li><span><a href=\"#花式索引\" data-toc-modified-id=\"花式索引-0.7\"><span class=\"toc-item-num\">0.7&nbsp;&nbsp;</span>花式索引</a></span></li><li><span><a href=\"#数组转置\" data-toc-modified-id=\"数组转置-0.8\"><span class=\"toc-item-num\">0.8&nbsp;&nbsp;</span>数组转置</a></span></li><li><span><a href=\"#通用函数\" data-toc-modified-id=\"通用函数-0.9\"><span class=\"toc-item-num\">0.9&nbsp;&nbsp;</span>通用函数</a></span></li><li><span><a href=\"#利用数组进行数据处理(矢量化)\" data-toc-modified-id=\"利用数组进行数据处理(矢量化)-0.10\"><span class=\"toc-item-num\">0.10&nbsp;&nbsp;</span>利用数组进行数据处理(矢量化)</a></span></li><li><span><a href=\"#where的妙用\" data-toc-modified-id=\"where的妙用-0.11\"><span class=\"toc-item-num\">0.11&nbsp;&nbsp;</span>where的妙用</a></span></li><li><span><a href=\"#数学和统计方法\" data-toc-modified-id=\"数学和统计方法-0.12\"><span class=\"toc-item-num\">0.12&nbsp;&nbsp;</span>数学和统计方法</a></span></li><li><span><a href=\"#基于布尔型数组的方法\" data-toc-modified-id=\"基于布尔型数组的方法-0.13\"><span class=\"toc-item-num\">0.13&nbsp;&nbsp;</span>基于布尔型数组的方法</a></span></li><li><span><a href=\"#排序\" data-toc-modified-id=\"排序-0.14\"><span class=\"toc-item-num\">0.14&nbsp;&nbsp;</span>排序</a></span></li><li><span><a href=\"#日期和时间\" data-toc-modified-id=\"日期和时间-0.15\"><span class=\"toc-item-num\">0.15&nbsp;&nbsp;</span>日期和时间</a></span><ul class=\"toc-item\"><li><span><a href=\"#tzinfo\" data-toc-modified-id=\"tzinfo-0.15.1\"><span class=\"toc-item-num\">0.15.1&nbsp;&nbsp;</span>tzinfo</a></span></li></ul></li><li><span><a href=\"#唯一化以及其他的集合逻辑\" data-toc-modified-id=\"唯一化以及其他的集合逻辑-0.16\"><span class=\"toc-item-num\">0.16&nbsp;&nbsp;</span>唯一化以及其他的集合逻辑</a></span></li><li><span><a href=\"#用于数组的文件输入输出\" data-toc-modified-id=\"用于数组的文件输入输出-0.17\"><span class=\"toc-item-num\">0.17&nbsp;&nbsp;</span>用于数组的文件输入输出</a></span></li><li><span><a href=\"#存取文本文件\" data-toc-modified-id=\"存取文本文件-0.18\"><span class=\"toc-item-num\">0.18&nbsp;&nbsp;</span>存取文本文件</a></span></li><li><span><a href=\"#线性代数\" data-toc-modified-id=\"线性代数-0.19\"><span class=\"toc-item-num\">0.19&nbsp;&nbsp;</span>线性代数</a></span></li><li><span><a href=\"#随机数生成\" data-toc-modified-id=\"随机数生成-0.20\"><span class=\"toc-item-num\">0.20&nbsp;&nbsp;</span>随机数生成</a></span></li><li><span><a href=\"#随机漫步\" data-toc-modified-id=\"随机漫步-0.21\"><span class=\"toc-item-num\">0.21&nbsp;&nbsp;</span>随机漫步</a></span></li></ul></li></ul></div>"
   ]
  },
  {
   "cell_type": "code",
   "execution_count": 2,
   "metadata": {
    "ExecuteTime": {
     "end_time": "2019-02-06T11:04:28.696095Z",
     "start_time": "2019-02-06T11:04:28.067717Z"
    },
    "collapsed": true
   },
   "outputs": [],
   "source": [
    "%matplotlib inline"
   ]
  },
  {
   "cell_type": "code",
   "execution_count": 3,
   "metadata": {
    "ExecuteTime": {
     "end_time": "2019-02-06T11:04:29.127405Z",
     "start_time": "2019-02-06T11:04:28.698650Z"
    },
    "collapsed": true
   },
   "outputs": [],
   "source": [
    "from __future__ import division\n",
    "from numpy.random import randn\n",
    "import numpy as np\n",
    "np.set_printoptions(precision=4, suppress=True)\n",
    "from pandas import DataFrame\n",
    "import pandas as pd"
   ]
  },
  {
   "cell_type": "code",
   "execution_count": 4,
   "metadata": {
    "ExecuteTime": {
     "end_time": "2019-02-06T11:04:29.161867Z",
     "start_time": "2019-02-06T11:04:29.129843Z"
    },
    "collapsed": true
   },
   "outputs": [],
   "source": [
    "df3 = DataFrame(np.random.randn(10, 5),\n",
    "                columns=['a', 'b', 'c', 'd', 'e'])"
   ]
  },
  {
   "cell_type": "code",
   "execution_count": 5,
   "metadata": {
    "ExecuteTime": {
     "end_time": "2019-02-06T11:04:29.194735Z",
     "start_time": "2019-02-06T11:04:29.164055Z"
    }
   },
   "outputs": [
    {
     "data": {
      "text/plain": [
       "array([[ 1.3434, -0.5583,  0.6772],\n",
       "       [-0.5031, -0.2655,  1.6148]])"
      ]
     },
     "execution_count": 5,
     "metadata": {},
     "output_type": "execute_result"
    }
   ],
   "source": [
    "data = randn(2, 3)\n",
    "data"
   ]
  },
  {
   "cell_type": "code",
   "execution_count": 6,
   "metadata": {
    "ExecuteTime": {
     "end_time": "2019-02-06T11:04:29.228261Z",
     "start_time": "2019-02-06T11:04:29.196806Z"
    }
   },
   "outputs": [
    {
     "data": {
      "text/plain": [
       "array([[ 2.6868, -1.1166,  1.3544],\n",
       "       [-1.0063, -0.531 ,  3.2296]])"
      ]
     },
     "execution_count": 6,
     "metadata": {},
     "output_type": "execute_result"
    }
   ],
   "source": [
    "data + data"
   ]
  },
  {
   "cell_type": "code",
   "execution_count": 7,
   "metadata": {
    "ExecuteTime": {
     "end_time": "2019-02-06T11:04:29.277679Z",
     "start_time": "2019-02-06T11:04:29.230526Z"
    }
   },
   "outputs": [
    {
     "data": {
      "text/plain": [
       "array([[ 13.434 ,  -5.5828,   6.7721],\n",
       "       [ -5.0314,  -2.6551,  16.1481]])"
      ]
     },
     "execution_count": 7,
     "metadata": {},
     "output_type": "execute_result"
    }
   ],
   "source": [
    "data * 10"
   ]
  },
  {
   "cell_type": "code",
   "execution_count": 8,
   "metadata": {
    "ExecuteTime": {
     "end_time": "2019-02-06T11:04:29.319064Z",
     "start_time": "2019-02-06T11:04:29.280536Z"
    }
   },
   "outputs": [
    {
     "data": {
      "text/plain": [
       "(2, 3)"
      ]
     },
     "execution_count": 8,
     "metadata": {},
     "output_type": "execute_result"
    }
   ],
   "source": [
    "data.shape"
   ]
  },
  {
   "cell_type": "code",
   "execution_count": 9,
   "metadata": {
    "ExecuteTime": {
     "end_time": "2019-02-06T11:04:29.355013Z",
     "start_time": "2019-02-06T11:04:29.321743Z"
    }
   },
   "outputs": [
    {
     "data": {
      "text/plain": [
       "dtype('float64')"
      ]
     },
     "execution_count": 9,
     "metadata": {},
     "output_type": "execute_result"
    }
   ],
   "source": [
    "data.dtype"
   ]
  },
  {
   "cell_type": "markdown",
   "metadata": {},
   "source": [
    "## 创建ndarray"
   ]
  },
  {
   "cell_type": "code",
   "execution_count": 10,
   "metadata": {
    "ExecuteTime": {
     "end_time": "2019-02-06T11:04:29.387501Z",
     "start_time": "2019-02-06T11:04:29.357579Z"
    }
   },
   "outputs": [
    {
     "data": {
      "text/plain": [
       "array([ 6. ,  7.5,  8. ,  0. ,  1. ])"
      ]
     },
     "execution_count": 10,
     "metadata": {},
     "output_type": "execute_result"
    }
   ],
   "source": [
    "data1 = [6, 7.5, 8, 0, 1]\n",
    "arr1 = np.array(data1)\n",
    "arr1"
   ]
  },
  {
   "cell_type": "code",
   "execution_count": 11,
   "metadata": {
    "ExecuteTime": {
     "end_time": "2019-02-06T11:04:29.418497Z",
     "start_time": "2019-02-06T11:04:29.389892Z"
    }
   },
   "outputs": [
    {
     "name": "stdout",
     "output_type": "stream",
     "text": [
      "(2, 3)\n",
      "2\n",
      "float64\n"
     ]
    }
   ],
   "source": [
    "arr2 = np.array([[1,2,3], [2.3, 4, 5]])\n",
    "print(arr2.shape)\n",
    "print(arr2.ndim)\n",
    "print(arr2.dtype)"
   ]
  },
  {
   "cell_type": "code",
   "execution_count": 12,
   "metadata": {
    "ExecuteTime": {
     "end_time": "2019-02-06T11:04:29.448432Z",
     "start_time": "2019-02-06T11:04:29.420989Z"
    }
   },
   "outputs": [
    {
     "data": {
      "text/plain": [
       "array(3.5)"
      ]
     },
     "execution_count": 12,
     "metadata": {},
     "output_type": "execute_result"
    }
   ],
   "source": [
    "np.array(3.5)"
   ]
  },
  {
   "cell_type": "code",
   "execution_count": 13,
   "metadata": {
    "ExecuteTime": {
     "end_time": "2019-02-06T11:04:29.497419Z",
     "start_time": "2019-02-06T11:04:29.450991Z"
    }
   },
   "outputs": [
    {
     "data": {
      "text/plain": [
       "3.0"
      ]
     },
     "execution_count": 13,
     "metadata": {},
     "output_type": "execute_result"
    }
   ],
   "source": [
    "arr2[0][2]"
   ]
  },
  {
   "cell_type": "code",
   "execution_count": 14,
   "metadata": {
    "ExecuteTime": {
     "end_time": "2019-02-06T11:04:29.538898Z",
     "start_time": "2019-02-06T11:04:29.502166Z"
    }
   },
   "outputs": [
    {
     "data": {
      "text/plain": [
       "array([[[ 2.,  2.,  0.],\n",
       "        [ 0.,  0.,  0.],\n",
       "        [ 0.,  0.,  0.]],\n",
       "\n",
       "       [[ 0.,  0.,  0.],\n",
       "        [ 0.,  0.,  0.],\n",
       "        [ 0.,  2.,  2.]]])"
      ]
     },
     "execution_count": 14,
     "metadata": {},
     "output_type": "execute_result"
    }
   ],
   "source": [
    "np.empty((2,3,3))"
   ]
  },
  {
   "cell_type": "code",
   "execution_count": 15,
   "metadata": {
    "ExecuteTime": {
     "end_time": "2019-02-06T11:04:29.572362Z",
     "start_time": "2019-02-06T11:04:29.541328Z"
    }
   },
   "outputs": [
    {
     "data": {
      "text/plain": [
       "array([[[ 0.,  0.,  0.],\n",
       "        [ 0.,  0.,  0.],\n",
       "        [ 0.,  0.,  0.]],\n",
       "\n",
       "       [[ 0.,  0.,  0.],\n",
       "        [ 0.,  0.,  0.],\n",
       "        [ 0.,  0.,  0.]]])"
      ]
     },
     "execution_count": 15,
     "metadata": {},
     "output_type": "execute_result"
    }
   ],
   "source": [
    "np.zeros((2,3,3))"
   ]
  },
  {
   "cell_type": "code",
   "execution_count": 16,
   "metadata": {
    "ExecuteTime": {
     "end_time": "2019-02-06T11:04:29.603490Z",
     "start_time": "2019-02-06T11:04:29.574399Z"
    }
   },
   "outputs": [
    {
     "data": {
      "text/plain": [
       "array([ True,  True,  True], dtype=bool)"
      ]
     },
     "execution_count": 16,
     "metadata": {},
     "output_type": "execute_result"
    }
   ],
   "source": [
    "np.ones((3,))  == np.ones(3)"
   ]
  },
  {
   "cell_type": "code",
   "execution_count": 17,
   "metadata": {
    "ExecuteTime": {
     "end_time": "2019-02-06T11:04:29.648321Z",
     "start_time": "2019-02-06T11:04:29.606100Z"
    }
   },
   "outputs": [
    {
     "data": {
      "text/plain": [
       "(3,)"
      ]
     },
     "execution_count": 17,
     "metadata": {},
     "output_type": "execute_result"
    }
   ],
   "source": [
    "np.ones(3).shape"
   ]
  },
  {
   "cell_type": "code",
   "execution_count": 18,
   "metadata": {
    "ExecuteTime": {
     "end_time": "2019-02-06T11:04:29.688467Z",
     "start_time": "2019-02-06T11:04:29.651257Z"
    }
   },
   "outputs": [
    {
     "data": {
      "text/plain": [
       "(3,)"
      ]
     },
     "execution_count": 18,
     "metadata": {},
     "output_type": "execute_result"
    }
   ],
   "source": [
    "np.ones((3,)).shape"
   ]
  },
  {
   "cell_type": "code",
   "execution_count": 19,
   "metadata": {
    "ExecuteTime": {
     "end_time": "2019-02-06T11:04:29.745591Z",
     "start_time": "2019-02-06T11:04:29.692722Z"
    }
   },
   "outputs": [
    {
     "data": {
      "text/plain": [
       "array([0, 1, 2, 3, 4])"
      ]
     },
     "execution_count": 19,
     "metadata": {},
     "output_type": "execute_result"
    }
   ],
   "source": [
    "np.arange(5)"
   ]
  },
  {
   "cell_type": "code",
   "execution_count": 20,
   "metadata": {
    "ExecuteTime": {
     "end_time": "2019-02-06T11:04:29.786027Z",
     "start_time": "2019-02-06T11:04:29.749845Z"
    },
    "collapsed": true
   },
   "outputs": [],
   "source": [
    "a1 = np.asarray([1,2,3])"
   ]
  },
  {
   "cell_type": "code",
   "execution_count": 21,
   "metadata": {
    "ExecuteTime": {
     "end_time": "2019-02-06T11:04:29.829526Z",
     "start_time": "2019-02-06T11:04:29.788910Z"
    }
   },
   "outputs": [
    {
     "data": {
      "text/plain": [
       "True"
      ]
     },
     "execution_count": 21,
     "metadata": {},
     "output_type": "execute_result"
    }
   ],
   "source": [
    "np.asarray(a1) is a1"
   ]
  },
  {
   "cell_type": "code",
   "execution_count": 22,
   "metadata": {
    "ExecuteTime": {
     "end_time": "2019-02-06T11:04:29.865216Z",
     "start_time": "2019-02-06T11:04:29.832088Z"
    }
   },
   "outputs": [
    {
     "data": {
      "text/plain": [
       "False"
      ]
     },
     "execution_count": 22,
     "metadata": {},
     "output_type": "execute_result"
    }
   ],
   "source": [
    "np.array([1,2,3]) is np.array([1,2,3])"
   ]
  },
  {
   "cell_type": "code",
   "execution_count": 23,
   "metadata": {
    "ExecuteTime": {
     "end_time": "2019-02-06T11:04:29.900949Z",
     "start_time": "2019-02-06T11:04:29.867925Z"
    }
   },
   "outputs": [
    {
     "data": {
      "text/plain": [
       "True"
      ]
     },
     "execution_count": 23,
     "metadata": {},
     "output_type": "execute_result"
    }
   ],
   "source": [
    "np.asarray(a1) is np.asarray(a1)"
   ]
  },
  {
   "cell_type": "code",
   "execution_count": 24,
   "metadata": {
    "ExecuteTime": {
     "end_time": "2019-02-06T11:04:29.948835Z",
     "start_time": "2019-02-06T11:04:29.904665Z"
    }
   },
   "outputs": [
    {
     "data": {
      "text/plain": [
       "array([1, 2, 3])"
      ]
     },
     "execution_count": 24,
     "metadata": {},
     "output_type": "execute_result"
    }
   ],
   "source": [
    "np.asanyarray(a1)"
   ]
  },
  {
   "cell_type": "code",
   "execution_count": 25,
   "metadata": {
    "ExecuteTime": {
     "end_time": "2019-02-06T11:04:30.010923Z",
     "start_time": "2019-02-06T11:04:29.957669Z"
    }
   },
   "outputs": [
    {
     "data": {
      "text/plain": [
       "array([1, 1, 1])"
      ]
     },
     "execution_count": 25,
     "metadata": {},
     "output_type": "execute_result"
    }
   ],
   "source": [
    "np.ones_like(a1)"
   ]
  },
  {
   "cell_type": "code",
   "execution_count": 26,
   "metadata": {
    "ExecuteTime": {
     "end_time": "2019-02-06T11:04:30.056895Z",
     "start_time": "2019-02-06T11:04:30.013807Z"
    }
   },
   "outputs": [
    {
     "data": {
      "text/plain": [
       "array([1, 2, 3])"
      ]
     },
     "execution_count": 26,
     "metadata": {},
     "output_type": "execute_result"
    }
   ],
   "source": [
    "np.empty_like(a1)"
   ]
  },
  {
   "cell_type": "code",
   "execution_count": 27,
   "metadata": {
    "ExecuteTime": {
     "end_time": "2019-02-06T11:04:30.090640Z",
     "start_time": "2019-02-06T11:04:30.059173Z"
    }
   },
   "outputs": [
    {
     "data": {
      "text/plain": [
       "array([ 0.,  0.,  0.])"
      ]
     },
     "execution_count": 27,
     "metadata": {},
     "output_type": "execute_result"
    }
   ],
   "source": [
    "np.zeros_like(a1, dtype=np.float64)"
   ]
  },
  {
   "cell_type": "code",
   "execution_count": 28,
   "metadata": {
    "ExecuteTime": {
     "end_time": "2019-02-06T11:04:30.125416Z",
     "start_time": "2019-02-06T11:04:30.092861Z"
    }
   },
   "outputs": [
    {
     "data": {
      "text/plain": [
       "array([[[4611686018427387904, 4611686018427387904],\n",
       "        [         4535222278,          4535227856]],\n",
       "\n",
       "       [[         4535227920,          4535227984],\n",
       "        [         4535228048,          4535228112]],\n",
       "\n",
       "       [[         4535228176,          4535228240],\n",
       "        [         4535228304,    1821892804619890]]])"
      ]
     },
     "execution_count": 28,
     "metadata": {},
     "output_type": "execute_result"
    }
   ],
   "source": [
    "a = np.random.rand(3, 2, 2)\n",
    "np.empty_like(a, dtype=np.int64)"
   ]
  },
  {
   "cell_type": "code",
   "execution_count": 29,
   "metadata": {
    "ExecuteTime": {
     "end_time": "2019-02-06T11:04:30.165505Z",
     "start_time": "2019-02-06T11:04:30.127532Z"
    }
   },
   "outputs": [
    {
     "data": {
      "text/plain": [
       "array([[1, 0, 0, 0, 0],\n",
       "       [0, 1, 0, 0, 0],\n",
       "       [0, 0, 1, 0, 0],\n",
       "       [0, 0, 0, 1, 0],\n",
       "       [0, 0, 0, 0, 1]])"
      ]
     },
     "execution_count": 29,
     "metadata": {},
     "output_type": "execute_result"
    }
   ],
   "source": [
    "np.eye(5, dtype=np.int64)"
   ]
  },
  {
   "cell_type": "markdown",
   "metadata": {},
   "source": [
    "## ndarray的数据类型"
   ]
  },
  {
   "cell_type": "code",
   "execution_count": 30,
   "metadata": {
    "ExecuteTime": {
     "end_time": "2019-02-06T11:04:30.220751Z",
     "start_time": "2019-02-06T11:04:30.169042Z"
    }
   },
   "outputs": [
    {
     "data": {
      "text/plain": [
       "dtype('float64')"
      ]
     },
     "execution_count": 30,
     "metadata": {},
     "output_type": "execute_result"
    }
   ],
   "source": [
    "arr1 = np.array([1, 2, 3], dtype=np.float64)\n",
    "arr1.dtype"
   ]
  },
  {
   "cell_type": "code",
   "execution_count": 31,
   "metadata": {
    "ExecuteTime": {
     "end_time": "2019-02-06T11:04:30.268155Z",
     "start_time": "2019-02-06T11:04:30.223984Z"
    }
   },
   "outputs": [
    {
     "data": {
      "text/plain": [
       "dtype('int64')"
      ]
     },
     "execution_count": 31,
     "metadata": {},
     "output_type": "execute_result"
    }
   ],
   "source": [
    "arr2 = np.array([1, 2, 3], dtype=np.int)\n",
    "arr2.dtype"
   ]
  },
  {
   "cell_type": "code",
   "execution_count": 32,
   "metadata": {
    "ExecuteTime": {
     "end_time": "2019-02-06T11:04:30.305618Z",
     "start_time": "2019-02-06T11:04:30.271827Z"
    }
   },
   "outputs": [
    {
     "data": {
      "text/plain": [
       "dtype('int64')"
      ]
     },
     "execution_count": 32,
     "metadata": {},
     "output_type": "execute_result"
    }
   ],
   "source": [
    "arr = np.array([1, 2, 3, 4, 5])\n",
    "arr.dtype"
   ]
  },
  {
   "cell_type": "code",
   "execution_count": 33,
   "metadata": {
    "ExecuteTime": {
     "end_time": "2019-02-06T11:04:30.340013Z",
     "start_time": "2019-02-06T11:04:30.308022Z"
    }
   },
   "outputs": [
    {
     "data": {
      "text/plain": [
       "dtype('float64')"
      ]
     },
     "execution_count": 33,
     "metadata": {},
     "output_type": "execute_result"
    }
   ],
   "source": [
    "arr = arr.astype('f8')\n",
    "arr.dtype"
   ]
  },
  {
   "cell_type": "code",
   "execution_count": 34,
   "metadata": {
    "ExecuteTime": {
     "end_time": "2019-02-06T11:04:30.377861Z",
     "start_time": "2019-02-06T11:04:30.343056Z"
    }
   },
   "outputs": [
    {
     "name": "stdout",
     "output_type": "stream",
     "text": [
      "float64\n"
     ]
    },
    {
     "data": {
      "text/plain": [
       "array([ 3, -1, -2,  0, 12, 10], dtype=int32)"
      ]
     },
     "execution_count": 34,
     "metadata": {},
     "output_type": "execute_result"
    }
   ],
   "source": [
    "arr = np.array([3.7, -1.2, -2.6, 0.5, 12.9, 10.1])\n",
    "print(arr.dtype)\n",
    "arr.astype(np.int32)"
   ]
  },
  {
   "cell_type": "code",
   "execution_count": 35,
   "metadata": {
    "ExecuteTime": {
     "end_time": "2019-02-06T11:04:30.440715Z",
     "start_time": "2019-02-06T11:04:30.387217Z"
    }
   },
   "outputs": [
    {
     "data": {
      "text/plain": [
       "array([ 0.,  1.,  2.,  3.,  4.,  5.,  6.,  7.,  8.,  9.], dtype=float32)"
      ]
     },
     "execution_count": 35,
     "metadata": {},
     "output_type": "execute_result"
    }
   ],
   "source": [
    "int_array = np.arange(10)\n",
    "calibers = np.array([.22, .270, .357, .380, .44, .50], dtype=np.float32)\n",
    "int_array.astype(calibers.dtype)"
   ]
  },
  {
   "cell_type": "code",
   "execution_count": 36,
   "metadata": {
    "ExecuteTime": {
     "end_time": "2019-02-06T11:04:30.483648Z",
     "start_time": "2019-02-06T11:04:30.443679Z"
    }
   },
   "outputs": [
    {
     "data": {
      "text/plain": [
       "array([         0, 1075314688,          0, 1075707904,          0,\n",
       "       1075838976,          0, 1072693248], dtype=uint32)"
      ]
     },
     "execution_count": 36,
     "metadata": {},
     "output_type": "execute_result"
    }
   ],
   "source": [
    "empty_uint32 = np.empty(8, dtype='u4')\n",
    "empty_uint32"
   ]
  },
  {
   "cell_type": "code",
   "execution_count": 37,
   "metadata": {
    "ExecuteTime": {
     "end_time": "2019-02-06T11:04:30.517998Z",
     "start_time": "2019-02-06T11:04:30.486468Z"
    }
   },
   "outputs": [
    {
     "data": {
      "text/plain": [
       "array(['1.2', '-9.6', '42'],\n",
       "      dtype='|S4')"
      ]
     },
     "execution_count": 37,
     "metadata": {},
     "output_type": "execute_result"
    }
   ],
   "source": [
    "numeric_strings = np.array(['1.2', '-9.6', '42'], dtype=np.string_)\n",
    "numeric_strings"
   ]
  },
  {
   "cell_type": "code",
   "execution_count": 38,
   "metadata": {
    "ExecuteTime": {
     "end_time": "2019-02-06T11:04:30.550158Z",
     "start_time": "2019-02-06T11:04:30.520040Z"
    }
   },
   "outputs": [
    {
     "data": {
      "text/plain": [
       "array([  1.2,  -9.6,  42. ])"
      ]
     },
     "execution_count": 38,
     "metadata": {},
     "output_type": "execute_result"
    }
   ],
   "source": [
    "numeric_strings.astype(np.float)"
   ]
  },
  {
   "cell_type": "code",
   "execution_count": 39,
   "metadata": {
    "ExecuteTime": {
     "end_time": "2019-02-06T11:04:30.587158Z",
     "start_time": "2019-02-06T11:04:30.552723Z"
    }
   },
   "outputs": [
    {
     "data": {
      "text/plain": [
       "array(['x2', '-92', '42'],\n",
       "      dtype='|S3')"
      ]
     },
     "execution_count": 39,
     "metadata": {},
     "output_type": "execute_result"
    }
   ],
   "source": [
    "invalid_numeric_strings = np.array(['x2', '-92', '42'])\n",
    "invalid_numeric_strings"
   ]
  },
  {
   "cell_type": "code",
   "execution_count": 40,
   "metadata": {
    "ExecuteTime": {
     "end_time": "2019-02-06T11:04:30.651837Z",
     "start_time": "2019-02-06T11:04:30.590252Z"
    }
   },
   "outputs": [
    {
     "name": "stdout",
     "output_type": "stream",
     "text": [
      "invalid literal for int() with base 10: 'x2'\n"
     ]
    }
   ],
   "source": [
    "try:\n",
    "    invalid_numeric_strings.astype(int)\n",
    "except ValueError as e:\n",
    "    print(e)"
   ]
  },
  {
   "cell_type": "code",
   "execution_count": 41,
   "metadata": {
    "ExecuteTime": {
     "end_time": "2019-02-06T11:04:30.694547Z",
     "start_time": "2019-02-06T11:04:30.655354Z"
    }
   },
   "outputs": [
    {
     "data": {
      "text/plain": [
       "array(['x2', '-92', <object object at 0x1103474c0>], dtype=object)"
      ]
     },
     "execution_count": 41,
     "metadata": {},
     "output_type": "execute_result"
    }
   ],
   "source": [
    "invalid_numeric_obj = np.array(['x2', '-92', object()])\n",
    "invalid_numeric_obj"
   ]
  },
  {
   "cell_type": "markdown",
   "metadata": {},
   "source": [
    "## 数组与标量之间的运算"
   ]
  },
  {
   "cell_type": "code",
   "execution_count": 42,
   "metadata": {
    "ExecuteTime": {
     "end_time": "2019-02-06T11:04:30.731648Z",
     "start_time": "2019-02-06T11:04:30.697630Z"
    }
   },
   "outputs": [
    {
     "data": {
      "text/plain": [
       "array([[ 1.,  2.,  3.],\n",
       "       [ 4.,  5.,  6.]])"
      ]
     },
     "execution_count": 42,
     "metadata": {},
     "output_type": "execute_result"
    }
   ],
   "source": [
    "arr = np.array([[1., 2., 3.], [4., 5., 6.]])\n",
    "arr\n"
   ]
  },
  {
   "cell_type": "code",
   "execution_count": 43,
   "metadata": {
    "ExecuteTime": {
     "end_time": "2019-02-06T11:04:30.768110Z",
     "start_time": "2019-02-06T11:04:30.734721Z"
    }
   },
   "outputs": [
    {
     "data": {
      "text/plain": [
       "array([[  1.,   4.,   9.],\n",
       "       [ 16.,  25.,  36.]])"
      ]
     },
     "execution_count": 43,
     "metadata": {},
     "output_type": "execute_result"
    }
   ],
   "source": [
    "arr * arr\n"
   ]
  },
  {
   "cell_type": "code",
   "execution_count": 44,
   "metadata": {
    "ExecuteTime": {
     "end_time": "2019-02-06T11:04:30.809391Z",
     "start_time": "2019-02-06T11:04:30.770406Z"
    }
   },
   "outputs": [
    {
     "data": {
      "text/plain": [
       "array([[ 0.,  0.,  0.],\n",
       "       [ 0.,  0.,  0.]])"
      ]
     },
     "execution_count": 44,
     "metadata": {},
     "output_type": "execute_result"
    }
   ],
   "source": [
    "arr - arr"
   ]
  },
  {
   "cell_type": "code",
   "execution_count": 45,
   "metadata": {
    "ExecuteTime": {
     "end_time": "2019-02-06T11:04:30.867167Z",
     "start_time": "2019-02-06T11:04:30.814602Z"
    }
   },
   "outputs": [
    {
     "data": {
      "text/plain": [
       "array([[ 1.    ,  0.5   ,  0.3333],\n",
       "       [ 0.25  ,  0.2   ,  0.1667]])"
      ]
     },
     "execution_count": 45,
     "metadata": {},
     "output_type": "execute_result"
    }
   ],
   "source": [
    "1 / arr"
   ]
  },
  {
   "cell_type": "markdown",
   "metadata": {
    "ExecuteTime": {
     "end_time": "2019-01-22T22:52:40.563583Z",
     "start_time": "2019-01-22T22:52:40.537183Z"
    }
   },
   "source": [
    "## 基本的索引和切片"
   ]
  },
  {
   "cell_type": "code",
   "execution_count": 46,
   "metadata": {
    "ExecuteTime": {
     "end_time": "2019-02-06T11:04:30.914246Z",
     "start_time": "2019-02-06T11:04:30.870276Z"
    }
   },
   "outputs": [
    {
     "name": "stdout",
     "output_type": "stream",
     "text": [
      "int64\n"
     ]
    },
    {
     "data": {
      "text/plain": [
       "array([0, 1, 2, 3, 4, 5, 6, 7, 8, 9])"
      ]
     },
     "execution_count": 46,
     "metadata": {},
     "output_type": "execute_result"
    }
   ],
   "source": [
    "arr = np.arange(10)\n",
    "print(arr.dtype)\n",
    "arr"
   ]
  },
  {
   "cell_type": "code",
   "execution_count": 47,
   "metadata": {
    "ExecuteTime": {
     "end_time": "2019-02-06T11:04:30.950606Z",
     "start_time": "2019-02-06T11:04:30.917528Z"
    },
    "collapsed": true
   },
   "outputs": [],
   "source": [
    "arr[5] = 100.88"
   ]
  },
  {
   "cell_type": "code",
   "execution_count": 48,
   "metadata": {
    "ExecuteTime": {
     "end_time": "2019-02-06T11:04:30.990899Z",
     "start_time": "2019-02-06T11:04:30.954108Z"
    }
   },
   "outputs": [
    {
     "data": {
      "text/plain": [
       "array([  0,   1,   2,   3,   4, 100,   6,   7,   8,   9])"
      ]
     },
     "execution_count": 48,
     "metadata": {},
     "output_type": "execute_result"
    }
   ],
   "source": [
    "arr"
   ]
  },
  {
   "cell_type": "code",
   "execution_count": 49,
   "metadata": {
    "ExecuteTime": {
     "end_time": "2019-02-06T11:04:31.055305Z",
     "start_time": "2019-02-06T11:04:30.997744Z"
    }
   },
   "outputs": [
    {
     "data": {
      "text/plain": [
       "array([  0,   1,   2,   3,   4, 100,   6,   7,  12,  12])"
      ]
     },
     "execution_count": 49,
     "metadata": {},
     "output_type": "execute_result"
    }
   ],
   "source": [
    "arr[8:10] = 12\n",
    "arr"
   ]
  },
  {
   "cell_type": "code",
   "execution_count": 50,
   "metadata": {
    "ExecuteTime": {
     "end_time": "2019-02-06T11:04:31.121482Z",
     "start_time": "2019-02-06T11:04:31.058058Z"
    }
   },
   "outputs": [
    {
     "data": {
      "text/plain": [
       "array([1, 2])"
      ]
     },
     "execution_count": 50,
     "metadata": {},
     "output_type": "execute_result"
    }
   ],
   "source": [
    "arr_slice = arr[1:3]\n",
    "arr_slice"
   ]
  },
  {
   "cell_type": "code",
   "execution_count": 51,
   "metadata": {
    "ExecuteTime": {
     "end_time": "2019-02-06T11:04:31.187909Z",
     "start_time": "2019-02-06T11:04:31.127583Z"
    }
   },
   "outputs": [
    {
     "data": {
      "text/plain": [
       "array([   0, -100, -100,    3,    4,  100,    6,    7,   12,   12])"
      ]
     },
     "execution_count": 51,
     "metadata": {},
     "output_type": "execute_result"
    }
   ],
   "source": [
    "arr_slice[:] = -100\n",
    "arr"
   ]
  },
  {
   "cell_type": "code",
   "execution_count": 52,
   "metadata": {
    "ExecuteTime": {
     "end_time": "2019-02-06T11:04:31.238093Z",
     "start_time": "2019-02-06T11:04:31.191600Z"
    }
   },
   "outputs": [
    {
     "name": "stdout",
     "output_type": "stream",
     "text": [
      "[2, 3]\n",
      "[2, 13]\n",
      "[1, 2, 3, 4]\n"
     ]
    }
   ],
   "source": [
    "l = [1, 2, 3, 4]\n",
    "l_slice = l[1:3]\n",
    "print(l_slice)\n",
    "l_slice[1] = 13\n",
    "print(l_slice)\n",
    "print(l)"
   ]
  },
  {
   "cell_type": "code",
   "execution_count": 53,
   "metadata": {
    "ExecuteTime": {
     "end_time": "2019-02-06T11:04:31.276201Z",
     "start_time": "2019-02-06T11:04:31.241745Z"
    }
   },
   "outputs": [
    {
     "data": {
      "text/plain": [
       "array([100, 100])"
      ]
     },
     "execution_count": 53,
     "metadata": {},
     "output_type": "execute_result"
    }
   ],
   "source": [
    "arr = np.arange(10)\n",
    "arr_slice_copy = arr[1:3].copy()\n",
    "arr_slice_copy[:] = 100\n",
    "arr_slice_copy"
   ]
  },
  {
   "cell_type": "code",
   "execution_count": 54,
   "metadata": {
    "ExecuteTime": {
     "end_time": "2019-02-06T11:04:31.333281Z",
     "start_time": "2019-02-06T11:04:31.278648Z"
    }
   },
   "outputs": [
    {
     "data": {
      "text/plain": [
       "array([0, 1, 2, 3, 4, 5, 6, 7, 8, 9])"
      ]
     },
     "execution_count": 54,
     "metadata": {},
     "output_type": "execute_result"
    }
   ],
   "source": [
    "arr"
   ]
  },
  {
   "cell_type": "code",
   "execution_count": 55,
   "metadata": {
    "ExecuteTime": {
     "end_time": "2019-02-06T11:04:31.397980Z",
     "start_time": "2019-02-06T11:04:31.339999Z"
    }
   },
   "outputs": [
    {
     "data": {
      "text/plain": [
       "array([[1, 2, 3],\n",
       "       [4, 5, 6],\n",
       "       [7, 8, 9]])"
      ]
     },
     "execution_count": 55,
     "metadata": {},
     "output_type": "execute_result"
    }
   ],
   "source": [
    "arr2d = np.array([[1, 2, 3], [4, 5, 6], [7, 8, 9]])\n",
    "arr2d"
   ]
  },
  {
   "cell_type": "code",
   "execution_count": 56,
   "metadata": {
    "ExecuteTime": {
     "end_time": "2019-02-06T11:04:31.461555Z",
     "start_time": "2019-02-06T11:04:31.404293Z"
    }
   },
   "outputs": [
    {
     "name": "stdout",
     "output_type": "stream",
     "text": [
      "[array([1, 2, 3]), array([2, 3, 4]), array([3, 4, 5])]\n"
     ]
    },
    {
     "data": {
      "text/plain": [
       "array([[ 1.,  2.,  3.],\n",
       "       [ 2.,  3.,  4.],\n",
       "       [ 3.,  4.,  5.]], dtype=float32)"
      ]
     },
     "execution_count": 56,
     "metadata": {},
     "output_type": "execute_result"
    }
   ],
   "source": [
    "arr2d = np.array([np.arange(i+1, i+4) for i in range(3)], dtype=np.float32)\n",
    "print([np.arange(i+1, i+4) for i in range(3)])\n",
    "arr2d"
   ]
  },
  {
   "cell_type": "code",
   "execution_count": 57,
   "metadata": {
    "ExecuteTime": {
     "end_time": "2019-02-06T11:04:31.501255Z",
     "start_time": "2019-02-06T11:04:31.464792Z"
    }
   },
   "outputs": [
    {
     "data": {
      "text/plain": [
       "13.0"
      ]
     },
     "execution_count": 57,
     "metadata": {},
     "output_type": "execute_result"
    }
   ],
   "source": [
    "arr2d[0][2] + 10"
   ]
  },
  {
   "cell_type": "code",
   "execution_count": 58,
   "metadata": {
    "ExecuteTime": {
     "end_time": "2019-02-06T11:04:31.533635Z",
     "start_time": "2019-02-06T11:04:31.503859Z"
    }
   },
   "outputs": [
    {
     "data": {
      "text/plain": [
       "3.0"
      ]
     },
     "execution_count": 58,
     "metadata": {},
     "output_type": "execute_result"
    }
   ],
   "source": [
    "arr2d[0, 2]"
   ]
  },
  {
   "cell_type": "code",
   "execution_count": 59,
   "metadata": {
    "ExecuteTime": {
     "end_time": "2019-02-06T11:04:31.568437Z",
     "start_time": "2019-02-06T11:04:31.536439Z"
    }
   },
   "outputs": [
    {
     "data": {
      "text/plain": [
       "array([[[ 1.,  2.,  3.],\n",
       "        [ 2.,  3.,  4.],\n",
       "        [ 3.,  4.,  5.]],\n",
       "\n",
       "       [[ 1.,  2.,  3.],\n",
       "        [ 2.,  3.,  4.],\n",
       "        [ 3.,  4.,  5.]]], dtype=float32)"
      ]
     },
     "execution_count": 59,
     "metadata": {},
     "output_type": "execute_result"
    }
   ],
   "source": [
    "arr3d_ = np.array([arr2d, arr2d])\n",
    "arr3d_"
   ]
  },
  {
   "cell_type": "code",
   "execution_count": 60,
   "metadata": {
    "ExecuteTime": {
     "end_time": "2019-02-06T11:04:31.613735Z",
     "start_time": "2019-02-06T11:04:31.570755Z"
    }
   },
   "outputs": [
    {
     "data": {
      "text/plain": [
       "array([[    1.,     2., -1000.],\n",
       "       [    2.,     3.,     4.],\n",
       "       [    3.,     4.,     5.]], dtype=float32)"
      ]
     },
     "execution_count": 60,
     "metadata": {},
     "output_type": "execute_result"
    }
   ],
   "source": [
    "arr2d[0, 2] = -1000\n",
    "arr2d"
   ]
  },
  {
   "cell_type": "code",
   "execution_count": 61,
   "metadata": {
    "ExecuteTime": {
     "end_time": "2019-02-06T11:04:31.674658Z",
     "start_time": "2019-02-06T11:04:31.619261Z"
    }
   },
   "outputs": [
    {
     "data": {
      "text/plain": [
       "array([[[ 1.,  2.,  3.],\n",
       "        [ 2.,  3.,  4.],\n",
       "        [ 3.,  4.,  5.]],\n",
       "\n",
       "       [[ 1.,  2.,  3.],\n",
       "        [ 2.,  3.,  4.],\n",
       "        [ 3.,  4.,  5.]]], dtype=float32)"
      ]
     },
     "execution_count": 61,
     "metadata": {},
     "output_type": "execute_result"
    }
   ],
   "source": [
    "arr3d_"
   ]
  },
  {
   "cell_type": "code",
   "execution_count": 62,
   "metadata": {
    "ExecuteTime": {
     "end_time": "2019-02-06T11:04:31.720467Z",
     "start_time": "2019-02-06T11:04:31.678262Z"
    }
   },
   "outputs": [
    {
     "data": {
      "text/plain": [
       "array([[[ 1.,  2.,  3.],\n",
       "        [ 2.,  3.,  4.],\n",
       "        [ 3.,  4.,  5.]],\n",
       "\n",
       "       [[ 1.,  2.,  3.],\n",
       "        [ 2.,  3.,  4.],\n",
       "        [ 3.,  4.,  5.]]], dtype=float32)"
      ]
     },
     "execution_count": 62,
     "metadata": {},
     "output_type": "execute_result"
    }
   ],
   "source": [
    "arr2d = np.array([np.arange(i+1, i+4) for i in range(3)], dtype=np.float32)\n",
    "arr3d = np.array([arr2d.copy(), arr2d.copy()])\n",
    "arr3d"
   ]
  },
  {
   "cell_type": "code",
   "execution_count": 63,
   "metadata": {
    "ExecuteTime": {
     "end_time": "2019-02-06T11:04:31.756078Z",
     "start_time": "2019-02-06T11:04:31.722823Z"
    }
   },
   "outputs": [
    {
     "data": {
      "text/plain": [
       "array([[    1.,     2., -1000.],\n",
       "       [    2.,     3.,     4.],\n",
       "       [    3.,     4.,     5.]], dtype=float32)"
      ]
     },
     "execution_count": 63,
     "metadata": {},
     "output_type": "execute_result"
    }
   ],
   "source": [
    "arr2d[0, 2] = -1000\n",
    "arr2d"
   ]
  },
  {
   "cell_type": "code",
   "execution_count": 64,
   "metadata": {
    "ExecuteTime": {
     "end_time": "2019-02-06T11:04:31.790824Z",
     "start_time": "2019-02-06T11:04:31.758089Z"
    }
   },
   "outputs": [
    {
     "data": {
      "text/plain": [
       "array([[[ 1.,  2.,  3.],\n",
       "        [ 2.,  3.,  4.],\n",
       "        [ 3.,  4.,  5.]],\n",
       "\n",
       "       [[ 1.,  2.,  3.],\n",
       "        [ 2.,  3.,  4.],\n",
       "        [ 3.,  4.,  5.]]], dtype=float32)"
      ]
     },
     "execution_count": 64,
     "metadata": {},
     "output_type": "execute_result"
    }
   ],
   "source": [
    "arr3d"
   ]
  },
  {
   "cell_type": "code",
   "execution_count": 65,
   "metadata": {
    "ExecuteTime": {
     "end_time": "2019-02-06T11:04:31.839196Z",
     "start_time": "2019-02-06T11:04:31.793338Z"
    }
   },
   "outputs": [
    {
     "data": {
      "text/plain": [
       "array([[[ 1,  2,  3],\n",
       "        [ 4,  5,  6]],\n",
       "\n",
       "       [[ 7,  8,  9],\n",
       "        [10, 11, 12]]])"
      ]
     },
     "execution_count": 65,
     "metadata": {},
     "output_type": "execute_result"
    }
   ],
   "source": [
    "arr3d = np.array([[[1, 2, 3], [4, 5, 6]], [[7, 8, 9], [10, 11, 12]]])\n",
    "arr3d"
   ]
  },
  {
   "cell_type": "code",
   "execution_count": 66,
   "metadata": {
    "ExecuteTime": {
     "end_time": "2019-02-06T11:04:31.897899Z",
     "start_time": "2019-02-06T11:04:31.845801Z"
    }
   },
   "outputs": [
    {
     "data": {
      "text/plain": [
       "array([[1, 2, 3],\n",
       "       [4, 5, 6]])"
      ]
     },
     "execution_count": 66,
     "metadata": {},
     "output_type": "execute_result"
    }
   ],
   "source": [
    "arr3d[0]"
   ]
  },
  {
   "cell_type": "code",
   "execution_count": 67,
   "metadata": {
    "ExecuteTime": {
     "end_time": "2019-02-06T11:04:31.938400Z",
     "start_time": "2019-02-06T11:04:31.900760Z"
    },
    "collapsed": true
   },
   "outputs": [],
   "source": [
    "old_values = arr3d[0]\n",
    "arr3d[0, 1, 1:] = 42"
   ]
  },
  {
   "cell_type": "code",
   "execution_count": 68,
   "metadata": {
    "ExecuteTime": {
     "end_time": "2019-02-06T11:04:31.973232Z",
     "start_time": "2019-02-06T11:04:31.941376Z"
    }
   },
   "outputs": [
    {
     "data": {
      "text/plain": [
       "array([[[ 1,  2,  3],\n",
       "        [ 4, 42, 42]],\n",
       "\n",
       "       [[ 7,  8,  9],\n",
       "        [10, 11, 12]]])"
      ]
     },
     "execution_count": 68,
     "metadata": {},
     "output_type": "execute_result"
    }
   ],
   "source": [
    "arr3d"
   ]
  },
  {
   "cell_type": "code",
   "execution_count": 69,
   "metadata": {
    "ExecuteTime": {
     "end_time": "2019-02-06T11:04:32.021456Z",
     "start_time": "2019-02-06T11:04:31.975965Z"
    }
   },
   "outputs": [
    {
     "data": {
      "text/plain": [
       "array([[[ 1,  2,  3],\n",
       "        [ 4, 42, 42]],\n",
       "\n",
       "       [[ 7,  8,  9],\n",
       "        [10, 11, 12]]])"
      ]
     },
     "execution_count": 69,
     "metadata": {},
     "output_type": "execute_result"
    }
   ],
   "source": [
    "arr3d[0] = old_values\n",
    "arr3d"
   ]
  },
  {
   "cell_type": "code",
   "execution_count": 70,
   "metadata": {
    "ExecuteTime": {
     "end_time": "2019-02-06T11:04:32.073107Z",
     "start_time": "2019-02-06T11:04:32.023768Z"
    }
   },
   "outputs": [
    {
     "data": {
      "text/plain": [
       "array([7, 8, 9])"
      ]
     },
     "execution_count": 70,
     "metadata": {},
     "output_type": "execute_result"
    }
   ],
   "source": [
    "arr3d[1, 0]"
   ]
  },
  {
   "cell_type": "markdown",
   "metadata": {},
   "source": [
    "## 切片索引"
   ]
  },
  {
   "cell_type": "code",
   "execution_count": 71,
   "metadata": {
    "ExecuteTime": {
     "end_time": "2019-02-06T11:04:32.132789Z",
     "start_time": "2019-02-06T11:04:32.081253Z"
    }
   },
   "outputs": [
    {
     "data": {
      "text/plain": [
       "array([0, 1, 2, 3, 4, 5, 6, 7, 8, 9])"
      ]
     },
     "execution_count": 71,
     "metadata": {},
     "output_type": "execute_result"
    }
   ],
   "source": [
    "arr"
   ]
  },
  {
   "cell_type": "code",
   "execution_count": 72,
   "metadata": {
    "ExecuteTime": {
     "end_time": "2019-02-06T11:04:32.171872Z",
     "start_time": "2019-02-06T11:04:32.135713Z"
    }
   },
   "outputs": [
    {
     "data": {
      "text/plain": [
       "array([1, 2, 3, 4, 5])"
      ]
     },
     "execution_count": 72,
     "metadata": {},
     "output_type": "execute_result"
    }
   ],
   "source": [
    "arr[1:6]"
   ]
  },
  {
   "cell_type": "code",
   "execution_count": 73,
   "metadata": {
    "ExecuteTime": {
     "end_time": "2019-02-06T11:04:32.205841Z",
     "start_time": "2019-02-06T11:04:32.174484Z"
    }
   },
   "outputs": [
    {
     "data": {
      "text/plain": [
       "array([[    1.,     2., -1000.],\n",
       "       [    2.,     3.,     4.],\n",
       "       [    3.,     4.,     5.]], dtype=float32)"
      ]
     },
     "execution_count": 73,
     "metadata": {},
     "output_type": "execute_result"
    }
   ],
   "source": [
    "arr2d"
   ]
  },
  {
   "cell_type": "code",
   "execution_count": 74,
   "metadata": {
    "ExecuteTime": {
     "end_time": "2019-02-06T11:04:32.240605Z",
     "start_time": "2019-02-06T11:04:32.208503Z"
    }
   },
   "outputs": [
    {
     "data": {
      "text/plain": [
       "array([[    1.,     2., -1000.],\n",
       "       [    2.,     3.,     4.]], dtype=float32)"
      ]
     },
     "execution_count": 74,
     "metadata": {},
     "output_type": "execute_result"
    }
   ],
   "source": [
    "arr2d[:2]"
   ]
  },
  {
   "cell_type": "code",
   "execution_count": 75,
   "metadata": {
    "ExecuteTime": {
     "end_time": "2019-02-06T11:04:32.284047Z",
     "start_time": "2019-02-06T11:04:32.243211Z"
    },
    "collapsed": true
   },
   "outputs": [],
   "source": [
    "arr2d[:2, 1:] = 4"
   ]
  },
  {
   "cell_type": "code",
   "execution_count": 76,
   "metadata": {
    "ExecuteTime": {
     "end_time": "2019-02-06T11:04:32.337575Z",
     "start_time": "2019-02-06T11:04:32.288375Z"
    }
   },
   "outputs": [
    {
     "data": {
      "text/plain": [
       "array([[ 1.,  4.,  4.],\n",
       "       [ 2.,  4.,  4.],\n",
       "       [ 3.,  4.,  5.]], dtype=float32)"
      ]
     },
     "execution_count": 76,
     "metadata": {},
     "output_type": "execute_result"
    }
   ],
   "source": [
    "arr2d"
   ]
  },
  {
   "cell_type": "code",
   "execution_count": 77,
   "metadata": {
    "ExecuteTime": {
     "end_time": "2019-02-06T11:04:32.391831Z",
     "start_time": "2019-02-06T11:04:32.342160Z"
    }
   },
   "outputs": [
    {
     "name": "stdout",
     "output_type": "stream",
     "text": [
      "(1, 3)\n"
     ]
    },
    {
     "data": {
      "text/plain": [
       "array([[ 1.,  4.,  4.]], dtype=float32)"
      ]
     },
     "execution_count": 77,
     "metadata": {},
     "output_type": "execute_result"
    }
   ],
   "source": [
    "b1 = arr2d[0:1, :]\n",
    "print(b1.shape)\n",
    "b1"
   ]
  },
  {
   "cell_type": "code",
   "execution_count": 78,
   "metadata": {
    "ExecuteTime": {
     "end_time": "2019-02-06T11:04:32.427054Z",
     "start_time": "2019-02-06T11:04:32.394689Z"
    }
   },
   "outputs": [
    {
     "name": "stdout",
     "output_type": "stream",
     "text": [
      "(3,)\n"
     ]
    },
    {
     "data": {
      "text/plain": [
       "array([ 1.,  4.,  4.], dtype=float32)"
      ]
     },
     "execution_count": 78,
     "metadata": {},
     "output_type": "execute_result"
    }
   ],
   "source": [
    "b2 = arr2d[0, :]\n",
    "print(b2.shape)\n",
    "b2"
   ]
  },
  {
   "cell_type": "code",
   "execution_count": 79,
   "metadata": {
    "ExecuteTime": {
     "end_time": "2019-02-06T11:04:32.462122Z",
     "start_time": "2019-02-06T11:04:32.430075Z"
    }
   },
   "outputs": [
    {
     "name": "stdout",
     "output_type": "stream",
     "text": [
      "(1,)\n"
     ]
    },
    {
     "data": {
      "text/plain": [
       "array([ 3.], dtype=float32)"
      ]
     },
     "execution_count": 79,
     "metadata": {},
     "output_type": "execute_result"
    }
   ],
   "source": [
    "b3 = arr2d[2, :1]\n",
    "print(b3.shape)\n",
    "b3"
   ]
  },
  {
   "cell_type": "code",
   "execution_count": 80,
   "metadata": {
    "ExecuteTime": {
     "end_time": "2019-02-06T11:04:32.509392Z",
     "start_time": "2019-02-06T11:04:32.464966Z"
    }
   },
   "outputs": [
    {
     "data": {
      "text/plain": [
       "array([[ 1.],\n",
       "       [ 2.],\n",
       "       [ 3.]], dtype=float32)"
      ]
     },
     "execution_count": 80,
     "metadata": {},
     "output_type": "execute_result"
    }
   ],
   "source": [
    "arr2d[:, :1]"
   ]
  },
  {
   "cell_type": "code",
   "execution_count": 81,
   "metadata": {
    "ExecuteTime": {
     "end_time": "2019-02-06T11:04:32.568352Z",
     "start_time": "2019-02-06T11:04:32.522446Z"
    }
   },
   "outputs": [
    {
     "data": {
      "text/plain": [
       "array([[ 1.,  0.,  0.],\n",
       "       [ 2.,  0.,  0.],\n",
       "       [ 3.,  4.,  5.]], dtype=float32)"
      ]
     },
     "execution_count": 81,
     "metadata": {},
     "output_type": "execute_result"
    }
   ],
   "source": [
    "arr2d[:2, 1:] = 0\n",
    "arr2d"
   ]
  },
  {
   "cell_type": "markdown",
   "metadata": {
    "collapsed": true
   },
   "source": [
    "## 布尔型索引"
   ]
  },
  {
   "cell_type": "code",
   "execution_count": 82,
   "metadata": {
    "ExecuteTime": {
     "end_time": "2019-02-06T11:04:32.612442Z",
     "start_time": "2019-02-06T11:04:32.572253Z"
    }
   },
   "outputs": [
    {
     "name": "stdout",
     "output_type": "stream",
     "text": [
      "['Bob' 'Joe' 'Will' 'Bob' 'Will' 'Joe' 'Joe']\n",
      "[[ 0.8311  0.2985  2.7805 -1.2893]\n",
      " [-1.735  -0.9613  0.6393  2.5191]\n",
      " [-0.0797 -0.5303  1.7033  0.385 ]\n",
      " [ 0.1706 -0.2219  2.3074 -1.1211]\n",
      " [-0.0151 -1.5168  0.0808 -0.3906]\n",
      " [ 0.2311  0.0841 -1.3789  0.4948]\n",
      " [-0.4883 -0.6042  0.3031  0.8027]]\n"
     ]
    }
   ],
   "source": [
    "names = np.array(['Bob', 'Joe', 'Will', 'Bob', 'Will', 'Joe', 'Joe'])\n",
    "data = randn(7, 4)\n",
    "print(names)\n",
    "print(data)"
   ]
  },
  {
   "cell_type": "code",
   "execution_count": 83,
   "metadata": {
    "ExecuteTime": {
     "end_time": "2019-02-06T11:04:32.649569Z",
     "start_time": "2019-02-06T11:04:32.615625Z"
    }
   },
   "outputs": [
    {
     "data": {
      "text/plain": [
       "array([[ 0.8311,  0.2985,  2.7805, -1.2893],\n",
       "       [ 0.1706, -0.2219,  2.3074, -1.1211]])"
      ]
     },
     "execution_count": 83,
     "metadata": {},
     "output_type": "execute_result"
    }
   ],
   "source": [
    "data[names == 'Bob']"
   ]
  },
  {
   "cell_type": "code",
   "execution_count": 84,
   "metadata": {
    "ExecuteTime": {
     "end_time": "2019-02-06T11:04:32.686636Z",
     "start_time": "2019-02-06T11:04:32.652180Z"
    }
   },
   "outputs": [
    {
     "data": {
      "text/plain": [
       "array([[ 2.7805, -1.2893],\n",
       "       [ 2.3074, -1.1211]])"
      ]
     },
     "execution_count": 84,
     "metadata": {},
     "output_type": "execute_result"
    }
   ],
   "source": [
    "data[names == 'Bob', 2:]"
   ]
  },
  {
   "cell_type": "code",
   "execution_count": 85,
   "metadata": {
    "ExecuteTime": {
     "end_time": "2019-02-06T11:04:32.751136Z",
     "start_time": "2019-02-06T11:04:32.690025Z"
    }
   },
   "outputs": [
    {
     "data": {
      "text/plain": [
       "array([ 2.7805,  2.3074])"
      ]
     },
     "execution_count": 85,
     "metadata": {},
     "output_type": "execute_result"
    }
   ],
   "source": [
    "data[names=='Bob', 2]"
   ]
  },
  {
   "cell_type": "code",
   "execution_count": 86,
   "metadata": {
    "ExecuteTime": {
     "end_time": "2019-02-06T11:04:32.813198Z",
     "start_time": "2019-02-06T11:04:32.758440Z"
    }
   },
   "outputs": [
    {
     "data": {
      "text/plain": [
       "array([[ 0.8311,  0.2985,  2.7805, -1.2893],\n",
       "       [-0.0797, -0.5303,  1.7033,  0.385 ],\n",
       "       [ 0.1706, -0.2219,  2.3074, -1.1211],\n",
       "       [-0.0151, -1.5168,  0.0808, -0.3906]])"
      ]
     },
     "execution_count": 86,
     "metadata": {},
     "output_type": "execute_result"
    }
   ],
   "source": [
    "data[(names=='Bob') | (names=='Will')]"
   ]
  },
  {
   "cell_type": "code",
   "execution_count": 87,
   "metadata": {
    "ExecuteTime": {
     "end_time": "2019-02-06T11:04:32.861632Z",
     "start_time": "2019-02-06T11:04:32.816237Z"
    }
   },
   "outputs": [
    {
     "data": {
      "text/plain": [
       "array([[ 0.8311,  0.2985,  2.7805,  0.    ],\n",
       "       [ 0.    ,  0.    ,  0.6393,  2.5191],\n",
       "       [ 0.    ,  0.    ,  1.7033,  0.385 ],\n",
       "       [ 0.1706,  0.    ,  2.3074,  0.    ],\n",
       "       [ 0.    ,  0.    ,  0.0808,  0.    ],\n",
       "       [ 0.2311,  0.0841,  0.    ,  0.4948],\n",
       "       [ 0.    ,  0.    ,  0.3031,  0.8027]])"
      ]
     },
     "execution_count": 87,
     "metadata": {},
     "output_type": "execute_result"
    }
   ],
   "source": [
    "data[data<=0]=0\n",
    "data"
   ]
  },
  {
   "cell_type": "code",
   "execution_count": 88,
   "metadata": {
    "ExecuteTime": {
     "end_time": "2019-02-06T11:04:32.906394Z",
     "start_time": "2019-02-06T11:04:32.865093Z"
    }
   },
   "outputs": [
    {
     "data": {
      "text/plain": [
       "array([[ 7.    ,  7.    ,  7.    ,  7.    ],\n",
       "       [ 0.    ,  0.    ,  0.6393,  2.5191],\n",
       "       [ 7.    ,  7.    ,  7.    ,  7.    ],\n",
       "       [ 7.    ,  7.    ,  7.    ,  7.    ],\n",
       "       [ 7.    ,  7.    ,  7.    ,  7.    ],\n",
       "       [ 0.2311,  0.0841,  0.    ,  0.4948],\n",
       "       [ 0.    ,  0.    ,  0.3031,  0.8027]])"
      ]
     },
     "execution_count": 88,
     "metadata": {},
     "output_type": "execute_result"
    }
   ],
   "source": [
    "data[names != 'Joe'] = 7\n",
    "data"
   ]
  },
  {
   "cell_type": "markdown",
   "metadata": {},
   "source": [
    "## 花式索引"
   ]
  },
  {
   "cell_type": "code",
   "execution_count": 89,
   "metadata": {
    "ExecuteTime": {
     "end_time": "2019-02-06T11:04:32.946600Z",
     "start_time": "2019-02-06T11:04:32.909736Z"
    }
   },
   "outputs": [
    {
     "data": {
      "text/plain": [
       "array([[[ 0,  1,  2,  3],\n",
       "        [ 4,  5,  6,  7],\n",
       "        [ 8,  9, 10, 11],\n",
       "        [12, 13, 14, 15]],\n",
       "\n",
       "       [[16, 17, 18, 19],\n",
       "        [20, 21, 22, 23],\n",
       "        [24, 25, 26, 27],\n",
       "        [28, 29, 30, 31]]])"
      ]
     },
     "execution_count": 89,
     "metadata": {},
     "output_type": "execute_result"
    }
   ],
   "source": [
    "arr = np.arange(32).reshape((2,4,4))\n",
    "arr"
   ]
  },
  {
   "cell_type": "code",
   "execution_count": 90,
   "metadata": {
    "ExecuteTime": {
     "end_time": "2019-02-06T11:04:32.984791Z",
     "start_time": "2019-02-06T11:04:32.949440Z"
    }
   },
   "outputs": [
    {
     "data": {
      "text/plain": [
       "array([[[ 4,  5,  6,  7],\n",
       "        [12, 13, 14, 15]],\n",
       "\n",
       "       [[20, 21, 22, 23],\n",
       "        [28, 29, 30, 31]]])"
      ]
     },
     "execution_count": 90,
     "metadata": {},
     "output_type": "execute_result"
    }
   ],
   "source": [
    "x = arr[:, [1,3]]   #是复制哟\n",
    "x"
   ]
  },
  {
   "cell_type": "code",
   "execution_count": 91,
   "metadata": {
    "ExecuteTime": {
     "end_time": "2019-02-06T11:04:33.027214Z",
     "start_time": "2019-02-06T11:04:32.987030Z"
    }
   },
   "outputs": [
    {
     "data": {
      "text/plain": [
       "array([[[ 4,  5,  6,  7],\n",
       "        [12, 13, 14, 15]],\n",
       "\n",
       "       [[ 6,  6,  6,  6],\n",
       "        [ 6,  6,  6,  6]]])"
      ]
     },
     "execution_count": 91,
     "metadata": {},
     "output_type": "execute_result"
    }
   ],
   "source": [
    "x[1, :] = 6\n",
    "x"
   ]
  },
  {
   "cell_type": "code",
   "execution_count": 92,
   "metadata": {
    "ExecuteTime": {
     "end_time": "2019-02-06T11:04:33.081907Z",
     "start_time": "2019-02-06T11:04:33.033695Z"
    }
   },
   "outputs": [
    {
     "data": {
      "text/plain": [
       "array([[[ 0,  1,  2,  3],\n",
       "        [ 4,  5,  6,  7],\n",
       "        [ 8,  9, 10, 11],\n",
       "        [12, 13, 14, 15]],\n",
       "\n",
       "       [[16, 17, 18, 19],\n",
       "        [20, 21, 22, 23],\n",
       "        [24, 25, 26, 27],\n",
       "        [28, 29, 30, 31]]])"
      ]
     },
     "execution_count": 92,
     "metadata": {},
     "output_type": "execute_result"
    }
   ],
   "source": [
    "arr"
   ]
  },
  {
   "cell_type": "code",
   "execution_count": 93,
   "metadata": {
    "ExecuteTime": {
     "end_time": "2019-02-06T11:04:33.142755Z",
     "start_time": "2019-02-06T11:04:33.084747Z"
    }
   },
   "outputs": [
    {
     "name": "stdout",
     "output_type": "stream",
     "text": [
      "[[ 0  1  2  3]\n",
      " [ 4  5  6  7]\n",
      " [ 8  9 10 11]\n",
      " [12 13 14 15]\n",
      " [16 17 18 19]\n",
      " [20 21 22 23]\n",
      " [24 25 26 27]\n",
      " [28 29 30 31]]\n"
     ]
    },
    {
     "data": {
      "text/plain": [
       "array([[ 4,  7,  5,  6],\n",
       "       [20, 23, 21, 22],\n",
       "       [28, 31, 29, 30],\n",
       "       [ 8, 11,  9, 10]])"
      ]
     },
     "execution_count": 93,
     "metadata": {},
     "output_type": "execute_result"
    }
   ],
   "source": [
    "arr = np.arange(32).reshape((8,4))\n",
    "print(arr)\n",
    "b = arr[[1,5,7,2]][:, [0, 3, 1, 2]]  # 也是复制\n",
    "b"
   ]
  },
  {
   "cell_type": "code",
   "execution_count": 94,
   "metadata": {
    "ExecuteTime": {
     "end_time": "2019-02-06T11:04:33.180752Z",
     "start_time": "2019-02-06T11:04:33.146955Z"
    }
   },
   "outputs": [
    {
     "data": {
      "text/plain": [
       "array([[10,  7,  5,  6],\n",
       "       [20, 23, 21, 22],\n",
       "       [28, 31, 29, 30],\n",
       "       [ 8, 11,  9, 10]])"
      ]
     },
     "execution_count": 94,
     "metadata": {},
     "output_type": "execute_result"
    }
   ],
   "source": [
    "b[0, 0] = 10\n",
    "b"
   ]
  },
  {
   "cell_type": "code",
   "execution_count": 95,
   "metadata": {
    "ExecuteTime": {
     "end_time": "2019-02-06T11:04:33.227993Z",
     "start_time": "2019-02-06T11:04:33.183430Z"
    }
   },
   "outputs": [
    {
     "data": {
      "text/plain": [
       "array([[ 0,  1,  2,  3],\n",
       "       [ 4,  5,  6,  7],\n",
       "       [ 8,  9, 10, 11],\n",
       "       [12, 13, 14, 15],\n",
       "       [16, 17, 18, 19],\n",
       "       [20, 21, 22, 23],\n",
       "       [24, 25, 26, 27],\n",
       "       [28, 29, 30, 31]])"
      ]
     },
     "execution_count": 95,
     "metadata": {},
     "output_type": "execute_result"
    }
   ],
   "source": [
    "arr"
   ]
  },
  {
   "cell_type": "code",
   "execution_count": 96,
   "metadata": {
    "ExecuteTime": {
     "end_time": "2019-02-06T11:04:33.277917Z",
     "start_time": "2019-02-06T11:04:33.231170Z"
    }
   },
   "outputs": [
    {
     "name": "stdout",
     "output_type": "stream",
     "text": [
      "[[15  5  6  7]\n",
      " [ 8  9 10 11]]\n"
     ]
    },
    {
     "data": {
      "text/plain": [
       "array([[ 0,  1,  2,  3],\n",
       "       [ 4,  5,  6,  7],\n",
       "       [ 8,  9, 10, 11],\n",
       "       [12, 13, 14, 15],\n",
       "       [16, 17, 18, 19],\n",
       "       [20, 21, 22, 23],\n",
       "       [24, 25, 26, 27],\n",
       "       [28, 29, 30, 31]])"
      ]
     },
     "execution_count": 96,
     "metadata": {},
     "output_type": "execute_result"
    }
   ],
   "source": [
    "arr = np.arange(32).reshape((8, 4))\n",
    "c = arr[[1,2]]  # 这是复制\n",
    "c[0, 0] = 15\n",
    "print(c)\n",
    "arr"
   ]
  },
  {
   "cell_type": "code",
   "execution_count": 97,
   "metadata": {
    "ExecuteTime": {
     "end_time": "2019-02-06T11:04:33.319075Z",
     "start_time": "2019-02-06T11:04:33.280673Z"
    }
   },
   "outputs": [
    {
     "name": "stdout",
     "output_type": "stream",
     "text": [
      "[[15  5  6  7]\n",
      " [ 8  9 10 11]]\n"
     ]
    },
    {
     "data": {
      "text/plain": [
       "array([[ 0,  1,  2,  3],\n",
       "       [15,  5,  6,  7],\n",
       "       [ 8,  9, 10, 11],\n",
       "       [12, 13, 14, 15],\n",
       "       [16, 17, 18, 19],\n",
       "       [20, 21, 22, 23],\n",
       "       [24, 25, 26, 27],\n",
       "       [28, 29, 30, 31]])"
      ]
     },
     "execution_count": 97,
     "metadata": {},
     "output_type": "execute_result"
    }
   ],
   "source": [
    "arr = np.arange(32).reshape((8, 4))\n",
    "d = arr[1:3]  # 这是视图\n",
    "d[0, 0] = 15\n",
    "print(d)\n",
    "arr"
   ]
  },
  {
   "cell_type": "code",
   "execution_count": 98,
   "metadata": {
    "ExecuteTime": {
     "end_time": "2019-02-06T11:04:33.364178Z",
     "start_time": "2019-02-06T11:04:33.323847Z"
    }
   },
   "outputs": [
    {
     "name": "stdout",
     "output_type": "stream",
     "text": [
      "[4 5 6 7]\n"
     ]
    },
    {
     "data": {
      "text/plain": [
       "array([[  0,   1,   2,   3],\n",
       "       [100, 100, 100, 100],\n",
       "       [  8,   9,  10,  11],\n",
       "       [ 12,  13,  14,  15],\n",
       "       [ 16,  17,  18,  19],\n",
       "       [ 20,  21,  22,  23],\n",
       "       [ 24,  25,  26,  27],\n",
       "       [ 28,  29,  30,  31]])"
      ]
     },
     "execution_count": 98,
     "metadata": {},
     "output_type": "execute_result"
    }
   ],
   "source": [
    "arr = np.arange(32).reshape((8, 4))\n",
    "e = arr[1]  # 这是复制\n",
    "print(e)\n",
    "e[:] = 100\n",
    "arr"
   ]
  },
  {
   "cell_type": "code",
   "execution_count": 99,
   "metadata": {
    "ExecuteTime": {
     "end_time": "2019-02-06T11:04:33.419171Z",
     "start_time": "2019-02-06T11:04:33.367319Z"
    }
   },
   "outputs": [
    {
     "name": "stdout",
     "output_type": "stream",
     "text": [
      "[[ 0  1  2  3]\n",
      " [ 4  5  6  7]\n",
      " [ 8  9 10 11]\n",
      " [12 13 14 15]\n",
      " [16 17 18 19]\n",
      " [20 21 22 23]\n",
      " [24 25 26 27]\n",
      " [28 29 30 31]]\n"
     ]
    },
    {
     "data": {
      "text/plain": [
       "array([[ 4,  7],\n",
       "       [20, 23]])"
      ]
     },
     "execution_count": 99,
     "metadata": {},
     "output_type": "execute_result"
    }
   ],
   "source": [
    "arr = np.arange(32).reshape((8, 4))\n",
    "print(arr)\n",
    "ix = np.ix_([1,5],[0,3])\n",
    "arr[ix]"
   ]
  },
  {
   "cell_type": "markdown",
   "metadata": {},
   "source": [
    "## 数组转置"
   ]
  },
  {
   "cell_type": "code",
   "execution_count": 100,
   "metadata": {
    "ExecuteTime": {
     "end_time": "2019-02-06T11:04:33.459961Z",
     "start_time": "2019-02-06T11:04:33.423476Z"
    }
   },
   "outputs": [
    {
     "data": {
      "text/plain": [
       "array([[ 0,  1,  2,  3,  4],\n",
       "       [ 5,  6,  7,  8,  9],\n",
       "       [10, 11, 12, 13, 14]])"
      ]
     },
     "execution_count": 100,
     "metadata": {},
     "output_type": "execute_result"
    }
   ],
   "source": [
    "arr = np.arange(15).reshape((3, 5))\n",
    "arr"
   ]
  },
  {
   "cell_type": "code",
   "execution_count": 101,
   "metadata": {
    "ExecuteTime": {
     "end_time": "2019-02-06T11:04:33.495593Z",
     "start_time": "2019-02-06T11:04:33.462741Z"
    }
   },
   "outputs": [
    {
     "data": {
      "text/plain": [
       "array([[ 0,  5, 10],\n",
       "       [ 1,  6, 11],\n",
       "       [ 2,  7, 12],\n",
       "       [ 3,  8, 13],\n",
       "       [ 4,  9, 14]])"
      ]
     },
     "execution_count": 101,
     "metadata": {},
     "output_type": "execute_result"
    }
   ],
   "source": [
    "b = arr.T  \n",
    "b"
   ]
  },
  {
   "cell_type": "code",
   "execution_count": 102,
   "metadata": {
    "ExecuteTime": {
     "end_time": "2019-02-06T11:04:33.541311Z",
     "start_time": "2019-02-06T11:04:33.498601Z"
    }
   },
   "outputs": [
    {
     "data": {
      "text/plain": [
       "array([[  0,   5,  10],\n",
       "       [  1,   6, 100],\n",
       "       [  2,   7,  12],\n",
       "       [  3,   8,  13],\n",
       "       [  4,   9,  14]])"
      ]
     },
     "execution_count": 102,
     "metadata": {},
     "output_type": "execute_result"
    }
   ],
   "source": [
    "b[1, 2] = 100  # 转置是视图\n",
    "b"
   ]
  },
  {
   "cell_type": "code",
   "execution_count": 103,
   "metadata": {
    "ExecuteTime": {
     "end_time": "2019-02-06T11:04:33.603071Z",
     "start_time": "2019-02-06T11:04:33.546108Z"
    }
   },
   "outputs": [
    {
     "data": {
      "text/plain": [
       "array([[  0,   1,   2,   3,   4],\n",
       "       [  5,   6,   7,   8,   9],\n",
       "       [ 10, 100,  12,  13,  14]])"
      ]
     },
     "execution_count": 103,
     "metadata": {},
     "output_type": "execute_result"
    }
   ],
   "source": [
    "arr"
   ]
  },
  {
   "cell_type": "code",
   "execution_count": 104,
   "metadata": {
    "ExecuteTime": {
     "end_time": "2019-02-06T11:04:33.668986Z",
     "start_time": "2019-02-06T11:04:33.606986Z"
    }
   },
   "outputs": [
    {
     "data": {
      "text/plain": [
       "(2, 1)"
      ]
     },
     "execution_count": 104,
     "metadata": {},
     "output_type": "execute_result"
    }
   ],
   "source": [
    "divmod(11, 5)"
   ]
  },
  {
   "cell_type": "markdown",
   "metadata": {},
   "source": [
    "## 通用函数"
   ]
  },
  {
   "cell_type": "code",
   "execution_count": 105,
   "metadata": {
    "ExecuteTime": {
     "end_time": "2019-02-06T11:04:33.725975Z",
     "start_time": "2019-02-06T11:04:33.674827Z"
    }
   },
   "outputs": [
    {
     "data": {
      "text/plain": [
       "array([-1.8286,  0.358 ,  1.0393,  1.1353,  0.5731, -0.4785,  0.3353])"
      ]
     },
     "execution_count": 105,
     "metadata": {},
     "output_type": "execute_result"
    }
   ],
   "source": [
    "arr = (np.random.rand(7) - 0.5) * 5\n",
    "arr"
   ]
  },
  {
   "cell_type": "code",
   "execution_count": 106,
   "metadata": {
    "ExecuteTime": {
     "end_time": "2019-02-06T11:04:33.766569Z",
     "start_time": "2019-02-06T11:04:33.729446Z"
    }
   },
   "outputs": [
    {
     "data": {
      "text/plain": [
       "(array([-0.8286,  0.358 ,  0.0393,  0.1353,  0.5731, -0.4785,  0.3353]),\n",
       " array([-1.,  0.,  1.,  1.,  0., -0.,  0.]))"
      ]
     },
     "execution_count": 106,
     "metadata": {},
     "output_type": "execute_result"
    }
   ],
   "source": [
    "np.modf(arr)"
   ]
  },
  {
   "cell_type": "code",
   "execution_count": 107,
   "metadata": {
    "ExecuteTime": {
     "end_time": "2019-02-06T11:04:33.809157Z",
     "start_time": "2019-02-06T11:04:33.769335Z"
    },
    "collapsed": true
   },
   "outputs": [],
   "source": [
    "# np.modf?"
   ]
  },
  {
   "cell_type": "code",
   "execution_count": 108,
   "metadata": {
    "ExecuteTime": {
     "end_time": "2019-02-06T11:04:33.874115Z",
     "start_time": "2019-02-06T11:04:33.816443Z"
    }
   },
   "outputs": [
    {
     "data": {
      "text/plain": [
       "array([-3.,  4.,  5.])"
      ]
     },
     "execution_count": 108,
     "metadata": {},
     "output_type": "execute_result"
    }
   ],
   "source": [
    "a = np.array([3, 4, 5])\n",
    "a_sign = np.array([-1, 5, 6])\n",
    "\n",
    "np.copysign(a, a_sign)"
   ]
  },
  {
   "cell_type": "code",
   "execution_count": 109,
   "metadata": {
    "ExecuteTime": {
     "end_time": "2019-02-06T11:04:33.934756Z",
     "start_time": "2019-02-06T11:04:33.877142Z"
    }
   },
   "outputs": [
    {
     "data": {
      "text/plain": [
       "array([-3,  4,  5])"
      ]
     },
     "execution_count": 109,
     "metadata": {},
     "output_type": "execute_result"
    }
   ],
   "source": [
    "np.where(a_sign>0, np.abs(a), -np.abs(a))"
   ]
  },
  {
   "cell_type": "markdown",
   "metadata": {
    "ExecuteTime": {
     "end_time": "2019-01-27T13:33:20.429482Z",
     "start_time": "2019-01-27T13:33:20.400422Z"
    }
   },
   "source": [
    "## 利用数组进行数据处理(矢量化)"
   ]
  },
  {
   "cell_type": "code",
   "execution_count": 110,
   "metadata": {
    "ExecuteTime": {
     "end_time": "2019-02-06T11:04:33.991799Z",
     "start_time": "2019-02-06T11:04:33.937705Z"
    },
    "collapsed": true
   },
   "outputs": [],
   "source": [
    "x = np.arange(-5, 5, 0.01)\n",
    "y = np.arange(-5, 5, 0.01)\n",
    "xs, ys = np.meshgrid(x, y)"
   ]
  },
  {
   "cell_type": "code",
   "execution_count": 111,
   "metadata": {
    "ExecuteTime": {
     "end_time": "2019-02-06T11:04:34.025992Z",
     "start_time": "2019-02-06T11:04:33.994224Z"
    }
   },
   "outputs": [
    {
     "data": {
      "text/plain": [
       "array([[-5.  , -4.99, -4.98, ...,  4.97,  4.98,  4.99],\n",
       "       [-5.  , -4.99, -4.98, ...,  4.97,  4.98,  4.99],\n",
       "       [-5.  , -4.99, -4.98, ...,  4.97,  4.98,  4.99],\n",
       "       ..., \n",
       "       [-5.  , -4.99, -4.98, ...,  4.97,  4.98,  4.99],\n",
       "       [-5.  , -4.99, -4.98, ...,  4.97,  4.98,  4.99],\n",
       "       [-5.  , -4.99, -4.98, ...,  4.97,  4.98,  4.99]])"
      ]
     },
     "execution_count": 111,
     "metadata": {},
     "output_type": "execute_result"
    }
   ],
   "source": [
    "xs"
   ]
  },
  {
   "cell_type": "code",
   "execution_count": 112,
   "metadata": {
    "ExecuteTime": {
     "end_time": "2019-02-06T11:04:34.062960Z",
     "start_time": "2019-02-06T11:04:34.028608Z"
    }
   },
   "outputs": [
    {
     "data": {
      "text/plain": [
       "array([[-5.  , -5.  , -5.  , ..., -5.  , -5.  , -5.  ],\n",
       "       [-4.99, -4.99, -4.99, ..., -4.99, -4.99, -4.99],\n",
       "       [-4.98, -4.98, -4.98, ..., -4.98, -4.98, -4.98],\n",
       "       ..., \n",
       "       [ 4.97,  4.97,  4.97, ...,  4.97,  4.97,  4.97],\n",
       "       [ 4.98,  4.98,  4.98, ...,  4.98,  4.98,  4.98],\n",
       "       [ 4.99,  4.99,  4.99, ...,  4.99,  4.99,  4.99]])"
      ]
     },
     "execution_count": 112,
     "metadata": {},
     "output_type": "execute_result"
    }
   ],
   "source": [
    "ys"
   ]
  },
  {
   "cell_type": "code",
   "execution_count": 113,
   "metadata": {
    "ExecuteTime": {
     "end_time": "2019-02-06T11:04:34.122896Z",
     "start_time": "2019-02-06T11:04:34.065932Z"
    },
    "collapsed": true
   },
   "outputs": [],
   "source": [
    "import matplotlib.pyplot as plt"
   ]
  },
  {
   "cell_type": "code",
   "execution_count": 114,
   "metadata": {
    "ExecuteTime": {
     "end_time": "2019-02-06T11:04:34.206020Z",
     "start_time": "2019-02-06T11:04:34.131056Z"
    }
   },
   "outputs": [
    {
     "name": "stdout",
     "output_type": "stream",
     "text": [
      "(1000, 1000)\n"
     ]
    },
    {
     "data": {
      "text/plain": [
       "array([[ 7.0711,  7.064 ,  7.0569, ...,  7.0499,  7.0569,  7.064 ],\n",
       "       [ 7.064 ,  7.0569,  7.0499, ...,  7.0428,  7.0499,  7.0569],\n",
       "       [ 7.0569,  7.0499,  7.0428, ...,  7.0357,  7.0428,  7.0499],\n",
       "       ..., \n",
       "       [ 7.0499,  7.0428,  7.0357, ...,  7.0286,  7.0357,  7.0428],\n",
       "       [ 7.0569,  7.0499,  7.0428, ...,  7.0357,  7.0428,  7.0499],\n",
       "       [ 7.064 ,  7.0569,  7.0499, ...,  7.0428,  7.0499,  7.0569]])"
      ]
     },
     "execution_count": 114,
     "metadata": {},
     "output_type": "execute_result"
    }
   ],
   "source": [
    "z = np.sqrt(xs ** 2 + ys ** 2)\n",
    "print(z.shape)\n",
    "z"
   ]
  },
  {
   "cell_type": "code",
   "execution_count": 115,
   "metadata": {
    "ExecuteTime": {
     "end_time": "2019-02-06T11:04:35.291866Z",
     "start_time": "2019-02-06T11:04:34.208511Z"
    },
    "scrolled": false
   },
   "outputs": [
    {
     "data": {
      "text/plain": [
       "<matplotlib.text.Text at 0x120517410>"
      ]
     },
     "execution_count": 115,
     "metadata": {},
     "output_type": "execute_result"
    },
    {
     "data": {
      "image/png": "[encoded data removed]",
      "text/plain": [
       "<matplotlib.figure.Figure at 0x11197d410>"
      ]
     },
     "metadata": {},
     "output_type": "display_data"
    }
   ],
   "source": [
    "plt.imshow(z, cmap=plt.cm.gray);\n",
    "plt.colorbar()\n",
    "plt.title('$\\sqrt{x^2+y^2}$')"
   ]
  },
  {
   "cell_type": "markdown",
   "metadata": {
    "ExecuteTime": {
     "end_time": "2019-01-27T13:35:48.145335Z",
     "start_time": "2019-01-27T13:35:48.115810Z"
    }
   },
   "source": [
    "## where的妙用"
   ]
  },
  {
   "cell_type": "code",
   "execution_count": 116,
   "metadata": {
    "ExecuteTime": {
     "end_time": "2019-02-06T11:04:35.325115Z",
     "start_time": "2019-02-06T11:04:35.294607Z"
    }
   },
   "outputs": [
    {
     "data": {
      "text/plain": [
       "array([[-2, -2,  2,  2],\n",
       "       [-2, -2, -2,  2],\n",
       "       [ 2,  2, -2,  2],\n",
       "       [ 2,  2, -2, -2]])"
      ]
     },
     "execution_count": 116,
     "metadata": {},
     "output_type": "execute_result"
    }
   ],
   "source": [
    "arr = np.random.randn(4, 4)\n",
    "np.where(arr>0, 2, -2)"
   ]
  },
  {
   "cell_type": "code",
   "execution_count": 117,
   "metadata": {
    "ExecuteTime": {
     "end_time": "2019-02-06T11:04:35.357141Z",
     "start_time": "2019-02-06T11:04:35.327293Z"
    }
   },
   "outputs": [
    {
     "data": {
      "text/plain": [
       "array([[-2, -2,  2,  2],\n",
       "       [-2, -2, -2,  2],\n",
       "       [ 2,  2, -2,  2],\n",
       "       [ 2,  2, -2, -2]])"
      ]
     },
     "execution_count": 117,
     "metadata": {},
     "output_type": "execute_result"
    }
   ],
   "source": [
    "a = arr.copy()\n",
    "a[arr>0] = 2\n",
    "a[arr<0] = -2\n",
    "a.astype(np.int64)"
   ]
  },
  {
   "cell_type": "code",
   "execution_count": 118,
   "metadata": {
    "ExecuteTime": {
     "end_time": "2019-02-06T11:04:35.388231Z",
     "start_time": "2019-02-06T11:04:35.360221Z"
    }
   },
   "outputs": [
    {
     "data": {
      "text/plain": [
       "array([[ True,  True,  True,  True],\n",
       "       [ True,  True,  True,  True],\n",
       "       [ True,  True,  True,  True],\n",
       "       [ True,  True,  True,  True]], dtype=bool)"
      ]
     },
     "execution_count": 118,
     "metadata": {},
     "output_type": "execute_result"
    }
   ],
   "source": [
    "a == np.where(arr>0, 2, -2)"
   ]
  },
  {
   "cell_type": "code",
   "execution_count": 119,
   "metadata": {
    "ExecuteTime": {
     "end_time": "2019-02-06T11:04:35.429815Z",
     "start_time": "2019-02-06T11:04:35.390773Z"
    }
   },
   "outputs": [
    {
     "name": "stdout",
     "output_type": "stream",
     "text": [
      "[[-0.4633 -1.4563  0.7473  1.7569]\n",
      " [-0.1455 -0.1412 -1.6266  0.3712]\n",
      " [ 0.1303  1.1762 -1.295   0.1145]\n",
      " [ 0.111   0.6162 -0.1175 -0.4696]]\n"
     ]
    },
    {
     "data": {
      "text/plain": [
       "array([[ 0.,  0.,  2.,  2.],\n",
       "       [ 0.,  0.,  0.,  2.],\n",
       "       [ 2.,  2.,  0.,  2.],\n",
       "       [ 2.,  2.,  0.,  0.]])"
      ]
     },
     "execution_count": 119,
     "metadata": {},
     "output_type": "execute_result"
    }
   ],
   "source": [
    "print(arr)\n",
    "a = np.where(arr>0, 2, np.zeros_like(arr))\n",
    "a"
   ]
  },
  {
   "cell_type": "code",
   "execution_count": 120,
   "metadata": {
    "ExecuteTime": {
     "end_time": "2019-02-06T11:04:35.477403Z",
     "start_time": "2019-02-06T11:04:35.433110Z"
    }
   },
   "outputs": [
    {
     "data": {
      "text/plain": [
       "[1.1000000000000001, 2.2000000000000002, 1.3, 1.3999999999999999, 2.5]"
      ]
     },
     "execution_count": 120,
     "metadata": {},
     "output_type": "execute_result"
    }
   ],
   "source": [
    "xarr = np.array([1.1, 1.2, 1.3, 1.4, 1.5])\n",
    "yarr = np.array([2.1, 2.2, 2.3, 2.4, 2.5])\n",
    "cond = np.array([True, False, True, True, False])\n",
    "result = [(x if c else y)\n",
    "          for x, y, c in zip(xarr, yarr, cond)]\n",
    "result"
   ]
  },
  {
   "cell_type": "code",
   "execution_count": 121,
   "metadata": {
    "ExecuteTime": {
     "end_time": "2019-02-06T11:04:35.523357Z",
     "start_time": "2019-02-06T11:04:35.481859Z"
    }
   },
   "outputs": [
    {
     "data": {
      "text/plain": [
       "array([ 1.1,  2.2,  1.3,  1.4,  2.5])"
      ]
     },
     "execution_count": 121,
     "metadata": {},
     "output_type": "execute_result"
    }
   ],
   "source": [
    "np.where(cond, xarr, yarr)"
   ]
  },
  {
   "cell_type": "markdown",
   "metadata": {
    "ExecuteTime": {
     "end_time": "2019-01-27T14:29:43.214116Z",
     "start_time": "2019-01-27T14:29:43.187806Z"
    }
   },
   "source": [
    "## 数学和统计方法"
   ]
  },
  {
   "cell_type": "code",
   "execution_count": 122,
   "metadata": {
    "ExecuteTime": {
     "end_time": "2019-02-06T11:04:35.558984Z",
     "start_time": "2019-02-06T11:04:35.525994Z"
    }
   },
   "outputs": [
    {
     "name": "stdout",
     "output_type": "stream",
     "text": [
      "[[-0.7487  1.1538  1.3159  0.0766]\n",
      " [ 0.2423  1.5494 -1.1987 -0.3749]\n",
      " [-0.7182 -0.7901 -0.2467 -0.5456]\n",
      " [-0.4061  0.4092  0.5014 -0.7119]\n",
      " [ 1.3322 -0.8492 -0.549  -0.661 ]]\n",
      "-0.0609606487098\n",
      "-0.0609606487098\n",
      "-1.2192129742\n"
     ]
    }
   ],
   "source": [
    "arr = np.random.randn(5, 4) # normally-distributed data\n",
    "print(arr)\n",
    "print arr.mean()\n",
    "print np.mean(arr)\n",
    "print arr.sum()"
   ]
  },
  {
   "cell_type": "code",
   "execution_count": 123,
   "metadata": {
    "ExecuteTime": {
     "end_time": "2019-02-06T11:04:35.593150Z",
     "start_time": "2019-02-06T11:04:35.561346Z"
    }
   },
   "outputs": [
    {
     "data": {
      "text/plain": [
       "array([ 0.4494,  0.0545, -0.5752, -0.0518, -0.1817])"
      ]
     },
     "execution_count": 123,
     "metadata": {},
     "output_type": "execute_result"
    }
   ],
   "source": [
    "arr.mean(axis=1)"
   ]
  },
  {
   "cell_type": "code",
   "execution_count": 124,
   "metadata": {
    "ExecuteTime": {
     "end_time": "2019-02-06T11:04:35.623538Z",
     "start_time": "2019-02-06T11:04:35.595878Z"
    }
   },
   "outputs": [
    {
     "data": {
      "text/plain": [
       "array([-0.0597,  0.2946, -0.0354, -0.4433])"
      ]
     },
     "execution_count": 124,
     "metadata": {},
     "output_type": "execute_result"
    }
   ],
   "source": [
    "arr.mean(axis=0)"
   ]
  },
  {
   "cell_type": "code",
   "execution_count": 125,
   "metadata": {
    "ExecuteTime": {
     "end_time": "2019-02-06T11:04:35.666021Z",
     "start_time": "2019-02-06T11:04:35.626990Z"
    }
   },
   "outputs": [
    {
     "data": {
      "text/plain": [
       "array([-0.2986,  1.4732, -0.177 , -2.2167])"
      ]
     },
     "execution_count": 125,
     "metadata": {},
     "output_type": "execute_result"
    }
   ],
   "source": [
    "arr.sum(axis=0)"
   ]
  },
  {
   "cell_type": "code",
   "execution_count": 126,
   "metadata": {
    "ExecuteTime": {
     "end_time": "2019-02-06T11:04:35.718422Z",
     "start_time": "2019-02-06T11:04:35.669121Z"
    }
   },
   "outputs": [
    {
     "data": {
      "text/plain": [
       "array([[ 0,  1,  2],\n",
       "       [ 3, 40,  5],\n",
       "       [ 6,  7,  8],\n",
       "       [ 9, 10, 11]])"
      ]
     },
     "execution_count": 126,
     "metadata": {},
     "output_type": "execute_result"
    }
   ],
   "source": [
    "arr = np.array([[0, 1, 2], [3, 40, 5], [6, 7, 8], [9, 10, 11]])\n",
    "arr"
   ]
  },
  {
   "cell_type": "code",
   "execution_count": 127,
   "metadata": {
    "ExecuteTime": {
     "end_time": "2019-02-06T11:04:35.768431Z",
     "start_time": "2019-02-06T11:04:35.721825Z"
    }
   },
   "outputs": [
    {
     "data": {
      "text/plain": [
       "array([  0,   1,   3,   6,  46,  51,  57,  64,  72,  81,  91, 102])"
      ]
     },
     "execution_count": 127,
     "metadata": {},
     "output_type": "execute_result"
    }
   ],
   "source": [
    "arr.cumsum()"
   ]
  },
  {
   "cell_type": "code",
   "execution_count": 128,
   "metadata": {
    "ExecuteTime": {
     "end_time": "2019-02-06T11:04:35.806307Z",
     "start_time": "2019-02-06T11:04:35.770780Z"
    }
   },
   "outputs": [
    {
     "data": {
      "text/plain": [
       "array([[ 0,  1,  2],\n",
       "       [ 3, 41,  7],\n",
       "       [ 9, 48, 15],\n",
       "       [18, 58, 26]])"
      ]
     },
     "execution_count": 128,
     "metadata": {},
     "output_type": "execute_result"
    }
   ],
   "source": [
    "arr.cumsum(axis=0)"
   ]
  },
  {
   "cell_type": "code",
   "execution_count": 129,
   "metadata": {
    "ExecuteTime": {
     "end_time": "2019-02-06T11:04:35.837877Z",
     "start_time": "2019-02-06T11:04:35.808737Z"
    }
   },
   "outputs": [
    {
     "data": {
      "text/plain": [
       "array([[ 0,  1,  3],\n",
       "       [ 3, 43, 48],\n",
       "       [ 6, 13, 21],\n",
       "       [ 9, 19, 30]])"
      ]
     },
     "execution_count": 129,
     "metadata": {},
     "output_type": "execute_result"
    }
   ],
   "source": [
    "arr.cumsum(axis=1)"
   ]
  },
  {
   "cell_type": "code",
   "execution_count": 130,
   "metadata": {
    "ExecuteTime": {
     "end_time": "2019-02-06T11:04:35.868678Z",
     "start_time": "2019-02-06T11:04:35.840219Z"
    }
   },
   "outputs": [
    {
     "data": {
      "text/plain": [
       "4"
      ]
     },
     "execution_count": 130,
     "metadata": {},
     "output_type": "execute_result"
    }
   ],
   "source": [
    "arr.argmax()"
   ]
  },
  {
   "cell_type": "code",
   "execution_count": 131,
   "metadata": {
    "ExecuteTime": {
     "end_time": "2019-02-06T11:04:35.899790Z",
     "start_time": "2019-02-06T11:04:35.871282Z"
    }
   },
   "outputs": [
    {
     "data": {
      "text/plain": [
       "array([3, 1, 3])"
      ]
     },
     "execution_count": 131,
     "metadata": {},
     "output_type": "execute_result"
    }
   ],
   "source": [
    "arr.argmax(0)"
   ]
  },
  {
   "cell_type": "code",
   "execution_count": 132,
   "metadata": {
    "ExecuteTime": {
     "end_time": "2019-02-06T11:04:35.931295Z",
     "start_time": "2019-02-06T11:04:35.902345Z"
    }
   },
   "outputs": [
    {
     "data": {
      "text/plain": [
       "array([2, 1, 2, 2])"
      ]
     },
     "execution_count": 132,
     "metadata": {},
     "output_type": "execute_result"
    }
   ],
   "source": [
    "arr.argmax(axis=1)"
   ]
  },
  {
   "cell_type": "code",
   "execution_count": 133,
   "metadata": {
    "ExecuteTime": {
     "end_time": "2019-02-06T11:04:35.964156Z",
     "start_time": "2019-02-06T11:04:35.934331Z"
    }
   },
   "outputs": [
    {
     "name": "stdout",
     "output_type": "stream",
     "text": [
      "[[ 0  1  2]\n",
      " [ 3 40  5]\n",
      " [ 6  7  8]\n",
      " [ 9 10 11]]\n"
     ]
    },
    {
     "data": {
      "text/plain": [
       "array([ 3, 48, 21, 30])"
      ]
     },
     "execution_count": 133,
     "metadata": {},
     "output_type": "execute_result"
    }
   ],
   "source": [
    "print(arr)\n",
    "np.sum(arr, axis=1)"
   ]
  },
  {
   "cell_type": "markdown",
   "metadata": {},
   "source": [
    "## 基于布尔型数组的方法"
   ]
  },
  {
   "cell_type": "code",
   "execution_count": 134,
   "metadata": {
    "ExecuteTime": {
     "end_time": "2019-02-06T11:04:35.996720Z",
     "start_time": "2019-02-06T11:04:35.966502Z"
    }
   },
   "outputs": [
    {
     "data": {
      "text/plain": [
       "array([[ 1.0505,  0.0468, -0.1641,  0.0757,  1.3124,  0.37  ,  0.9179,\n",
       "         0.4005, -2.358 , -1.0156],\n",
       "       [-0.6301, -0.291 ,  0.6196, -1.522 , -0.6442, -1.1144,  0.1997,\n",
       "         0.622 ,  1.3198, -2.041 ],\n",
       "       [ 0.2531, -0.6513, -1.0648,  0.9281,  0.5329, -1.7651,  0.9664,\n",
       "        -0.5068, -0.8623,  1.7513],\n",
       "       [ 0.3899, -1.5508,  0.7472, -0.1597,  1.4737, -0.1018,  0.176 ,\n",
       "        -0.1185,  0.6986, -2.2263],\n",
       "       [-0.1083, -0.9049, -1.1185,  0.3985,  0.3422,  1.1746,  0.0025,\n",
       "         0.9241, -1.5398, -2.4214],\n",
       "       [ 0.5355,  1.1338,  0.6082,  0.8934,  0.2098, -0.1773,  0.9796,\n",
       "        -0.0818, -0.2399,  0.2745],\n",
       "       [-1.0719,  2.3872,  0.7725, -1.0008, -0.8992,  0.3321, -1.6475,\n",
       "         0.8243, -0.712 , -0.4636],\n",
       "       [-1.2186, -0.1665, -0.0538,  0.8888,  0.6053, -0.5028, -0.9184,\n",
       "        -1.3239,  1.7691, -1.5759],\n",
       "       [-1.2893, -0.0091,  1.1059,  0.935 , -1.7552,  0.1398,  2.0136,\n",
       "        -1.3568,  0.1363,  0.0065],\n",
       "       [-1.0678,  0.3722, -0.4254,  0.2824, -0.1844,  0.133 , -0.0132,\n",
       "        -2.0863, -0.5383, -2.0115]])"
      ]
     },
     "execution_count": 134,
     "metadata": {},
     "output_type": "execute_result"
    }
   ],
   "source": [
    "arr  = np.random.randn(10,10) \n",
    "arr"
   ]
  },
  {
   "cell_type": "code",
   "execution_count": 135,
   "metadata": {
    "ExecuteTime": {
     "end_time": "2019-02-06T11:04:36.028480Z",
     "start_time": "2019-02-06T11:04:35.999125Z"
    }
   },
   "outputs": [
    {
     "data": {
      "text/plain": [
       "49"
      ]
     },
     "execution_count": 135,
     "metadata": {},
     "output_type": "execute_result"
    }
   ],
   "source": [
    "(arr > 0).sum()"
   ]
  },
  {
   "cell_type": "code",
   "execution_count": 136,
   "metadata": {
    "ExecuteTime": {
     "end_time": "2019-02-06T11:04:36.060170Z",
     "start_time": "2019-02-06T11:04:36.030616Z"
    }
   },
   "outputs": [
    {
     "data": {
      "text/plain": [
       "array([ True,  True, False,  True], dtype=bool)"
      ]
     },
     "execution_count": 136,
     "metadata": {},
     "output_type": "execute_result"
    }
   ],
   "source": [
    "bools = np.array([1,2,0,-3],dtype=np.bool)\n",
    "bools"
   ]
  },
  {
   "cell_type": "code",
   "execution_count": 137,
   "metadata": {
    "ExecuteTime": {
     "end_time": "2019-02-06T11:04:36.092283Z",
     "start_time": "2019-02-06T11:04:36.062351Z"
    }
   },
   "outputs": [
    {
     "data": {
      "text/plain": [
       "True"
      ]
     },
     "execution_count": 137,
     "metadata": {},
     "output_type": "execute_result"
    }
   ],
   "source": [
    "bools.any()"
   ]
  },
  {
   "cell_type": "code",
   "execution_count": 138,
   "metadata": {
    "ExecuteTime": {
     "end_time": "2019-02-06T11:04:36.125145Z",
     "start_time": "2019-02-06T11:04:36.094516Z"
    }
   },
   "outputs": [
    {
     "data": {
      "text/plain": [
       "False"
      ]
     },
     "execution_count": 138,
     "metadata": {},
     "output_type": "execute_result"
    }
   ],
   "source": [
    "bools.all()"
   ]
  },
  {
   "cell_type": "markdown",
   "metadata": {},
   "source": [
    "## 排序"
   ]
  },
  {
   "cell_type": "code",
   "execution_count": 139,
   "metadata": {
    "ExecuteTime": {
     "end_time": "2019-02-06T11:04:36.157412Z",
     "start_time": "2019-02-06T11:04:36.127726Z"
    },
    "collapsed": true
   },
   "outputs": [],
   "source": [
    "from numpy.random import randn, rand"
   ]
  },
  {
   "cell_type": "code",
   "execution_count": 140,
   "metadata": {
    "ExecuteTime": {
     "end_time": "2019-02-06T11:04:36.188632Z",
     "start_time": "2019-02-06T11:04:36.160206Z"
    }
   },
   "outputs": [
    {
     "data": {
      "text/plain": [
       "array([ 0.0461, -1.4213,  0.5015, -1.43  , -0.4855, -0.58  ,  0.1214,\n",
       "        1.7031])"
      ]
     },
     "execution_count": 140,
     "metadata": {},
     "output_type": "execute_result"
    }
   ],
   "source": [
    "arr = randn(8)\n",
    "arr"
   ]
  },
  {
   "cell_type": "code",
   "execution_count": 141,
   "metadata": {
    "ExecuteTime": {
     "end_time": "2019-02-06T11:04:36.219019Z",
     "start_time": "2019-02-06T11:04:36.190583Z"
    }
   },
   "outputs": [
    {
     "data": {
      "text/plain": [
       "array([-1.43  , -1.4213, -0.58  , -0.4855,  0.0461,  0.1214,  0.5015,\n",
       "        1.7031])"
      ]
     },
     "execution_count": 141,
     "metadata": {},
     "output_type": "execute_result"
    }
   ],
   "source": [
    "arr.sort()\n",
    "arr"
   ]
  },
  {
   "cell_type": "code",
   "execution_count": 142,
   "metadata": {
    "ExecuteTime": {
     "end_time": "2019-02-06T11:04:36.246518Z",
     "start_time": "2019-02-06T11:04:36.221047Z"
    },
    "collapsed": true
   },
   "outputs": [],
   "source": [
    "# arr.sort?"
   ]
  },
  {
   "cell_type": "code",
   "execution_count": 143,
   "metadata": {
    "ExecuteTime": {
     "end_time": "2019-02-06T11:04:36.277446Z",
     "start_time": "2019-02-06T11:04:36.248727Z"
    }
   },
   "outputs": [
    {
     "data": {
      "text/plain": [
       "array([[ 0.195 ,  0.0833,  0.3016,  0.1144,  0.8016],\n",
       "       [ 0.1386,  0.1221,  0.9402,  0.0909,  0.5259],\n",
       "       [ 0.0668,  0.3361,  0.8454,  0.9928,  0.614 ],\n",
       "       [ 0.694 ,  0.4972,  0.8976,  0.5546,  0.4944]])"
      ]
     },
     "execution_count": 143,
     "metadata": {},
     "output_type": "execute_result"
    }
   ],
   "source": [
    "arr = rand(4,5)\n",
    "arr"
   ]
  },
  {
   "cell_type": "code",
   "execution_count": 144,
   "metadata": {
    "ExecuteTime": {
     "end_time": "2019-02-06T11:04:36.310318Z",
     "start_time": "2019-02-06T11:04:36.279514Z"
    }
   },
   "outputs": [
    {
     "data": {
      "text/plain": [
       "array([[ 0.0833,  0.1144,  0.195 ,  0.3016,  0.8016],\n",
       "       [ 0.0909,  0.1221,  0.1386,  0.5259,  0.9402],\n",
       "       [ 0.0668,  0.3361,  0.614 ,  0.8454,  0.9928],\n",
       "       [ 0.4944,  0.4972,  0.5546,  0.694 ,  0.8976]])"
      ]
     },
     "execution_count": 144,
     "metadata": {},
     "output_type": "execute_result"
    }
   ],
   "source": [
    "arr.sort(axis=1)\n",
    "arr"
   ]
  },
  {
   "cell_type": "code",
   "execution_count": 145,
   "metadata": {
    "ExecuteTime": {
     "end_time": "2019-02-06T11:04:36.345853Z",
     "start_time": "2019-02-06T11:04:36.312752Z"
    }
   },
   "outputs": [
    {
     "data": {
      "text/plain": [
       "array([[ 0.7256,  0.2161,  0.9695,  0.0046,  0.806 ],\n",
       "       [ 0.4803,  0.1086,  0.1458,  0.2855,  0.7567],\n",
       "       [ 0.9327,  0.1879,  0.9438,  0.5124,  0.438 ],\n",
       "       [ 0.3863,  0.3044,  0.7274,  0.5893,  0.7349]])"
      ]
     },
     "execution_count": 145,
     "metadata": {},
     "output_type": "execute_result"
    }
   ],
   "source": [
    "arr = rand(4,5)\n",
    "arr"
   ]
  },
  {
   "cell_type": "code",
   "execution_count": 146,
   "metadata": {
    "ExecuteTime": {
     "end_time": "2019-02-06T11:04:36.383141Z",
     "start_time": "2019-02-06T11:04:36.347972Z"
    }
   },
   "outputs": [
    {
     "data": {
      "text/plain": [
       "array([[ 0.3863,  0.1086,  0.1458,  0.0046,  0.438 ],\n",
       "       [ 0.4803,  0.1879,  0.7274,  0.2855,  0.7349],\n",
       "       [ 0.7256,  0.2161,  0.9438,  0.5124,  0.7567],\n",
       "       [ 0.9327,  0.3044,  0.9695,  0.5893,  0.806 ]])"
      ]
     },
     "execution_count": 146,
     "metadata": {},
     "output_type": "execute_result"
    }
   ],
   "source": [
    "np.sort(arr, axis=0)"
   ]
  },
  {
   "cell_type": "code",
   "execution_count": 147,
   "metadata": {
    "ExecuteTime": {
     "end_time": "2019-02-06T11:04:36.417337Z",
     "start_time": "2019-02-06T11:04:36.385451Z"
    }
   },
   "outputs": [
    {
     "data": {
      "text/plain": [
       "-1.6344255635673417"
      ]
     },
     "execution_count": 147,
     "metadata": {},
     "output_type": "execute_result"
    }
   ],
   "source": [
    "large_arr = randn(10000)\n",
    "# 5%分位数\n",
    "np.sort(large_arr)[int(len(large_arr)*0.05)]"
   ]
  },
  {
   "cell_type": "markdown",
   "metadata": {},
   "source": [
    "## 日期和时间"
   ]
  },
  {
   "cell_type": "markdown",
   "metadata": {},
   "source": [
    "Python内建的datetime模块提供了datetime、date和time类型。datetime类型结合了date和time，是最常使用的："
   ]
  },
  {
   "cell_type": "code",
   "execution_count": 148,
   "metadata": {
    "ExecuteTime": {
     "end_time": "2019-02-06T11:04:36.452377Z",
     "start_time": "2019-02-06T11:04:36.421017Z"
    },
    "collapsed": true
   },
   "outputs": [],
   "source": [
    "from datetime import datetime, date, time"
   ]
  },
  {
   "cell_type": "code",
   "execution_count": 149,
   "metadata": {
    "ExecuteTime": {
     "end_time": "2019-02-06T11:04:36.490114Z",
     "start_time": "2019-02-06T11:04:36.456507Z"
    }
   },
   "outputs": [
    {
     "name": "stdout",
     "output_type": "stream",
     "text": [
      "2011-10-29 20:30:21\n",
      "29\n",
      "21\n"
     ]
    },
    {
     "data": {
      "text/plain": [
       "datetime.datetime(2011, 10, 29, 20, 30, 21)"
      ]
     },
     "execution_count": 149,
     "metadata": {},
     "output_type": "execute_result"
    }
   ],
   "source": [
    "dt = datetime(2011, 10, 29, 20, 30, 21)\n",
    "print(dt)\n",
    "print(dt.day)\n",
    "print(dt.second)\n",
    "dt"
   ]
  },
  {
   "cell_type": "code",
   "execution_count": 150,
   "metadata": {
    "ExecuteTime": {
     "end_time": "2019-02-06T11:04:36.530178Z",
     "start_time": "2019-02-06T11:04:36.494417Z"
    }
   },
   "outputs": [
    {
     "name": "stdout",
     "output_type": "stream",
     "text": [
      "2011-10-29\n"
     ]
    },
    {
     "data": {
      "text/plain": [
       "datetime.date(2011, 10, 29)"
      ]
     },
     "execution_count": 150,
     "metadata": {},
     "output_type": "execute_result"
    }
   ],
   "source": [
    "adate = dt.date()\n",
    "print(adate)\n",
    "adate"
   ]
  },
  {
   "cell_type": "code",
   "execution_count": 151,
   "metadata": {
    "ExecuteTime": {
     "end_time": "2019-02-06T11:04:36.567860Z",
     "start_time": "2019-02-06T11:04:36.533587Z"
    }
   },
   "outputs": [
    {
     "name": "stdout",
     "output_type": "stream",
     "text": [
      "20:30:21\n"
     ]
    },
    {
     "data": {
      "text/plain": [
       "datetime.time(20, 30, 21)"
      ]
     },
     "execution_count": 151,
     "metadata": {},
     "output_type": "execute_result"
    }
   ],
   "source": [
    "atime = dt.time()\n",
    "print(atime)\n",
    "atime"
   ]
  },
  {
   "cell_type": "code",
   "execution_count": 152,
   "metadata": {
    "ExecuteTime": {
     "end_time": "2019-02-06T11:04:36.600276Z",
     "start_time": "2019-02-06T11:04:36.570176Z"
    }
   },
   "outputs": [
    {
     "name": "stdout",
     "output_type": "stream",
     "text": [
      "2019-01-02\n"
     ]
    }
   ],
   "source": [
    "print(date(2019,1,2))"
   ]
  },
  {
   "cell_type": "code",
   "execution_count": 153,
   "metadata": {
    "ExecuteTime": {
     "end_time": "2019-02-06T11:04:36.632118Z",
     "start_time": "2019-02-06T11:04:36.602257Z"
    }
   },
   "outputs": [
    {
     "name": "stdout",
     "output_type": "stream",
     "text": [
      "10:50:00\n"
     ]
    }
   ],
   "source": [
    "print(time(10,50))"
   ]
  },
  {
   "cell_type": "code",
   "execution_count": 154,
   "metadata": {
    "ExecuteTime": {
     "end_time": "2019-02-06T11:04:36.665884Z",
     "start_time": "2019-02-06T11:04:36.634423Z"
    }
   },
   "outputs": [
    {
     "data": {
      "text/plain": [
       "'10/29/2011 20:30'"
      ]
     },
     "execution_count": 154,
     "metadata": {},
     "output_type": "execute_result"
    }
   ],
   "source": [
    "dt.strftime('%m/%d/%Y %H:%M')"
   ]
  },
  {
   "cell_type": "code",
   "execution_count": 155,
   "metadata": {
    "ExecuteTime": {
     "end_time": "2019-02-06T11:04:36.700242Z",
     "start_time": "2019-02-06T11:04:36.668715Z"
    }
   },
   "outputs": [
    {
     "data": {
      "text/plain": [
       "'10/29/2011'"
      ]
     },
     "execution_count": 155,
     "metadata": {},
     "output_type": "execute_result"
    }
   ],
   "source": [
    "adate.strftime('%m/%d/%Y')"
   ]
  },
  {
   "cell_type": "code",
   "execution_count": 156,
   "metadata": {
    "ExecuteTime": {
     "end_time": "2019-02-06T11:04:36.738706Z",
     "start_time": "2019-02-06T11:04:36.702638Z"
    }
   },
   "outputs": [
    {
     "data": {
      "text/plain": [
       "'20:30:21'"
      ]
     },
     "execution_count": 156,
     "metadata": {},
     "output_type": "execute_result"
    }
   ],
   "source": [
    "atime.strftime('%H:%M:%S')"
   ]
  },
  {
   "cell_type": "code",
   "execution_count": 157,
   "metadata": {
    "ExecuteTime": {
     "end_time": "2019-02-06T11:04:36.777741Z",
     "start_time": "2019-02-06T11:04:36.741839Z"
    }
   },
   "outputs": [
    {
     "data": {
      "text/plain": [
       "datetime.datetime(2009, 10, 31, 0, 0)"
      ]
     },
     "execution_count": 157,
     "metadata": {},
     "output_type": "execute_result"
    }
   ],
   "source": [
    "datetime.strptime('20091031', '%Y%m%d')"
   ]
  },
  {
   "cell_type": "code",
   "execution_count": 158,
   "metadata": {
    "ExecuteTime": {
     "end_time": "2019-02-06T11:04:36.812137Z",
     "start_time": "2019-02-06T11:04:36.781426Z"
    }
   },
   "outputs": [
    {
     "data": {
      "text/plain": [
       "datetime.datetime(2011, 10, 29, 20, 30, 21)"
      ]
     },
     "execution_count": 158,
     "metadata": {},
     "output_type": "execute_result"
    }
   ],
   "source": [
    "dt"
   ]
  },
  {
   "cell_type": "code",
   "execution_count": 159,
   "metadata": {
    "ExecuteTime": {
     "end_time": "2019-02-06T11:04:36.843566Z",
     "start_time": "2019-02-06T11:04:36.814607Z"
    }
   },
   "outputs": [
    {
     "name": "stdout",
     "output_type": "stream",
     "text": [
      "2019-10-29 20:00:00\n"
     ]
    },
    {
     "data": {
      "text/plain": [
       "datetime.datetime(2019, 10, 29, 20, 0)"
      ]
     },
     "execution_count": 159,
     "metadata": {},
     "output_type": "execute_result"
    }
   ],
   "source": [
    "new_dt = dt.replace(year=2019, minute=0, second=0)\n",
    "print(new_dt)\n",
    "new_dt"
   ]
  },
  {
   "cell_type": "code",
   "execution_count": 160,
   "metadata": {
    "ExecuteTime": {
     "end_time": "2019-02-06T11:04:36.880360Z",
     "start_time": "2019-02-06T11:04:36.846456Z"
    }
   },
   "outputs": [
    {
     "data": {
      "text/plain": [
       "datetime.datetime(2011, 10, 29, 20, 30, 21)"
      ]
     },
     "execution_count": 160,
     "metadata": {},
     "output_type": "execute_result"
    }
   ],
   "source": [
    "dt  # datetime.datetime是不可变类型"
   ]
  },
  {
   "cell_type": "code",
   "execution_count": 161,
   "metadata": {
    "ExecuteTime": {
     "end_time": "2019-02-06T11:04:36.927337Z",
     "start_time": "2019-02-06T11:04:36.883944Z"
    }
   },
   "outputs": [
    {
     "data": {
      "text/plain": [
       "datetime.timedelta(17, 7179)"
      ]
     },
     "execution_count": 161,
     "metadata": {},
     "output_type": "execute_result"
    }
   ],
   "source": [
    "dt2 = datetime(2011, 11, 15, 22, 30)\n",
    "delta = dt2 - dt\n",
    "delta  # 指17天又7179秒"
   ]
  },
  {
   "cell_type": "code",
   "execution_count": 162,
   "metadata": {
    "ExecuteTime": {
     "end_time": "2019-02-06T11:04:36.972183Z",
     "start_time": "2019-02-06T11:04:36.930839Z"
    },
    "collapsed": true
   },
   "outputs": [],
   "source": [
    "from datetime import timedelta"
   ]
  },
  {
   "cell_type": "code",
   "execution_count": 163,
   "metadata": {
    "ExecuteTime": {
     "end_time": "2019-02-06T11:04:37.012921Z",
     "start_time": "2019-02-06T11:04:36.974886Z"
    }
   },
   "outputs": [
    {
     "data": {
      "text/plain": [
       "datetime.timedelta(12)"
      ]
     },
     "execution_count": 163,
     "metadata": {},
     "output_type": "execute_result"
    }
   ],
   "source": [
    "timedelta(12,0)"
   ]
  },
  {
   "cell_type": "code",
   "execution_count": 164,
   "metadata": {
    "ExecuteTime": {
     "end_time": "2019-02-06T11:04:37.048386Z",
     "start_time": "2019-02-06T11:04:37.015709Z"
    }
   },
   "outputs": [
    {
     "data": {
      "text/plain": [
       "datetime.datetime(2011, 11, 1, 20, 30, 31)"
      ]
     },
     "execution_count": 164,
     "metadata": {},
     "output_type": "execute_result"
    }
   ],
   "source": [
    "dt + timedelta(3, 10)"
   ]
  },
  {
   "cell_type": "code",
   "execution_count": 165,
   "metadata": {
    "ExecuteTime": {
     "end_time": "2019-02-06T11:04:37.085381Z",
     "start_time": "2019-02-06T11:04:37.050943Z"
    }
   },
   "outputs": [
    {
     "data": {
      "text/plain": [
       "10"
      ]
     },
     "execution_count": 165,
     "metadata": {},
     "output_type": "execute_result"
    }
   ],
   "source": [
    "timedelta(3, 10).seconds"
   ]
  },
  {
   "cell_type": "code",
   "execution_count": 166,
   "metadata": {
    "ExecuteTime": {
     "end_time": "2019-02-06T11:04:37.135290Z",
     "start_time": "2019-02-06T11:04:37.087416Z"
    }
   },
   "outputs": [
    {
     "data": {
      "text/plain": [
       "259210.0"
      ]
     },
     "execution_count": 166,
     "metadata": {},
     "output_type": "execute_result"
    }
   ],
   "source": [
    "timedelta(3, 10).total_seconds()"
   ]
  },
  {
   "cell_type": "code",
   "execution_count": 167,
   "metadata": {
    "ExecuteTime": {
     "end_time": "2019-02-06T11:04:37.180948Z",
     "start_time": "2019-02-06T11:04:37.138189Z"
    }
   },
   "outputs": [
    {
     "name": "stdout",
     "output_type": "stream",
     "text": [
      "4 days, 3:46:40\n"
     ]
    }
   ],
   "source": [
    "print(timedelta(3, 100000))"
   ]
  },
  {
   "cell_type": "code",
   "execution_count": 168,
   "metadata": {
    "ExecuteTime": {
     "end_time": "2019-02-06T11:04:37.217897Z",
     "start_time": "2019-02-06T11:04:37.184071Z"
    }
   },
   "outputs": [
    {
     "data": {
      "text/plain": [
       "17"
      ]
     },
     "execution_count": 168,
     "metadata": {},
     "output_type": "execute_result"
    }
   ],
   "source": [
    "(dt2 - dt).days"
   ]
  },
  {
   "cell_type": "code",
   "execution_count": 169,
   "metadata": {
    "ExecuteTime": {
     "end_time": "2019-02-06T11:04:37.257870Z",
     "start_time": "2019-02-06T11:04:37.220761Z"
    }
   },
   "outputs": [
    {
     "name": "stdout",
     "output_type": "stream",
     "text": [
      "2013-01-01\n",
      "2013-01-02\n",
      "2013-01-03\n",
      "2013-01-04\n"
     ]
    }
   ],
   "source": [
    "from datetime import timedelta, date\n",
    "\n",
    "def daterange(start_date, end_date):\n",
    "    for n in range(int ((end_date - start_date).days)):\n",
    "        yield start_date + timedelta(n)\n",
    "\n",
    "start_date = date(2013, 1, 1)\n",
    "end_date = date(2013, 1, 5)\n",
    "for single_date in daterange(start_date, end_date):\n",
    "    print single_date.strftime(\"%Y-%m-%d\")"
   ]
  },
  {
   "cell_type": "code",
   "execution_count": 170,
   "metadata": {
    "ExecuteTime": {
     "end_time": "2019-02-06T11:04:37.296835Z",
     "start_time": "2019-02-06T11:04:37.260811Z"
    }
   },
   "outputs": [
    {
     "data": {
      "text/plain": [
       "345600.0"
      ]
     },
     "execution_count": 170,
     "metadata": {},
     "output_type": "execute_result"
    }
   ],
   "source": [
    "(end_date -start_date).total_seconds()"
   ]
  },
  {
   "cell_type": "code",
   "execution_count": 171,
   "metadata": {
    "ExecuteTime": {
     "end_time": "2019-02-06T11:04:37.332984Z",
     "start_time": "2019-02-06T11:04:37.299656Z"
    },
    "collapsed": true
   },
   "outputs": [],
   "source": [
    "from datetime import date"
   ]
  },
  {
   "cell_type": "code",
   "execution_count": 172,
   "metadata": {
    "ExecuteTime": {
     "end_time": "2019-02-06T11:04:37.368528Z",
     "start_time": "2019-02-06T11:04:37.335969Z"
    },
    "collapsed": true
   },
   "outputs": [],
   "source": [
    "td = date.today()"
   ]
  },
  {
   "cell_type": "code",
   "execution_count": 173,
   "metadata": {
    "ExecuteTime": {
     "end_time": "2019-02-06T11:04:37.404821Z",
     "start_time": "2019-02-06T11:04:37.371239Z"
    }
   },
   "outputs": [
    {
     "data": {
      "text/plain": [
       "2"
      ]
     },
     "execution_count": 173,
     "metadata": {},
     "output_type": "execute_result"
    }
   ],
   "source": [
    "td.weekday()"
   ]
  },
  {
   "cell_type": "code",
   "execution_count": 174,
   "metadata": {
    "ExecuteTime": {
     "end_time": "2019-02-06T11:04:37.455507Z",
     "start_time": "2019-02-06T11:04:37.407596Z"
    }
   },
   "outputs": [
    {
     "name": "stdout",
     "output_type": "stream",
     "text": [
      "2019-02-06 19:04:37.451293\n",
      "The current time is 19:04:37.451293\n",
      "The current time is 19:04:37.451293\n",
      "Today is day number 2\n",
      "which is a wednesday\n",
      "2\n"
     ]
    }
   ],
   "source": [
    "from datetime import date\n",
    "from datetime import time\n",
    "from datetime import datetime\n",
    "def main():\n",
    "    ##DATETIME OBJECTS\n",
    "    #Get today's date from datetime class\n",
    "    today=datetime.now()\n",
    "    print(today)\n",
    "    # Get the current time\n",
    "    t = datetime.time(today)\n",
    "    print \"The current time is\", t\n",
    "    print \"The current time is\", today.time()\n",
    "    #weekday returns 0 (monday) through 6 (sunday)\n",
    "    wd=date.weekday(today)\n",
    "    #Days start at 0 for monday\n",
    "    days= [\"monday\",\"tuesday\",\"wednesday\",\"thursday\",\"friday\",\"saturday\",\"sunday\"]\n",
    "    print(\"Today is day number %d\" % wd)\n",
    "    print(\"which is a \" + days[wd])\n",
    "    print(today.weekday())\n",
    "\n",
    "\n",
    "if __name__== \"__main__\":\n",
    "    main()"
   ]
  },
  {
   "cell_type": "code",
   "execution_count": 175,
   "metadata": {
    "ExecuteTime": {
     "end_time": "2019-02-06T11:04:37.500488Z",
     "start_time": "2019-02-06T11:04:37.458540Z"
    }
   },
   "outputs": [
    {
     "data": {
      "text/plain": [
       "datetime.datetime(2019, 2, 6, 19, 4, 37, 494177)"
      ]
     },
     "execution_count": 175,
     "metadata": {},
     "output_type": "execute_result"
    }
   ],
   "source": [
    "datetime.now()"
   ]
  },
  {
   "cell_type": "code",
   "execution_count": 176,
   "metadata": {
    "ExecuteTime": {
     "end_time": "2019-02-06T11:04:37.540931Z",
     "start_time": "2019-02-06T11:04:37.503390Z"
    }
   },
   "outputs": [
    {
     "data": {
      "text/plain": [
       "datetime.date(2019, 2, 6)"
      ]
     },
     "execution_count": 176,
     "metadata": {},
     "output_type": "execute_result"
    }
   ],
   "source": [
    "date.today()"
   ]
  },
  {
   "cell_type": "code",
   "execution_count": 177,
   "metadata": {
    "ExecuteTime": {
     "end_time": "2019-02-06T11:04:37.582374Z",
     "start_time": "2019-02-06T11:04:37.544032Z"
    }
   },
   "outputs": [
    {
     "data": {
      "text/plain": [
       "datetime.datetime(2019, 2, 6, 19, 4, 37, 577880)"
      ]
     },
     "execution_count": 177,
     "metadata": {},
     "output_type": "execute_result"
    }
   ],
   "source": [
    "datetime.today()"
   ]
  },
  {
   "cell_type": "markdown",
   "metadata": {
    "ExecuteTime": {
     "end_time": "2019-01-30T00:15:50.514056Z",
     "start_time": "2019-01-30T00:15:50.486108Z"
    }
   },
   "source": [
    "### tzinfo"
   ]
  },
  {
   "cell_type": "code",
   "execution_count": 178,
   "metadata": {
    "ExecuteTime": {
     "end_time": "2019-02-06T11:04:37.625491Z",
     "start_time": "2019-02-06T11:04:37.585031Z"
    }
   },
   "outputs": [
    {
     "data": {
      "text/plain": [
       "'\\nThe function datetime.now() takes tzinfo as keyword argument but datetime.today() does not take any keyword arguments.\\nQuoting the docs:\\n\\ndatetime.now() returns the current local date and time. If optional argument tz is None or not specified, \\nthis is like today(), but, if possible, supplies more precision than can be gotten from going through a time.time() \\ntimestamp (for example, this may be possible on platforms supplying the C gettimeofday() function).\\n'"
      ]
     },
     "execution_count": 178,
     "metadata": {},
     "output_type": "execute_result"
    }
   ],
   "source": [
    "# 待研究\n",
    "\"\"\"\n",
    "The function datetime.now() takes tzinfo as keyword argument but datetime.today() does not take any keyword arguments.\n",
    "Quoting the docs:\n",
    "\n",
    "datetime.now() returns the current local date and time. If optional argument tz is None or not specified, \n",
    "this is like today(), but, if possible, supplies more precision than can be gotten from going through a time.time() \n",
    "timestamp (for example, this may be possible on platforms supplying the C gettimeofday() function).\n",
    "\"\"\"\n"
   ]
  },
  {
   "cell_type": "markdown",
   "metadata": {},
   "source": [
    "## 唯一化以及其他的集合逻辑"
   ]
  },
  {
   "cell_type": "code",
   "execution_count": 179,
   "metadata": {
    "ExecuteTime": {
     "end_time": "2019-02-06T11:04:37.667594Z",
     "start_time": "2019-02-06T11:04:37.628774Z"
    }
   },
   "outputs": [
    {
     "data": {
      "text/plain": [
       "array(['Bob', 'Joe', 'Will'],\n",
       "      dtype='|S4')"
      ]
     },
     "execution_count": 179,
     "metadata": {},
     "output_type": "execute_result"
    }
   ],
   "source": [
    "names = np.array(['Bob', 'Joe', 'Will', 'Bob', 'Will', 'Joe', 'Joe'])\n",
    "np.unique(names)"
   ]
  },
  {
   "cell_type": "code",
   "execution_count": 180,
   "metadata": {
    "ExecuteTime": {
     "end_time": "2019-02-06T11:04:37.715538Z",
     "start_time": "2019-02-06T11:04:37.670925Z"
    }
   },
   "outputs": [
    {
     "data": {
      "text/plain": [
       "array([1, 2, 3, 4])"
      ]
     },
     "execution_count": 180,
     "metadata": {},
     "output_type": "execute_result"
    }
   ],
   "source": [
    "ints = np.array([3, 3, 3, 2, 2, 1, 1, 4, 4])\n",
    "np.unique(ints)"
   ]
  },
  {
   "cell_type": "code",
   "execution_count": 181,
   "metadata": {
    "ExecuteTime": {
     "end_time": "2019-02-06T11:04:37.757662Z",
     "start_time": "2019-02-06T11:04:37.719052Z"
    }
   },
   "outputs": [
    {
     "data": {
      "text/plain": [
       "[1, 2, 3, 4]"
      ]
     },
     "execution_count": 181,
     "metadata": {},
     "output_type": "execute_result"
    }
   ],
   "source": [
    "sorted(set(ints))"
   ]
  },
  {
   "cell_type": "code",
   "execution_count": 182,
   "metadata": {
    "ExecuteTime": {
     "end_time": "2019-02-06T11:04:37.800579Z",
     "start_time": "2019-02-06T11:04:37.761751Z"
    }
   },
   "outputs": [
    {
     "data": {
      "text/plain": [
       "array([ True, False, False,  True,  True, False,  True], dtype=bool)"
      ]
     },
     "execution_count": 182,
     "metadata": {},
     "output_type": "execute_result"
    }
   ],
   "source": [
    "values = np.array([6, 0, 0, 3, 2, 5, 6])\n",
    "np.in1d(values, [2, 3, 6])"
   ]
  },
  {
   "cell_type": "markdown",
   "metadata": {
    "ExecuteTime": {
     "end_time": "2019-01-30T00:31:41.450919Z",
     "start_time": "2019-01-30T00:31:41.418720Z"
    }
   },
   "source": [
    "## 用于数组的文件输入输出"
   ]
  },
  {
   "cell_type": "code",
   "execution_count": 183,
   "metadata": {
    "ExecuteTime": {
     "end_time": "2019-02-06T11:04:37.832817Z",
     "start_time": "2019-02-06T11:04:37.803206Z"
    },
    "collapsed": true
   },
   "outputs": [],
   "source": [
    "arr = np.arange(100)"
   ]
  },
  {
   "cell_type": "code",
   "execution_count": 184,
   "metadata": {
    "ExecuteTime": {
     "end_time": "2019-02-06T11:04:37.865984Z",
     "start_time": "2019-02-06T11:04:37.835138Z"
    },
    "collapsed": true
   },
   "outputs": [],
   "source": [
    "np.save('my_some_array', arr)"
   ]
  },
  {
   "cell_type": "code",
   "execution_count": 185,
   "metadata": {
    "ExecuteTime": {
     "end_time": "2019-02-06T11:04:37.911816Z",
     "start_time": "2019-02-06T11:04:37.868779Z"
    },
    "collapsed": true
   },
   "outputs": [],
   "source": [
    "# cat my_some_array.npy"
   ]
  },
  {
   "cell_type": "code",
   "execution_count": 186,
   "metadata": {
    "ExecuteTime": {
     "end_time": "2019-02-06T11:04:37.971984Z",
     "start_time": "2019-02-06T11:04:37.915607Z"
    }
   },
   "outputs": [
    {
     "data": {
      "text/plain": [
       "array([ 0,  1,  2,  3,  4,  5,  6,  7,  8,  9, 10, 11, 12, 13, 14, 15, 16,\n",
       "       17, 18, 19, 20, 21, 22, 23, 24, 25, 26, 27, 28, 29, 30, 31, 32, 33,\n",
       "       34, 35, 36, 37, 38, 39, 40, 41, 42, 43, 44, 45, 46, 47, 48, 49, 50,\n",
       "       51, 52, 53, 54, 55, 56, 57, 58, 59, 60, 61, 62, 63, 64, 65, 66, 67,\n",
       "       68, 69, 70, 71, 72, 73, 74, 75, 76, 77, 78, 79, 80, 81, 82, 83, 84,\n",
       "       85, 86, 87, 88, 89, 90, 91, 92, 93, 94, 95, 96, 97, 98, 99])"
      ]
     },
     "execution_count": 186,
     "metadata": {},
     "output_type": "execute_result"
    }
   ],
   "source": [
    "new_arr = np.load('my_some_array.npy')\n",
    "new_arr"
   ]
  },
  {
   "cell_type": "code",
   "execution_count": 187,
   "metadata": {
    "ExecuteTime": {
     "end_time": "2019-02-06T11:04:38.016093Z",
     "start_time": "2019-02-06T11:04:37.976809Z"
    },
    "collapsed": true
   },
   "outputs": [],
   "source": [
    "np.savez('my_array_archive.npz', a=arr, b=arr)"
   ]
  },
  {
   "cell_type": "code",
   "execution_count": 188,
   "metadata": {
    "ExecuteTime": {
     "end_time": "2019-02-06T11:04:38.056920Z",
     "start_time": "2019-02-06T11:04:38.018766Z"
    },
    "collapsed": true
   },
   "outputs": [],
   "source": [
    "arch = np.load('array_archive.npz')"
   ]
  },
  {
   "cell_type": "code",
   "execution_count": 189,
   "metadata": {
    "ExecuteTime": {
     "end_time": "2019-02-06T11:04:38.098947Z",
     "start_time": "2019-02-06T11:04:38.059881Z"
    }
   },
   "outputs": [
    {
     "name": "stdout",
     "output_type": "stream",
     "text": [
      "[ 0 10  2  3  4  5  6  7  8  9 10 11 12 13 14 15 16 17 18 19 20 21 22 23 24\n",
      " 25 26 27 28 29 30 31 32 33 34 35 36 37 38 39 40 41 42 43 44 45 46 47 48 49\n",
      " 50 51 52 53 54 55 56 57 58 59 60 61 62 63 64 65 66 67 68 69 70 71 72 73 74\n",
      " 75 76 77 78 79 80 81 82 83 84 85 86 87 88 89 90 91 92 93 94 95 96 97 98 99]\n"
     ]
    },
    {
     "data": {
      "text/plain": [
       "array([ 0,  1,  2,  3,  4,  5,  6,  7,  8,  9, 10, 11, 12, 13, 14, 15, 16,\n",
       "       17, 18, 19, 20, 21, 22, 23, 24, 25, 26, 27, 28, 29, 30, 31, 32, 33,\n",
       "       34, 35, 36, 37, 38, 39, 40, 41, 42, 43, 44, 45, 46, 47, 48, 49, 50,\n",
       "       51, 52, 53, 54, 55, 56, 57, 58, 59, 60, 61, 62, 63, 64, 65, 66, 67,\n",
       "       68, 69, 70, 71, 72, 73, 74, 75, 76, 77, 78, 79, 80, 81, 82, 83, 84,\n",
       "       85, 86, 87, 88, 89, 90, 91, 92, 93, 94, 95, 96, 97, 98, 99])"
      ]
     },
     "execution_count": 189,
     "metadata": {},
     "output_type": "execute_result"
    }
   ],
   "source": [
    "z = arch[\"a\"]\n",
    "z[1]= 10\n",
    "print(z)\n",
    "arch['a']"
   ]
  },
  {
   "cell_type": "code",
   "execution_count": 190,
   "metadata": {
    "ExecuteTime": {
     "end_time": "2019-02-06T11:04:38.150756Z",
     "start_time": "2019-02-06T11:04:38.103240Z"
    }
   },
   "outputs": [
    {
     "data": {
      "text/plain": [
       "array([ 0,  1,  2,  3,  4,  5,  6,  7,  8,  9, 10, 11, 12, 13, 14, 15, 16,\n",
       "       17, 18, 19, 20, 21, 22, 23, 24, 25, 26, 27, 28, 29, 30, 31, 32, 33,\n",
       "       34, 35, 36, 37, 38, 39, 40, 41, 42, 43, 44, 45, 46, 47, 48, 49, 50,\n",
       "       51, 52, 53, 54, 55, 56, 57, 58, 59, 60, 61, 62, 63, 64, 65, 66, 67,\n",
       "       68, 69, 70, 71, 72, 73, 74, 75, 76, 77, 78, 79, 80, 81, 82, 83, 84,\n",
       "       85, 86, 87, 88, 89, 90, 91, 92, 93, 94, 95, 96, 97, 98, 99])"
      ]
     },
     "execution_count": 190,
     "metadata": {},
     "output_type": "execute_result"
    }
   ],
   "source": [
    "arch[\"b\"]"
   ]
  },
  {
   "cell_type": "markdown",
   "metadata": {},
   "source": [
    "## 存取文本文件"
   ]
  },
  {
   "cell_type": "code",
   "execution_count": 191,
   "metadata": {
    "ExecuteTime": {
     "end_time": "2019-02-06T11:04:38.340651Z",
     "start_time": "2019-02-06T11:04:38.154150Z"
    }
   },
   "outputs": [
    {
     "name": "stdout",
     "output_type": "stream",
     "text": [
      "1,2,3\r\n",
      "4,5,6\r\n",
      "7,8,9\r\n"
     ]
    }
   ],
   "source": [
    "cat array_ext.txt"
   ]
  },
  {
   "cell_type": "code",
   "execution_count": 192,
   "metadata": {
    "ExecuteTime": {
     "end_time": "2019-02-06T11:04:38.377136Z",
     "start_time": "2019-02-06T11:04:38.343628Z"
    },
    "collapsed": true
   },
   "outputs": [],
   "source": [
    "arr = np.loadtxt('array_ext.txt', delimiter=',')"
   ]
  },
  {
   "cell_type": "code",
   "execution_count": 193,
   "metadata": {
    "ExecuteTime": {
     "end_time": "2019-02-06T11:04:38.407775Z",
     "start_time": "2019-02-06T11:04:38.379686Z"
    }
   },
   "outputs": [
    {
     "data": {
      "text/plain": [
       "array([[ 1.,  2.,  3.],\n",
       "       [ 4.,  5.,  6.],\n",
       "       [ 7.,  8.,  9.]])"
      ]
     },
     "execution_count": 193,
     "metadata": {},
     "output_type": "execute_result"
    }
   ],
   "source": [
    "arr"
   ]
  },
  {
   "cell_type": "markdown",
   "metadata": {
    "ExecuteTime": {
     "end_time": "2019-01-30T01:01:04.625366Z",
     "start_time": "2019-01-30T01:01:04.588656Z"
    }
   },
   "source": [
    "## 线性代数"
   ]
  },
  {
   "cell_type": "code",
   "execution_count": 194,
   "metadata": {
    "ExecuteTime": {
     "end_time": "2019-02-06T11:04:38.466757Z",
     "start_time": "2019-02-06T11:04:38.409991Z"
    }
   },
   "outputs": [
    {
     "name": "stdout",
     "output_type": "stream",
     "text": [
      "[[ 1. -0.  0. -0. -0.]\n",
      " [-0.  1. -0. -0.  0.]\n",
      " [-0.  0.  1.  0.  0.]\n",
      " [ 0. -0.  0.  1.  0.]\n",
      " [ 0.  0.  0. -0.  1.]]\n",
      "[[ -6.9271   7.389    6.1227  -7.1163  -4.9215]\n",
      " [  0.      -3.9735  -0.8671   2.9747  -5.7402]\n",
      " [  0.       0.     -10.2681   1.8909   1.6079]\n",
      " [  0.       0.       0.      -1.2996   3.3577]\n",
      " [  0.       0.       0.       0.       0.5571]]\n",
      "[[-0.5883 -0.2619 -0.2013 -0.3233 -0.6635]\n",
      " [ 0.4772 -0.6609  0.1734 -0.5501  0.0532]\n",
      " [ 0.1887 -0.0806 -0.9635 -0.0266  0.1698]\n",
      " [-0.4975  0.1618  0.0179 -0.5581  0.6438]\n",
      " [-0.3782 -0.6797  0.0276  0.5298  0.3371]]\n"
     ]
    }
   ],
   "source": [
    "np.random.seed(12345)\n",
    "from numpy.linalg import inv, qr, svd\n",
    "X = randn(5, 5)\n",
    "mat = X.T.dot(X)\n",
    "inv(mat)\n",
    "print(mat.dot(inv(mat)))\n",
    "q, r = qr(mat)\n",
    "print(r)\n",
    "print(q)"
   ]
  },
  {
   "cell_type": "code",
   "execution_count": 195,
   "metadata": {
    "ExecuteTime": {
     "end_time": "2019-02-06T11:04:38.514936Z",
     "start_time": "2019-02-06T11:04:38.471170Z"
    }
   },
   "outputs": [
    {
     "data": {
      "text/plain": [
       "array([[-17.2111,  -2.7853,  -3.7765],\n",
       "       [  2.4423,   0.8391,   0.3657],\n",
       "       [  4.5768,   0.1752,   0.6837]])"
      ]
     },
     "execution_count": 195,
     "metadata": {},
     "output_type": "execute_result"
    }
   ],
   "source": [
    "inv(randn(3, 3))"
   ]
  },
  {
   "cell_type": "code",
   "execution_count": 196,
   "metadata": {
    "ExecuteTime": {
     "end_time": "2019-02-06T11:04:38.570533Z",
     "start_time": "2019-02-06T11:04:38.517769Z"
    },
    "collapsed": true
   },
   "outputs": [],
   "source": [
    "u,s,v = svd(randn(3, 3))"
   ]
  },
  {
   "cell_type": "code",
   "execution_count": 197,
   "metadata": {
    "ExecuteTime": {
     "end_time": "2019-02-06T11:04:38.620479Z",
     "start_time": "2019-02-06T11:04:38.574959Z"
    }
   },
   "outputs": [
    {
     "data": {
      "text/plain": [
       "array([[-0.47  ,  0.4623, -0.7519],\n",
       "       [ 0.1167, -0.8118, -0.5722],\n",
       "       [-0.8749, -0.3567,  0.3276]])"
      ]
     },
     "execution_count": 197,
     "metadata": {},
     "output_type": "execute_result"
    }
   ],
   "source": [
    "u"
   ]
  },
  {
   "cell_type": "code",
   "execution_count": 198,
   "metadata": {
    "ExecuteTime": {
     "end_time": "2019-02-06T11:04:38.672299Z",
     "start_time": "2019-02-06T11:04:38.624904Z"
    }
   },
   "outputs": [
    {
     "data": {
      "text/plain": [
       "array([ 3.1846,  1.2797,  0.3439])"
      ]
     },
     "execution_count": 198,
     "metadata": {},
     "output_type": "execute_result"
    }
   ],
   "source": [
    "s"
   ]
  },
  {
   "cell_type": "code",
   "execution_count": 199,
   "metadata": {
    "ExecuteTime": {
     "end_time": "2019-02-06T11:04:38.728293Z",
     "start_time": "2019-02-06T11:04:38.675615Z"
    }
   },
   "outputs": [
    {
     "data": {
      "text/plain": [
       "array([[ 0.7796, -0.0668,  0.6227],\n",
       "       [ 0.2706,  0.9326, -0.2387],\n",
       "       [-0.5648,  0.3546,  0.7452]])"
      ]
     },
     "execution_count": 199,
     "metadata": {},
     "output_type": "execute_result"
    }
   ],
   "source": [
    "v"
   ]
  },
  {
   "cell_type": "markdown",
   "metadata": {},
   "source": [
    "## 随机数生成"
   ]
  },
  {
   "cell_type": "markdown",
   "metadata": {},
   "source": [
    "sigma * np.random.randn(...) + mu\n",
    "is the same as\n",
    "\n",
    "np.random.normal(loc= mu, scale= sigma, ...)"
   ]
  },
  {
   "cell_type": "code",
   "execution_count": 200,
   "metadata": {
    "ExecuteTime": {
     "end_time": "2019-02-06T11:04:38.779968Z",
     "start_time": "2019-02-06T11:04:38.731662Z"
    }
   },
   "outputs": [
    {
     "data": {
      "text/plain": [
       "array([[-0.9707, -1.307 ,  0.2863,  0.378 ],\n",
       "       [-0.7539,  0.3313,  1.3497,  0.0699],\n",
       "       [ 0.2467, -0.0119,  1.0048,  1.3272],\n",
       "       [-0.9193, -1.5491,  0.0222,  0.7584]])"
      ]
     },
     "execution_count": 200,
     "metadata": {},
     "output_type": "execute_result"
    }
   ],
   "source": [
    "samples = np.random.normal(loc=0, scale=1, size=(4,4))\n",
    "samples"
   ]
  },
  {
   "cell_type": "code",
   "execution_count": 201,
   "metadata": {
    "ExecuteTime": {
     "end_time": "2019-02-06T11:04:38.824720Z",
     "start_time": "2019-02-06T11:04:38.783844Z"
    }
   },
   "outputs": [
    {
     "data": {
      "text/plain": [
       "array([[-0.6605,  0.8626, -0.01  ,  0.05  ],\n",
       "       [ 0.6702,  0.853 , -0.9559, -0.0235],\n",
       "       [-2.3042, -0.6525, -1.2183, -1.3326],\n",
       "       [ 1.0746,  0.7236,  0.69  ,  1.0015]])"
      ]
     },
     "execution_count": 201,
     "metadata": {},
     "output_type": "execute_result"
    }
   ],
   "source": [
    "np.random.randn(4,4)"
   ]
  },
  {
   "cell_type": "code",
   "execution_count": 202,
   "metadata": {
    "ExecuteTime": {
     "end_time": "2019-02-06T11:04:38.871515Z",
     "start_time": "2019-02-06T11:04:38.827590Z"
    },
    "collapsed": true
   },
   "outputs": [],
   "source": [
    "from random import normalvariate\n",
    "import numpy as np\n",
    "import random\n",
    "N = 1000000"
   ]
  },
  {
   "cell_type": "code",
   "execution_count": 203,
   "metadata": {
    "ExecuteTime": {
     "end_time": "2019-02-06T11:04:38.922810Z",
     "start_time": "2019-02-06T11:04:38.874528Z"
    }
   },
   "outputs": [
    {
     "data": {
      "text/plain": [
       "-0.7425266816690796"
      ]
     },
     "execution_count": 203,
     "metadata": {},
     "output_type": "execute_result"
    }
   ],
   "source": [
    "normalvariate(mu=0, sigma=1)"
   ]
  },
  {
   "cell_type": "code",
   "execution_count": 204,
   "metadata": {
    "ExecuteTime": {
     "end_time": "2019-02-06T11:04:43.726151Z",
     "start_time": "2019-02-06T11:04:38.926522Z"
    }
   },
   "outputs": [
    {
     "name": "stdout",
     "output_type": "stream",
     "text": [
      "1 loop, best of 3: 1 s per loop\n"
     ]
    }
   ],
   "source": [
    "%timeit samples = [normalvariate(0,1) for _ in xrange(N)]"
   ]
  },
  {
   "cell_type": "code",
   "execution_count": 205,
   "metadata": {
    "ExecuteTime": {
     "end_time": "2019-02-06T11:04:45.778205Z",
     "start_time": "2019-02-06T11:04:43.729167Z"
    }
   },
   "outputs": [
    {
     "name": "stdout",
     "output_type": "stream",
     "text": [
      "10 loops, best of 3: 45.6 ms per loop\n"
     ]
    }
   ],
   "source": [
    "%timeit samples = np.random.normal(size=N)"
   ]
  },
  {
   "cell_type": "code",
   "execution_count": 206,
   "metadata": {
    "ExecuteTime": {
     "end_time": "2019-02-06T11:04:45.825043Z",
     "start_time": "2019-02-06T11:04:45.782630Z"
    }
   },
   "outputs": [
    {
     "data": {
      "text/plain": [
       "array([ 1.445 , -0.3374,  1.2289])"
      ]
     },
     "execution_count": 206,
     "metadata": {},
     "output_type": "execute_result"
    }
   ],
   "source": [
    "np.random.normal(size=3)"
   ]
  },
  {
   "cell_type": "code",
   "execution_count": 207,
   "metadata": {
    "ExecuteTime": {
     "end_time": "2019-02-06T11:04:45.874940Z",
     "start_time": "2019-02-06T11:04:45.830327Z"
    }
   },
   "outputs": [
    {
     "data": {
      "text/plain": [
       "[3, 6, 8, 9, 5, 2, 1, 4, 7, 0]"
      ]
     },
     "execution_count": 207,
     "metadata": {},
     "output_type": "execute_result"
    }
   ],
   "source": [
    "x = range(10)\n",
    "np.random.shuffle(x)\n",
    "x"
   ]
  },
  {
   "cell_type": "code",
   "execution_count": 208,
   "metadata": {
    "ExecuteTime": {
     "end_time": "2019-02-06T11:04:45.922996Z",
     "start_time": "2019-02-06T11:04:45.878717Z"
    }
   },
   "outputs": [
    {
     "data": {
      "text/plain": [
       "array([[ 0.3877,  0.5601,  0.6012,  0.1386],\n",
       "       [ 0.8835,  0.5067,  0.2598,  0.684 ],\n",
       "       [ 0.2865,  0.5168,  0.8675,  0.5245]])"
      ]
     },
     "execution_count": 208,
     "metadata": {},
     "output_type": "execute_result"
    }
   ],
   "source": [
    "np.random.rand(3, 4)"
   ]
  },
  {
   "cell_type": "code",
   "execution_count": 209,
   "metadata": {
    "ExecuteTime": {
     "end_time": "2019-02-06T11:04:45.978335Z",
     "start_time": "2019-02-06T11:04:45.927112Z"
    }
   },
   "outputs": [
    {
     "data": {
      "text/plain": [
       "array([[ 3.29  ,  5.2903,  2.9347,  1.8103],\n",
       "       [ 8.0169,  0.6319,  6.4489,  7.6466],\n",
       "       [ 7.5182,  2.5354,  3.8581,  2.0137]])"
      ]
     },
     "execution_count": 209,
     "metadata": {},
     "output_type": "execute_result"
    }
   ],
   "source": [
    "np.random.uniform(low=0,high=10,size=(3,4))  # 均匀分布"
   ]
  },
  {
   "cell_type": "code",
   "execution_count": 210,
   "metadata": {
    "ExecuteTime": {
     "end_time": "2019-02-06T11:04:46.055735Z",
     "start_time": "2019-02-06T11:04:45.983242Z"
    }
   },
   "outputs": [
    {
     "data": {
      "text/plain": [
       "dtype('float64')"
      ]
     },
     "execution_count": 210,
     "metadata": {},
     "output_type": "execute_result"
    }
   ],
   "source": [
    "np.random.rand(3).dtype"
   ]
  },
  {
   "cell_type": "markdown",
   "metadata": {},
   "source": [
    "## 随机漫步"
   ]
  },
  {
   "cell_type": "code",
   "execution_count": 211,
   "metadata": {
    "ExecuteTime": {
     "end_time": "2019-02-06T11:04:46.352276Z",
     "start_time": "2019-02-06T11:04:46.059074Z"
    }
   },
   "outputs": [
    {
     "data": {
      "text/plain": [
       "[<matplotlib.lines.Line2D at 0x10e351950>]"
      ]
     },
     "execution_count": 211,
     "metadata": {},
     "output_type": "execute_result"
    },
    {
     "data": {
      "image/png": "[encoded data removed]",
      "text/plain": [
       "<matplotlib.figure.Figure at 0x1238d24d0>"
      ]
     },
     "metadata": {},
     "output_type": "display_data"
    }
   ],
   "source": [
    "N = 1000\n",
    "position = 0\n",
    "walk = [position]\n",
    "for i in range(1, N):\n",
    "    step = 1 if random.randint(0, 1) else -1\n",
    "    position += step\n",
    "    walk.append(position)\n",
    "from matplotlib import pyplot as plt\n",
    "plt.plot(walk)"
   ]
  },
  {
   "cell_type": "code",
   "execution_count": 212,
   "metadata": {
    "ExecuteTime": {
     "end_time": "2019-02-06T11:04:46.650019Z",
     "start_time": "2019-02-06T11:04:46.355019Z"
    }
   },
   "outputs": [
    {
     "name": "stdout",
     "output_type": "stream",
     "text": [
      "12\n",
      "-27\n",
      "960\n"
     ]
    },
    {
     "data": {
      "image/png": "[encoded data removed]",
      "text/plain": [
       "<matplotlib.figure.Figure at 0x1238dae90>"
      ]
     },
     "metadata": {},
     "output_type": "display_data"
    }
   ],
   "source": [
    "steps = np.where(np.random.randint(0, 2, size=N)>0, -1, 1)\n",
    "walks = steps.cumsum()\n",
    "plt.plot(walks)\n",
    "print(max(walks))\n",
    "print(min(walks))\n",
    "# 计算首次穿越10的时间\n",
    "print(np.argmax(walks>10))"
   ]
  },
  {
   "cell_type": "code",
   "execution_count": 213,
   "metadata": {
    "ExecuteTime": {
     "end_time": "2019-02-06T11:04:46.716139Z",
     "start_time": "2019-02-06T11:04:46.661658Z"
    },
    "collapsed": true
   },
   "outputs": [],
   "source": [
    "# np.argmax?"
   ]
  },
  {
   "cell_type": "code",
   "execution_count": 235,
   "metadata": {
    "ExecuteTime": {
     "end_time": "2019-02-06T11:11:17.972397Z",
     "start_time": "2019-02-06T11:11:17.803935Z"
    }
   },
   "outputs": [
    {
     "name": "stdout",
     "output_type": "stream",
     "text": [
      "(5000, 1000)\n",
      "3239\n",
      "(3239, 1000)\n"
     ]
    },
    {
     "data": {
      "text/plain": [
       "466.91108366779872"
      ]
     },
     "execution_count": 235,
     "metadata": {},
     "output_type": "execute_result"
    }
   ],
   "source": [
    "steps = np.where(np.random.randint(0, 2, size=(5000, N))>0, -1, 1)\n",
    "walks = steps.cumsum(axis=1)\n",
    "print(walks.shape)\n",
    "print((np.abs(walks)>30).any(1).sum())\n",
    "hit30 = walks[np.any(np.abs(walks)>30, axis=1)]\n",
    "print(hit30.shape)\n",
    "np.mean(hit30.argmax(1))"
   ]
  },
  {
   "cell_type": "code",
   "execution_count": 245,
   "metadata": {
    "ExecuteTime": {
     "end_time": "2019-02-06T11:11:48.272243Z",
     "start_time": "2019-02-06T11:11:47.931086Z"
    }
   },
   "outputs": [
    {
     "name": "stdout",
     "output_type": "stream",
     "text": [
      "(5000, 1000)\n",
      "1527\n",
      "(1527, 1000)\n"
     ]
    },
    {
     "data": {
      "text/plain": [
       "469.25998690242307"
      ]
     },
     "execution_count": 245,
     "metadata": {},
     "output_type": "execute_result"
    }
   ],
   "source": [
    "steps = np.random.normal(0, 2, size=(5000, N))\n",
    "walks = steps.cumsum(axis=1)\n",
    "print(walks.shape)\n",
    "print((np.abs(walks)>90).any(1).sum())\n",
    "hit30 = walks[np.any(np.abs(walks)>90, axis=1)]\n",
    "print(hit30.shape)\n",
    "np.mean(hit30.argmax(1))"
   ]
  }
 ],
 "metadata": {
  "kernelspec": {
   "display_name": "Python 2",
   "language": "python",
   "name": "python2"
  },
  "language_info": {
   "codemirror_mode": {
    "name": "ipython",
    "version": 2
   },
   "file_extension": ".py",
   "mimetype": "text/x-python",
   "name": "python",
   "nbconvert_exporter": "python",
   "pygments_lexer": "ipython2",
   "version": "2.7.13"
  },
  "toc": {
   "nav_menu": {},
   "number_sections": true,
   "sideBar": true,
   "skip_h1_title": false,
   "toc_cell": true,
   "toc_position": {
    "height": "660px",
    "left": "0px",
    "right": "1228px",
    "top": "106px",
    "width": "212px"
   },
   "toc_section_display": "block",
   "toc_window_display": false
  },
  "varInspector": {
   "cols": {
    "lenName": 16,
    "lenType": 16,
    "lenVar": 40
   },
   "kernels_config": {
    "python": {
     "delete_cmd_postfix": "",
     "delete_cmd_prefix": "del ",
     "library": "var_list.py",
     "varRefreshCmd": "print(var_dic_list())"
    },
    "r": {
     "delete_cmd_postfix": ") ",
     "delete_cmd_prefix": "rm(",
     "library": "var_list.r",
     "varRefreshCmd": "cat(var_dic_list()) "
    }
   },
   "oldHeight": 122,
   "position": {
    "height": "323px",
    "left": "769px",
    "right": "20px",
    "top": "121px",
    "width": "649px"
   },
   "types_to_exclude": [
    "module",
    "function",
    "builtin_function_or_method",
    "instance",
    "_Feature"
   ],
   "varInspector_section_display": "block",
   "window_display": false
  }
 },
 "nbformat": 4,
 "nbformat_minor": 2
}
