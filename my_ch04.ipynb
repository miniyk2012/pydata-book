{
 "cells": [
  {
   "cell_type": "markdown",
   "metadata": {
    "toc": true
   },
   "source": [
    "<h1>Table of Contents<span class=\"tocSkip\"></span></h1>\n",
    "<div class=\"toc\" style=\"margin-top: 1em;\"><ul class=\"toc-item\"><li><ul class=\"toc-item\"><li><span><a href=\"#创建ndarray\" data-toc-modified-id=\"创建ndarray-0.1\"><span class=\"toc-item-num\">0.1&nbsp;&nbsp;</span>创建ndarray</a></span></li><li><span><a href=\"#ndarray的数据类型\" data-toc-modified-id=\"ndarray的数据类型-0.2\"><span class=\"toc-item-num\">0.2&nbsp;&nbsp;</span>ndarray的数据类型</a></span></li><li><span><a href=\"#数组与标量之间的运算\" data-toc-modified-id=\"数组与标量之间的运算-0.3\"><span class=\"toc-item-num\">0.3&nbsp;&nbsp;</span>数组与标量之间的运算</a></span></li><li><span><a href=\"#基本的索引和切片\" data-toc-modified-id=\"基本的索引和切片-0.4\"><span class=\"toc-item-num\">0.4&nbsp;&nbsp;</span>基本的索引和切片</a></span></li><li><span><a href=\"#切片索引\" data-toc-modified-id=\"切片索引-0.5\"><span class=\"toc-item-num\">0.5&nbsp;&nbsp;</span>切片索引</a></span></li><li><span><a href=\"#布尔型索引\" data-toc-modified-id=\"布尔型索引-0.6\"><span class=\"toc-item-num\">0.6&nbsp;&nbsp;</span>布尔型索引</a></span></li><li><span><a href=\"#花式索引\" data-toc-modified-id=\"花式索引-0.7\"><span class=\"toc-item-num\">0.7&nbsp;&nbsp;</span>花式索引</a></span></li><li><span><a href=\"#数组转置\" data-toc-modified-id=\"数组转置-0.8\"><span class=\"toc-item-num\">0.8&nbsp;&nbsp;</span>数组转置</a></span></li><li><span><a href=\"#通用函数\" data-toc-modified-id=\"通用函数-0.9\"><span class=\"toc-item-num\">0.9&nbsp;&nbsp;</span>通用函数</a></span></li><li><span><a href=\"#利用数组进行数据处理(矢量化)\" data-toc-modified-id=\"利用数组进行数据处理(矢量化)-0.10\"><span class=\"toc-item-num\">0.10&nbsp;&nbsp;</span>利用数组进行数据处理(矢量化)</a></span></li><li><span><a href=\"#where的妙用\" data-toc-modified-id=\"where的妙用-0.11\"><span class=\"toc-item-num\">0.11&nbsp;&nbsp;</span>where的妙用</a></span></li><li><span><a href=\"#数学和统计方法\" data-toc-modified-id=\"数学和统计方法-0.12\"><span class=\"toc-item-num\">0.12&nbsp;&nbsp;</span>数学和统计方法</a></span></li><li><span><a href=\"#基于布尔型数组的方法\" data-toc-modified-id=\"基于布尔型数组的方法-0.13\"><span class=\"toc-item-num\">0.13&nbsp;&nbsp;</span>基于布尔型数组的方法</a></span></li><li><span><a href=\"#排序\" data-toc-modified-id=\"排序-0.14\"><span class=\"toc-item-num\">0.14&nbsp;&nbsp;</span>排序</a></span></li><li><span><a href=\"#日期和时间\" data-toc-modified-id=\"日期和时间-0.15\"><span class=\"toc-item-num\">0.15&nbsp;&nbsp;</span>日期和时间</a></span><ul class=\"toc-item\"><li><span><a href=\"#tzinfo\" data-toc-modified-id=\"tzinfo-0.15.1\"><span class=\"toc-item-num\">0.15.1&nbsp;&nbsp;</span>tzinfo</a></span></li></ul></li><li><span><a href=\"#唯一化以及其他的集合逻辑\" data-toc-modified-id=\"唯一化以及其他的集合逻辑-0.16\"><span class=\"toc-item-num\">0.16&nbsp;&nbsp;</span>唯一化以及其他的集合逻辑</a></span></li><li><span><a href=\"#用于数组的文件输入输出\" data-toc-modified-id=\"用于数组的文件输入输出-0.17\"><span class=\"toc-item-num\">0.17&nbsp;&nbsp;</span>用于数组的文件输入输出</a></span></li><li><span><a href=\"#存取文本文件\" data-toc-modified-id=\"存取文本文件-0.18\"><span class=\"toc-item-num\">0.18&nbsp;&nbsp;</span>存取文本文件</a></span></li><li><span><a href=\"#线性代数\" data-toc-modified-id=\"线性代数-0.19\"><span class=\"toc-item-num\">0.19&nbsp;&nbsp;</span>线性代数</a></span></li><li><span><a href=\"#随机数生成\" data-toc-modified-id=\"随机数生成-0.20\"><span class=\"toc-item-num\">0.20&nbsp;&nbsp;</span>随机数生成</a></span></li><li><span><a href=\"#随机漫步\" data-toc-modified-id=\"随机漫步-0.21\"><span class=\"toc-item-num\">0.21&nbsp;&nbsp;</span>随机漫步</a></span></li></ul></li></ul></div>"
   ]
  },
  {
   "cell_type": "code",
   "execution_count": 2,
   "metadata": {
    "ExecuteTime": {
     "end_time": "2019-01-29T23:15:40.042312Z",
     "start_time": "2019-01-29T23:15:39.473417Z"
    },
    "collapsed": true
   },
   "outputs": [],
   "source": [
    "%matplotlib inline"
   ]
  },
  {
   "cell_type": "code",
   "execution_count": 3,
   "metadata": {
    "ExecuteTime": {
     "end_time": "2019-01-29T23:15:40.512895Z",
     "start_time": "2019-01-29T23:15:40.044688Z"
    },
    "collapsed": true
   },
   "outputs": [],
   "source": [
    "from __future__ import division\n",
    "from numpy.random import randn\n",
    "import numpy as np\n",
    "np.set_printoptions(precision=4, suppress=True)\n",
    "from pandas import DataFrame\n",
    "import pandas as pd"
   ]
  },
  {
   "cell_type": "code",
   "execution_count": 4,
   "metadata": {
    "ExecuteTime": {
     "end_time": "2019-01-29T23:15:40.551813Z",
     "start_time": "2019-01-29T23:15:40.515105Z"
    },
    "collapsed": true
   },
   "outputs": [],
   "source": [
    "df3 = DataFrame(np.random.randn(10, 5),\n",
    "                columns=['a', 'b', 'c', 'd', 'e'])"
   ]
  },
  {
   "cell_type": "code",
   "execution_count": 5,
   "metadata": {
    "ExecuteTime": {
     "end_time": "2019-01-29T23:15:40.601010Z",
     "start_time": "2019-01-29T23:15:40.554291Z"
    }
   },
   "outputs": [
    {
     "data": {
      "text/plain": [
       "array([[ 0.9352,  0.0054, -3.667 ],\n",
       "       [-2.1156, -1.0011,  1.4951]])"
      ]
     },
     "execution_count": 5,
     "metadata": {},
     "output_type": "execute_result"
    }
   ],
   "source": [
    "data = randn(2, 3)\n",
    "data"
   ]
  },
  {
   "cell_type": "code",
   "execution_count": 6,
   "metadata": {
    "ExecuteTime": {
     "end_time": "2019-01-29T23:15:40.642542Z",
     "start_time": "2019-01-29T23:15:40.603885Z"
    }
   },
   "outputs": [
    {
     "data": {
      "text/plain": [
       "array([[ 1.8704,  0.0108, -7.3341],\n",
       "       [-4.2313, -2.0022,  2.9902]])"
      ]
     },
     "execution_count": 6,
     "metadata": {},
     "output_type": "execute_result"
    }
   ],
   "source": [
    "data + data"
   ]
  },
  {
   "cell_type": "code",
   "execution_count": 7,
   "metadata": {
    "ExecuteTime": {
     "end_time": "2019-01-29T23:15:40.677595Z",
     "start_time": "2019-01-29T23:15:40.646039Z"
    }
   },
   "outputs": [
    {
     "data": {
      "text/plain": [
       "array([[  9.3522,   0.054 , -36.6703],\n",
       "       [-21.1563, -10.0108,  14.9509]])"
      ]
     },
     "execution_count": 7,
     "metadata": {},
     "output_type": "execute_result"
    }
   ],
   "source": [
    "data * 10"
   ]
  },
  {
   "cell_type": "code",
   "execution_count": 8,
   "metadata": {
    "ExecuteTime": {
     "end_time": "2019-01-29T23:15:40.722952Z",
     "start_time": "2019-01-29T23:15:40.680625Z"
    }
   },
   "outputs": [
    {
     "data": {
      "text/plain": [
       "(2, 3)"
      ]
     },
     "execution_count": 8,
     "metadata": {},
     "output_type": "execute_result"
    }
   ],
   "source": [
    "data.shape"
   ]
  },
  {
   "cell_type": "code",
   "execution_count": 9,
   "metadata": {
    "ExecuteTime": {
     "end_time": "2019-01-29T23:15:40.774989Z",
     "start_time": "2019-01-29T23:15:40.727571Z"
    }
   },
   "outputs": [
    {
     "data": {
      "text/plain": [
       "dtype('float64')"
      ]
     },
     "execution_count": 9,
     "metadata": {},
     "output_type": "execute_result"
    }
   ],
   "source": [
    "data.dtype"
   ]
  },
  {
   "cell_type": "markdown",
   "metadata": {},
   "source": [
    "## 创建ndarray"
   ]
  },
  {
   "cell_type": "code",
   "execution_count": 10,
   "metadata": {
    "ExecuteTime": {
     "end_time": "2019-01-29T23:15:40.815048Z",
     "start_time": "2019-01-29T23:15:40.778080Z"
    }
   },
   "outputs": [
    {
     "data": {
      "text/plain": [
       "array([ 6. ,  7.5,  8. ,  0. ,  1. ])"
      ]
     },
     "execution_count": 10,
     "metadata": {},
     "output_type": "execute_result"
    }
   ],
   "source": [
    "data1 = [6, 7.5, 8, 0, 1]\n",
    "arr1 = np.array(data1)\n",
    "arr1"
   ]
  },
  {
   "cell_type": "code",
   "execution_count": 11,
   "metadata": {
    "ExecuteTime": {
     "end_time": "2019-01-29T23:15:40.854892Z",
     "start_time": "2019-01-29T23:15:40.817994Z"
    }
   },
   "outputs": [
    {
     "name": "stdout",
     "output_type": "stream",
     "text": [
      "(2, 3)\n",
      "2\n",
      "float64\n"
     ]
    }
   ],
   "source": [
    "arr2 = np.array([[1,2,3], [2.3, 4, 5]])\n",
    "print(arr2.shape)\n",
    "print(arr2.ndim)\n",
    "print(arr2.dtype)"
   ]
  },
  {
   "cell_type": "code",
   "execution_count": 12,
   "metadata": {
    "ExecuteTime": {
     "end_time": "2019-01-29T23:15:40.887976Z",
     "start_time": "2019-01-29T23:15:40.857602Z"
    }
   },
   "outputs": [
    {
     "data": {
      "text/plain": [
       "array(3.5)"
      ]
     },
     "execution_count": 12,
     "metadata": {},
     "output_type": "execute_result"
    }
   ],
   "source": [
    "np.array(3.5)"
   ]
  },
  {
   "cell_type": "code",
   "execution_count": 13,
   "metadata": {
    "ExecuteTime": {
     "end_time": "2019-01-29T23:15:40.922190Z",
     "start_time": "2019-01-29T23:15:40.890896Z"
    }
   },
   "outputs": [
    {
     "data": {
      "text/plain": [
       "3.0"
      ]
     },
     "execution_count": 13,
     "metadata": {},
     "output_type": "execute_result"
    }
   ],
   "source": [
    "arr2[0][2]"
   ]
  },
  {
   "cell_type": "code",
   "execution_count": 14,
   "metadata": {
    "ExecuteTime": {
     "end_time": "2019-01-29T23:15:40.977628Z",
     "start_time": "2019-01-29T23:15:40.925014Z"
    }
   },
   "outputs": [
    {
     "data": {
      "text/plain": [
       "array([[[  0.0000e+000,   0.0000e+000,   2.2950e-314],\n",
       "        [  2.2950e-314,   2.2950e-314,   2.2949e-314],\n",
       "        [  2.2952e-314,   2.2950e-314,   2.2950e-314]],\n",
       "\n",
       "       [[  2.2682e-314,   2.2950e-314,   2.2950e-314],\n",
       "        [  2.2950e-314,   1.3562e+248,   2.3289e+232],\n",
       "        [  1.1125e-308,   2.2949e-314,   1.4946e-154]]])"
      ]
     },
     "execution_count": 14,
     "metadata": {},
     "output_type": "execute_result"
    }
   ],
   "source": [
    "np.empty((2,3,3))"
   ]
  },
  {
   "cell_type": "code",
   "execution_count": 15,
   "metadata": {
    "ExecuteTime": {
     "end_time": "2019-01-29T23:15:41.022454Z",
     "start_time": "2019-01-29T23:15:40.983442Z"
    }
   },
   "outputs": [
    {
     "data": {
      "text/plain": [
       "array([[[ 0.,  0.,  0.],\n",
       "        [ 0.,  0.,  0.],\n",
       "        [ 0.,  0.,  0.]],\n",
       "\n",
       "       [[ 0.,  0.,  0.],\n",
       "        [ 0.,  0.,  0.],\n",
       "        [ 0.,  0.,  0.]]])"
      ]
     },
     "execution_count": 15,
     "metadata": {},
     "output_type": "execute_result"
    }
   ],
   "source": [
    "np.zeros((2,3,3))"
   ]
  },
  {
   "cell_type": "code",
   "execution_count": 16,
   "metadata": {
    "ExecuteTime": {
     "end_time": "2019-01-29T23:15:41.067280Z",
     "start_time": "2019-01-29T23:15:41.025872Z"
    }
   },
   "outputs": [
    {
     "data": {
      "text/plain": [
       "array([ True,  True,  True], dtype=bool)"
      ]
     },
     "execution_count": 16,
     "metadata": {},
     "output_type": "execute_result"
    }
   ],
   "source": [
    "np.ones((3,))  == np.ones(3)"
   ]
  },
  {
   "cell_type": "code",
   "execution_count": 17,
   "metadata": {
    "ExecuteTime": {
     "end_time": "2019-01-29T23:15:41.108568Z",
     "start_time": "2019-01-29T23:15:41.070681Z"
    }
   },
   "outputs": [
    {
     "data": {
      "text/plain": [
       "(3,)"
      ]
     },
     "execution_count": 17,
     "metadata": {},
     "output_type": "execute_result"
    }
   ],
   "source": [
    "np.ones(3).shape"
   ]
  },
  {
   "cell_type": "code",
   "execution_count": 18,
   "metadata": {
    "ExecuteTime": {
     "end_time": "2019-01-29T23:15:41.148469Z",
     "start_time": "2019-01-29T23:15:41.111560Z"
    }
   },
   "outputs": [
    {
     "data": {
      "text/plain": [
       "(3,)"
      ]
     },
     "execution_count": 18,
     "metadata": {},
     "output_type": "execute_result"
    }
   ],
   "source": [
    "np.ones((3,)).shape"
   ]
  },
  {
   "cell_type": "code",
   "execution_count": 19,
   "metadata": {
    "ExecuteTime": {
     "end_time": "2019-01-29T23:15:41.192757Z",
     "start_time": "2019-01-29T23:15:41.151652Z"
    }
   },
   "outputs": [
    {
     "data": {
      "text/plain": [
       "array([0, 1, 2, 3, 4])"
      ]
     },
     "execution_count": 19,
     "metadata": {},
     "output_type": "execute_result"
    }
   ],
   "source": [
    "np.arange(5)"
   ]
  },
  {
   "cell_type": "code",
   "execution_count": 20,
   "metadata": {
    "ExecuteTime": {
     "end_time": "2019-01-29T23:15:41.226586Z",
     "start_time": "2019-01-29T23:15:41.195837Z"
    },
    "collapsed": true
   },
   "outputs": [],
   "source": [
    "a1 = np.asarray([1,2,3])"
   ]
  },
  {
   "cell_type": "code",
   "execution_count": 21,
   "metadata": {
    "ExecuteTime": {
     "end_time": "2019-01-29T23:15:41.265113Z",
     "start_time": "2019-01-29T23:15:41.230054Z"
    }
   },
   "outputs": [
    {
     "data": {
      "text/plain": [
       "True"
      ]
     },
     "execution_count": 21,
     "metadata": {},
     "output_type": "execute_result"
    }
   ],
   "source": [
    "np.asarray(a1) is a1"
   ]
  },
  {
   "cell_type": "code",
   "execution_count": 22,
   "metadata": {
    "ExecuteTime": {
     "end_time": "2019-01-29T23:15:41.317069Z",
     "start_time": "2019-01-29T23:15:41.268078Z"
    }
   },
   "outputs": [
    {
     "data": {
      "text/plain": [
       "False"
      ]
     },
     "execution_count": 22,
     "metadata": {},
     "output_type": "execute_result"
    }
   ],
   "source": [
    "np.array([1,2,3]) is np.array([1,2,3])"
   ]
  },
  {
   "cell_type": "code",
   "execution_count": 23,
   "metadata": {
    "ExecuteTime": {
     "end_time": "2019-01-29T23:15:41.360184Z",
     "start_time": "2019-01-29T23:15:41.320194Z"
    }
   },
   "outputs": [
    {
     "data": {
      "text/plain": [
       "True"
      ]
     },
     "execution_count": 23,
     "metadata": {},
     "output_type": "execute_result"
    }
   ],
   "source": [
    "np.asarray(a1) is np.asarray(a1)"
   ]
  },
  {
   "cell_type": "code",
   "execution_count": 24,
   "metadata": {
    "ExecuteTime": {
     "end_time": "2019-01-29T23:15:41.403008Z",
     "start_time": "2019-01-29T23:15:41.363949Z"
    }
   },
   "outputs": [
    {
     "data": {
      "text/plain": [
       "array([1, 2, 3])"
      ]
     },
     "execution_count": 24,
     "metadata": {},
     "output_type": "execute_result"
    }
   ],
   "source": [
    "np.asanyarray(a1)"
   ]
  },
  {
   "cell_type": "code",
   "execution_count": 25,
   "metadata": {
    "ExecuteTime": {
     "end_time": "2019-01-29T23:15:41.441925Z",
     "start_time": "2019-01-29T23:15:41.405413Z"
    }
   },
   "outputs": [
    {
     "data": {
      "text/plain": [
       "array([1, 1, 1])"
      ]
     },
     "execution_count": 25,
     "metadata": {},
     "output_type": "execute_result"
    }
   ],
   "source": [
    "np.ones_like(a1)"
   ]
  },
  {
   "cell_type": "code",
   "execution_count": 26,
   "metadata": {
    "ExecuteTime": {
     "end_time": "2019-01-29T23:15:41.483810Z",
     "start_time": "2019-01-29T23:15:41.444875Z"
    }
   },
   "outputs": [
    {
     "data": {
      "text/plain": [
       "array([1, 2, 3])"
      ]
     },
     "execution_count": 26,
     "metadata": {},
     "output_type": "execute_result"
    }
   ],
   "source": [
    "np.empty_like(a1)"
   ]
  },
  {
   "cell_type": "code",
   "execution_count": 27,
   "metadata": {
    "ExecuteTime": {
     "end_time": "2019-01-29T23:15:41.520644Z",
     "start_time": "2019-01-29T23:15:41.486626Z"
    }
   },
   "outputs": [
    {
     "data": {
      "text/plain": [
       "array([ 0.,  0.,  0.])"
      ]
     },
     "execution_count": 27,
     "metadata": {},
     "output_type": "execute_result"
    }
   ],
   "source": [
    "np.zeros_like(a1, dtype=np.float64)"
   ]
  },
  {
   "cell_type": "code",
   "execution_count": 28,
   "metadata": {
    "ExecuteTime": {
     "end_time": "2019-01-29T23:15:41.556275Z",
     "start_time": "2019-01-29T23:15:41.523752Z"
    }
   },
   "outputs": [
    {
     "data": {
      "text/plain": [
       "array([[[         0,          0],\n",
       "        [4645060615, 4645565616]],\n",
       "\n",
       "       [[4645511112, 4645519720],\n",
       "        [         0,          0]],\n",
       "\n",
       "       [[4617682256,          0],\n",
       "        [         0,          0]]])"
      ]
     },
     "execution_count": 28,
     "metadata": {},
     "output_type": "execute_result"
    }
   ],
   "source": [
    "a = np.random.rand(3, 2, 2)\n",
    "np.empty_like(a, dtype=np.int64)"
   ]
  },
  {
   "cell_type": "code",
   "execution_count": 29,
   "metadata": {
    "ExecuteTime": {
     "end_time": "2019-01-29T23:15:41.599492Z",
     "start_time": "2019-01-29T23:15:41.558623Z"
    }
   },
   "outputs": [
    {
     "data": {
      "text/plain": [
       "array([[1, 0, 0, 0, 0],\n",
       "       [0, 1, 0, 0, 0],\n",
       "       [0, 0, 1, 0, 0],\n",
       "       [0, 0, 0, 1, 0],\n",
       "       [0, 0, 0, 0, 1]])"
      ]
     },
     "execution_count": 29,
     "metadata": {},
     "output_type": "execute_result"
    }
   ],
   "source": [
    "np.eye(5, dtype=np.int64)"
   ]
  },
  {
   "cell_type": "markdown",
   "metadata": {},
   "source": [
    "## ndarray的数据类型"
   ]
  },
  {
   "cell_type": "code",
   "execution_count": 30,
   "metadata": {
    "ExecuteTime": {
     "end_time": "2019-01-29T23:15:41.638979Z",
     "start_time": "2019-01-29T23:15:41.602017Z"
    }
   },
   "outputs": [
    {
     "data": {
      "text/plain": [
       "dtype('float64')"
      ]
     },
     "execution_count": 30,
     "metadata": {},
     "output_type": "execute_result"
    }
   ],
   "source": [
    "arr1 = np.array([1, 2, 3], dtype=np.float64)\n",
    "arr1.dtype"
   ]
  },
  {
   "cell_type": "code",
   "execution_count": 31,
   "metadata": {
    "ExecuteTime": {
     "end_time": "2019-01-29T23:15:41.690398Z",
     "start_time": "2019-01-29T23:15:41.646344Z"
    }
   },
   "outputs": [
    {
     "data": {
      "text/plain": [
       "dtype('int64')"
      ]
     },
     "execution_count": 31,
     "metadata": {},
     "output_type": "execute_result"
    }
   ],
   "source": [
    "arr2 = np.array([1, 2, 3], dtype=np.int)\n",
    "arr2.dtype"
   ]
  },
  {
   "cell_type": "code",
   "execution_count": 32,
   "metadata": {
    "ExecuteTime": {
     "end_time": "2019-01-29T23:15:41.742904Z",
     "start_time": "2019-01-29T23:15:41.695855Z"
    }
   },
   "outputs": [
    {
     "data": {
      "text/plain": [
       "dtype('int64')"
      ]
     },
     "execution_count": 32,
     "metadata": {},
     "output_type": "execute_result"
    }
   ],
   "source": [
    "arr = np.array([1, 2, 3, 4, 5])\n",
    "arr.dtype"
   ]
  },
  {
   "cell_type": "code",
   "execution_count": 33,
   "metadata": {
    "ExecuteTime": {
     "end_time": "2019-01-29T23:15:41.799498Z",
     "start_time": "2019-01-29T23:15:41.745673Z"
    }
   },
   "outputs": [
    {
     "data": {
      "text/plain": [
       "dtype('float64')"
      ]
     },
     "execution_count": 33,
     "metadata": {},
     "output_type": "execute_result"
    }
   ],
   "source": [
    "arr = arr.astype('f8')\n",
    "arr.dtype"
   ]
  },
  {
   "cell_type": "code",
   "execution_count": 34,
   "metadata": {
    "ExecuteTime": {
     "end_time": "2019-01-29T23:15:41.855200Z",
     "start_time": "2019-01-29T23:15:41.802871Z"
    }
   },
   "outputs": [
    {
     "name": "stdout",
     "output_type": "stream",
     "text": [
      "float64\n"
     ]
    },
    {
     "data": {
      "text/plain": [
       "array([ 3, -1, -2,  0, 12, 10], dtype=int32)"
      ]
     },
     "execution_count": 34,
     "metadata": {},
     "output_type": "execute_result"
    }
   ],
   "source": [
    "arr = np.array([3.7, -1.2, -2.6, 0.5, 12.9, 10.1])\n",
    "print(arr.dtype)\n",
    "arr.astype(np.int32)"
   ]
  },
  {
   "cell_type": "code",
   "execution_count": 35,
   "metadata": {
    "ExecuteTime": {
     "end_time": "2019-01-29T23:15:41.900466Z",
     "start_time": "2019-01-29T23:15:41.858766Z"
    }
   },
   "outputs": [
    {
     "data": {
      "text/plain": [
       "array([ 0.,  1.,  2.,  3.,  4.,  5.,  6.,  7.,  8.,  9.], dtype=float32)"
      ]
     },
     "execution_count": 35,
     "metadata": {},
     "output_type": "execute_result"
    }
   ],
   "source": [
    "int_array = np.arange(10)\n",
    "calibers = np.array([.22, .270, .357, .380, .44, .50], dtype=np.float32)\n",
    "int_array.astype(calibers.dtype)"
   ]
  },
  {
   "cell_type": "code",
   "execution_count": 36,
   "metadata": {
    "ExecuteTime": {
     "end_time": "2019-01-29T23:15:41.939661Z",
     "start_time": "2019-01-29T23:15:41.903317Z"
    }
   },
   "outputs": [
    {
     "data": {
      "text/plain": [
       "array([         0, 1075314688,          0, 1075707904,          0,\n",
       "       1075838976,          0, 1072693248], dtype=uint32)"
      ]
     },
     "execution_count": 36,
     "metadata": {},
     "output_type": "execute_result"
    }
   ],
   "source": [
    "empty_uint32 = np.empty(8, dtype='u4')\n",
    "empty_uint32"
   ]
  },
  {
   "cell_type": "code",
   "execution_count": 37,
   "metadata": {
    "ExecuteTime": {
     "end_time": "2019-01-29T23:15:41.978260Z",
     "start_time": "2019-01-29T23:15:41.943340Z"
    }
   },
   "outputs": [
    {
     "data": {
      "text/plain": [
       "array(['1.2', '-9.6', '42'],\n",
       "      dtype='|S4')"
      ]
     },
     "execution_count": 37,
     "metadata": {},
     "output_type": "execute_result"
    }
   ],
   "source": [
    "numeric_strings = np.array(['1.2', '-9.6', '42'], dtype=np.string_)\n",
    "numeric_strings"
   ]
  },
  {
   "cell_type": "code",
   "execution_count": 38,
   "metadata": {
    "ExecuteTime": {
     "end_time": "2019-01-29T23:15:42.040649Z",
     "start_time": "2019-01-29T23:15:41.991348Z"
    }
   },
   "outputs": [
    {
     "data": {
      "text/plain": [
       "array([  1.2,  -9.6,  42. ])"
      ]
     },
     "execution_count": 38,
     "metadata": {},
     "output_type": "execute_result"
    }
   ],
   "source": [
    "numeric_strings.astype(np.float)"
   ]
  },
  {
   "cell_type": "code",
   "execution_count": 39,
   "metadata": {
    "ExecuteTime": {
     "end_time": "2019-01-29T23:15:42.084212Z",
     "start_time": "2019-01-29T23:15:42.046270Z"
    }
   },
   "outputs": [
    {
     "data": {
      "text/plain": [
       "array(['x2', '-92', '42'],\n",
       "      dtype='|S3')"
      ]
     },
     "execution_count": 39,
     "metadata": {},
     "output_type": "execute_result"
    }
   ],
   "source": [
    "invalid_numeric_strings = np.array(['x2', '-92', '42'])\n",
    "invalid_numeric_strings"
   ]
  },
  {
   "cell_type": "code",
   "execution_count": 40,
   "metadata": {
    "ExecuteTime": {
     "end_time": "2019-01-29T23:15:42.126321Z",
     "start_time": "2019-01-29T23:15:42.087589Z"
    }
   },
   "outputs": [
    {
     "name": "stdout",
     "output_type": "stream",
     "text": [
      "invalid literal for int() with base 10: 'x2'\n"
     ]
    }
   ],
   "source": [
    "try:\n",
    "    invalid_numeric_strings.astype(int)\n",
    "except ValueError as e:\n",
    "    print(e)"
   ]
  },
  {
   "cell_type": "code",
   "execution_count": 41,
   "metadata": {
    "ExecuteTime": {
     "end_time": "2019-01-29T23:15:42.161788Z",
     "start_time": "2019-01-29T23:15:42.129450Z"
    }
   },
   "outputs": [
    {
     "data": {
      "text/plain": [
       "array(['x2', '-92', <object object at 0x11379f480>], dtype=object)"
      ]
     },
     "execution_count": 41,
     "metadata": {},
     "output_type": "execute_result"
    }
   ],
   "source": [
    "invalid_numeric_obj = np.array(['x2', '-92', object()])\n",
    "invalid_numeric_obj"
   ]
  },
  {
   "cell_type": "markdown",
   "metadata": {},
   "source": [
    "## 数组与标量之间的运算"
   ]
  },
  {
   "cell_type": "code",
   "execution_count": 42,
   "metadata": {
    "ExecuteTime": {
     "end_time": "2019-01-29T23:15:42.199017Z",
     "start_time": "2019-01-29T23:15:42.164476Z"
    }
   },
   "outputs": [
    {
     "data": {
      "text/plain": [
       "array([[ 1.,  2.,  3.],\n",
       "       [ 4.,  5.,  6.]])"
      ]
     },
     "execution_count": 42,
     "metadata": {},
     "output_type": "execute_result"
    }
   ],
   "source": [
    "arr = np.array([[1., 2., 3.], [4., 5., 6.]])\n",
    "arr\n"
   ]
  },
  {
   "cell_type": "code",
   "execution_count": 43,
   "metadata": {
    "ExecuteTime": {
     "end_time": "2019-01-29T23:15:42.239395Z",
     "start_time": "2019-01-29T23:15:42.201847Z"
    }
   },
   "outputs": [
    {
     "data": {
      "text/plain": [
       "array([[  1.,   4.,   9.],\n",
       "       [ 16.,  25.,  36.]])"
      ]
     },
     "execution_count": 43,
     "metadata": {},
     "output_type": "execute_result"
    }
   ],
   "source": [
    "arr * arr\n"
   ]
  },
  {
   "cell_type": "code",
   "execution_count": 44,
   "metadata": {
    "ExecuteTime": {
     "end_time": "2019-01-29T23:15:42.280646Z",
     "start_time": "2019-01-29T23:15:42.243231Z"
    }
   },
   "outputs": [
    {
     "data": {
      "text/plain": [
       "array([[ 0.,  0.,  0.],\n",
       "       [ 0.,  0.,  0.]])"
      ]
     },
     "execution_count": 44,
     "metadata": {},
     "output_type": "execute_result"
    }
   ],
   "source": [
    "arr - arr"
   ]
  },
  {
   "cell_type": "code",
   "execution_count": 45,
   "metadata": {
    "ExecuteTime": {
     "end_time": "2019-01-29T23:15:42.320793Z",
     "start_time": "2019-01-29T23:15:42.283530Z"
    }
   },
   "outputs": [
    {
     "data": {
      "text/plain": [
       "array([[ 1.    ,  0.5   ,  0.3333],\n",
       "       [ 0.25  ,  0.2   ,  0.1667]])"
      ]
     },
     "execution_count": 45,
     "metadata": {},
     "output_type": "execute_result"
    }
   ],
   "source": [
    "1 / arr"
   ]
  },
  {
   "cell_type": "markdown",
   "metadata": {
    "ExecuteTime": {
     "end_time": "2019-01-22T22:52:40.563583Z",
     "start_time": "2019-01-22T22:52:40.537183Z"
    }
   },
   "source": [
    "## 基本的索引和切片"
   ]
  },
  {
   "cell_type": "code",
   "execution_count": 46,
   "metadata": {
    "ExecuteTime": {
     "end_time": "2019-01-29T23:15:42.362283Z",
     "start_time": "2019-01-29T23:15:42.323698Z"
    }
   },
   "outputs": [
    {
     "name": "stdout",
     "output_type": "stream",
     "text": [
      "int64\n"
     ]
    },
    {
     "data": {
      "text/plain": [
       "array([0, 1, 2, 3, 4, 5, 6, 7, 8, 9])"
      ]
     },
     "execution_count": 46,
     "metadata": {},
     "output_type": "execute_result"
    }
   ],
   "source": [
    "arr = np.arange(10)\n",
    "print(arr.dtype)\n",
    "arr"
   ]
  },
  {
   "cell_type": "code",
   "execution_count": 47,
   "metadata": {
    "ExecuteTime": {
     "end_time": "2019-01-29T23:15:42.400938Z",
     "start_time": "2019-01-29T23:15:42.365755Z"
    },
    "collapsed": true
   },
   "outputs": [],
   "source": [
    "arr[5] = 100.88"
   ]
  },
  {
   "cell_type": "code",
   "execution_count": 48,
   "metadata": {
    "ExecuteTime": {
     "end_time": "2019-01-29T23:15:42.441684Z",
     "start_time": "2019-01-29T23:15:42.403697Z"
    }
   },
   "outputs": [
    {
     "data": {
      "text/plain": [
       "array([  0,   1,   2,   3,   4, 100,   6,   7,   8,   9])"
      ]
     },
     "execution_count": 48,
     "metadata": {},
     "output_type": "execute_result"
    }
   ],
   "source": [
    "arr"
   ]
  },
  {
   "cell_type": "code",
   "execution_count": 49,
   "metadata": {
    "ExecuteTime": {
     "end_time": "2019-01-29T23:15:42.481253Z",
     "start_time": "2019-01-29T23:15:42.444840Z"
    }
   },
   "outputs": [
    {
     "data": {
      "text/plain": [
       "array([  0,   1,   2,   3,   4, 100,   6,   7,  12,  12])"
      ]
     },
     "execution_count": 49,
     "metadata": {},
     "output_type": "execute_result"
    }
   ],
   "source": [
    "arr[8:10] = 12\n",
    "arr"
   ]
  },
  {
   "cell_type": "code",
   "execution_count": 50,
   "metadata": {
    "ExecuteTime": {
     "end_time": "2019-01-29T23:15:42.520459Z",
     "start_time": "2019-01-29T23:15:42.484195Z"
    }
   },
   "outputs": [
    {
     "data": {
      "text/plain": [
       "array([1, 2])"
      ]
     },
     "execution_count": 50,
     "metadata": {},
     "output_type": "execute_result"
    }
   ],
   "source": [
    "arr_slice = arr[1:3]\n",
    "arr_slice"
   ]
  },
  {
   "cell_type": "code",
   "execution_count": 51,
   "metadata": {
    "ExecuteTime": {
     "end_time": "2019-01-29T23:15:42.557680Z",
     "start_time": "2019-01-29T23:15:42.522797Z"
    }
   },
   "outputs": [
    {
     "data": {
      "text/plain": [
       "array([   0, -100, -100,    3,    4,  100,    6,    7,   12,   12])"
      ]
     },
     "execution_count": 51,
     "metadata": {},
     "output_type": "execute_result"
    }
   ],
   "source": [
    "arr_slice[:] = -100\n",
    "arr"
   ]
  },
  {
   "cell_type": "code",
   "execution_count": 52,
   "metadata": {
    "ExecuteTime": {
     "end_time": "2019-01-29T23:15:42.625190Z",
     "start_time": "2019-01-29T23:15:42.561477Z"
    }
   },
   "outputs": [
    {
     "name": "stdout",
     "output_type": "stream",
     "text": [
      "[2, 3]\n",
      "[2, 13]\n",
      "[1, 2, 3, 4]\n"
     ]
    }
   ],
   "source": [
    "l = [1, 2, 3, 4]\n",
    "l_slice = l[1:3]\n",
    "print(l_slice)\n",
    "l_slice[1] = 13\n",
    "print(l_slice)\n",
    "print(l)"
   ]
  },
  {
   "cell_type": "code",
   "execution_count": 53,
   "metadata": {
    "ExecuteTime": {
     "end_time": "2019-01-29T23:15:42.684191Z",
     "start_time": "2019-01-29T23:15:42.633500Z"
    }
   },
   "outputs": [
    {
     "data": {
      "text/plain": [
       "array([100, 100])"
      ]
     },
     "execution_count": 53,
     "metadata": {},
     "output_type": "execute_result"
    }
   ],
   "source": [
    "arr = np.arange(10)\n",
    "arr_slice_copy = arr[1:3].copy()\n",
    "arr_slice_copy[:] = 100\n",
    "arr_slice_copy"
   ]
  },
  {
   "cell_type": "code",
   "execution_count": 54,
   "metadata": {
    "ExecuteTime": {
     "end_time": "2019-01-29T23:15:42.727806Z",
     "start_time": "2019-01-29T23:15:42.687268Z"
    }
   },
   "outputs": [
    {
     "data": {
      "text/plain": [
       "array([0, 1, 2, 3, 4, 5, 6, 7, 8, 9])"
      ]
     },
     "execution_count": 54,
     "metadata": {},
     "output_type": "execute_result"
    }
   ],
   "source": [
    "arr"
   ]
  },
  {
   "cell_type": "code",
   "execution_count": 55,
   "metadata": {
    "ExecuteTime": {
     "end_time": "2019-01-29T23:15:42.772965Z",
     "start_time": "2019-01-29T23:15:42.730077Z"
    }
   },
   "outputs": [
    {
     "data": {
      "text/plain": [
       "array([[1, 2, 3],\n",
       "       [4, 5, 6],\n",
       "       [7, 8, 9]])"
      ]
     },
     "execution_count": 55,
     "metadata": {},
     "output_type": "execute_result"
    }
   ],
   "source": [
    "arr2d = np.array([[1, 2, 3], [4, 5, 6], [7, 8, 9]])\n",
    "arr2d"
   ]
  },
  {
   "cell_type": "code",
   "execution_count": 56,
   "metadata": {
    "ExecuteTime": {
     "end_time": "2019-01-29T23:15:42.822142Z",
     "start_time": "2019-01-29T23:15:42.776428Z"
    }
   },
   "outputs": [
    {
     "name": "stdout",
     "output_type": "stream",
     "text": [
      "[array([1, 2, 3]), array([2, 3, 4]), array([3, 4, 5])]\n"
     ]
    },
    {
     "data": {
      "text/plain": [
       "array([[ 1.,  2.,  3.],\n",
       "       [ 2.,  3.,  4.],\n",
       "       [ 3.,  4.,  5.]], dtype=float32)"
      ]
     },
     "execution_count": 56,
     "metadata": {},
     "output_type": "execute_result"
    }
   ],
   "source": [
    "arr2d = np.array([np.arange(i+1, i+4) for i in range(3)], dtype=np.float32)\n",
    "print([np.arange(i+1, i+4) for i in range(3)])\n",
    "arr2d"
   ]
  },
  {
   "cell_type": "code",
   "execution_count": 57,
   "metadata": {
    "ExecuteTime": {
     "end_time": "2019-01-29T23:15:42.868324Z",
     "start_time": "2019-01-29T23:15:42.829387Z"
    }
   },
   "outputs": [
    {
     "data": {
      "text/plain": [
       "13.0"
      ]
     },
     "execution_count": 57,
     "metadata": {},
     "output_type": "execute_result"
    }
   ],
   "source": [
    "arr2d[0][2] + 10"
   ]
  },
  {
   "cell_type": "code",
   "execution_count": 58,
   "metadata": {
    "ExecuteTime": {
     "end_time": "2019-01-29T23:15:42.915178Z",
     "start_time": "2019-01-29T23:15:42.871572Z"
    }
   },
   "outputs": [
    {
     "data": {
      "text/plain": [
       "3.0"
      ]
     },
     "execution_count": 58,
     "metadata": {},
     "output_type": "execute_result"
    }
   ],
   "source": [
    "arr2d[0, 2]"
   ]
  },
  {
   "cell_type": "code",
   "execution_count": 59,
   "metadata": {
    "ExecuteTime": {
     "end_time": "2019-01-29T23:15:42.961054Z",
     "start_time": "2019-01-29T23:15:42.919304Z"
    }
   },
   "outputs": [
    {
     "data": {
      "text/plain": [
       "array([[[ 1.,  2.,  3.],\n",
       "        [ 2.,  3.,  4.],\n",
       "        [ 3.,  4.,  5.]],\n",
       "\n",
       "       [[ 1.,  2.,  3.],\n",
       "        [ 2.,  3.,  4.],\n",
       "        [ 3.,  4.,  5.]]], dtype=float32)"
      ]
     },
     "execution_count": 59,
     "metadata": {},
     "output_type": "execute_result"
    }
   ],
   "source": [
    "arr3d_ = np.array([arr2d, arr2d])\n",
    "arr3d_"
   ]
  },
  {
   "cell_type": "code",
   "execution_count": 60,
   "metadata": {
    "ExecuteTime": {
     "end_time": "2019-01-29T23:15:42.999609Z",
     "start_time": "2019-01-29T23:15:42.963858Z"
    }
   },
   "outputs": [
    {
     "data": {
      "text/plain": [
       "array([[    1.,     2., -1000.],\n",
       "       [    2.,     3.,     4.],\n",
       "       [    3.,     4.,     5.]], dtype=float32)"
      ]
     },
     "execution_count": 60,
     "metadata": {},
     "output_type": "execute_result"
    }
   ],
   "source": [
    "arr2d[0, 2] = -1000\n",
    "arr2d"
   ]
  },
  {
   "cell_type": "code",
   "execution_count": 61,
   "metadata": {
    "ExecuteTime": {
     "end_time": "2019-01-29T23:15:43.046143Z",
     "start_time": "2019-01-29T23:15:43.002515Z"
    }
   },
   "outputs": [
    {
     "data": {
      "text/plain": [
       "array([[[ 1.,  2.,  3.],\n",
       "        [ 2.,  3.,  4.],\n",
       "        [ 3.,  4.,  5.]],\n",
       "\n",
       "       [[ 1.,  2.,  3.],\n",
       "        [ 2.,  3.,  4.],\n",
       "        [ 3.,  4.,  5.]]], dtype=float32)"
      ]
     },
     "execution_count": 61,
     "metadata": {},
     "output_type": "execute_result"
    }
   ],
   "source": [
    "arr3d_"
   ]
  },
  {
   "cell_type": "code",
   "execution_count": 62,
   "metadata": {
    "ExecuteTime": {
     "end_time": "2019-01-29T23:15:43.086041Z",
     "start_time": "2019-01-29T23:15:43.049151Z"
    }
   },
   "outputs": [
    {
     "data": {
      "text/plain": [
       "array([[[ 1.,  2.,  3.],\n",
       "        [ 2.,  3.,  4.],\n",
       "        [ 3.,  4.,  5.]],\n",
       "\n",
       "       [[ 1.,  2.,  3.],\n",
       "        [ 2.,  3.,  4.],\n",
       "        [ 3.,  4.,  5.]]], dtype=float32)"
      ]
     },
     "execution_count": 62,
     "metadata": {},
     "output_type": "execute_result"
    }
   ],
   "source": [
    "arr2d = np.array([np.arange(i+1, i+4) for i in range(3)], dtype=np.float32)\n",
    "arr3d = np.array([arr2d.copy(), arr2d.copy()])\n",
    "arr3d"
   ]
  },
  {
   "cell_type": "code",
   "execution_count": 63,
   "metadata": {
    "ExecuteTime": {
     "end_time": "2019-01-29T23:15:43.126529Z",
     "start_time": "2019-01-29T23:15:43.088835Z"
    }
   },
   "outputs": [
    {
     "data": {
      "text/plain": [
       "array([[    1.,     2., -1000.],\n",
       "       [    2.,     3.,     4.],\n",
       "       [    3.,     4.,     5.]], dtype=float32)"
      ]
     },
     "execution_count": 63,
     "metadata": {},
     "output_type": "execute_result"
    }
   ],
   "source": [
    "arr2d[0, 2] = -1000\n",
    "arr2d"
   ]
  },
  {
   "cell_type": "code",
   "execution_count": 64,
   "metadata": {
    "ExecuteTime": {
     "end_time": "2019-01-29T23:15:43.168776Z",
     "start_time": "2019-01-29T23:15:43.129428Z"
    }
   },
   "outputs": [
    {
     "data": {
      "text/plain": [
       "array([[[ 1.,  2.,  3.],\n",
       "        [ 2.,  3.,  4.],\n",
       "        [ 3.,  4.,  5.]],\n",
       "\n",
       "       [[ 1.,  2.,  3.],\n",
       "        [ 2.,  3.,  4.],\n",
       "        [ 3.,  4.,  5.]]], dtype=float32)"
      ]
     },
     "execution_count": 64,
     "metadata": {},
     "output_type": "execute_result"
    }
   ],
   "source": [
    "arr3d"
   ]
  },
  {
   "cell_type": "code",
   "execution_count": 65,
   "metadata": {
    "ExecuteTime": {
     "end_time": "2019-01-29T23:15:43.216018Z",
     "start_time": "2019-01-29T23:15:43.173741Z"
    }
   },
   "outputs": [
    {
     "data": {
      "text/plain": [
       "array([[[ 1,  2,  3],\n",
       "        [ 4,  5,  6]],\n",
       "\n",
       "       [[ 7,  8,  9],\n",
       "        [10, 11, 12]]])"
      ]
     },
     "execution_count": 65,
     "metadata": {},
     "output_type": "execute_result"
    }
   ],
   "source": [
    "arr3d = np.array([[[1, 2, 3], [4, 5, 6]], [[7, 8, 9], [10, 11, 12]]])\n",
    "arr3d"
   ]
  },
  {
   "cell_type": "code",
   "execution_count": 66,
   "metadata": {
    "ExecuteTime": {
     "end_time": "2019-01-29T23:15:43.257549Z",
     "start_time": "2019-01-29T23:15:43.218982Z"
    }
   },
   "outputs": [
    {
     "data": {
      "text/plain": [
       "array([[1, 2, 3],\n",
       "       [4, 5, 6]])"
      ]
     },
     "execution_count": 66,
     "metadata": {},
     "output_type": "execute_result"
    }
   ],
   "source": [
    "arr3d[0]"
   ]
  },
  {
   "cell_type": "code",
   "execution_count": 67,
   "metadata": {
    "ExecuteTime": {
     "end_time": "2019-01-29T23:15:43.293569Z",
     "start_time": "2019-01-29T23:15:43.260483Z"
    },
    "collapsed": true
   },
   "outputs": [],
   "source": [
    "old_values = arr3d[0]\n",
    "arr3d[0, 1, 1:] = 42"
   ]
  },
  {
   "cell_type": "code",
   "execution_count": 68,
   "metadata": {
    "ExecuteTime": {
     "end_time": "2019-01-29T23:15:43.337423Z",
     "start_time": "2019-01-29T23:15:43.295864Z"
    }
   },
   "outputs": [
    {
     "data": {
      "text/plain": [
       "array([[[ 1,  2,  3],\n",
       "        [ 4, 42, 42]],\n",
       "\n",
       "       [[ 7,  8,  9],\n",
       "        [10, 11, 12]]])"
      ]
     },
     "execution_count": 68,
     "metadata": {},
     "output_type": "execute_result"
    }
   ],
   "source": [
    "arr3d"
   ]
  },
  {
   "cell_type": "code",
   "execution_count": 69,
   "metadata": {
    "ExecuteTime": {
     "end_time": "2019-01-29T23:15:43.379958Z",
     "start_time": "2019-01-29T23:15:43.340358Z"
    }
   },
   "outputs": [
    {
     "data": {
      "text/plain": [
       "array([[[ 1,  2,  3],\n",
       "        [ 4, 42, 42]],\n",
       "\n",
       "       [[ 7,  8,  9],\n",
       "        [10, 11, 12]]])"
      ]
     },
     "execution_count": 69,
     "metadata": {},
     "output_type": "execute_result"
    }
   ],
   "source": [
    "arr3d[0] = old_values\n",
    "arr3d"
   ]
  },
  {
   "cell_type": "code",
   "execution_count": 70,
   "metadata": {
    "ExecuteTime": {
     "end_time": "2019-01-29T23:15:43.415750Z",
     "start_time": "2019-01-29T23:15:43.383020Z"
    }
   },
   "outputs": [
    {
     "data": {
      "text/plain": [
       "array([7, 8, 9])"
      ]
     },
     "execution_count": 70,
     "metadata": {},
     "output_type": "execute_result"
    }
   ],
   "source": [
    "arr3d[1, 0]"
   ]
  },
  {
   "cell_type": "markdown",
   "metadata": {},
   "source": [
    "## 切片索引"
   ]
  },
  {
   "cell_type": "code",
   "execution_count": 71,
   "metadata": {
    "ExecuteTime": {
     "end_time": "2019-01-29T23:15:43.453440Z",
     "start_time": "2019-01-29T23:15:43.419053Z"
    }
   },
   "outputs": [
    {
     "data": {
      "text/plain": [
       "array([0, 1, 2, 3, 4, 5, 6, 7, 8, 9])"
      ]
     },
     "execution_count": 71,
     "metadata": {},
     "output_type": "execute_result"
    }
   ],
   "source": [
    "arr"
   ]
  },
  {
   "cell_type": "code",
   "execution_count": 72,
   "metadata": {
    "ExecuteTime": {
     "end_time": "2019-01-29T23:15:43.516254Z",
     "start_time": "2019-01-29T23:15:43.457286Z"
    }
   },
   "outputs": [
    {
     "data": {
      "text/plain": [
       "array([1, 2, 3, 4, 5])"
      ]
     },
     "execution_count": 72,
     "metadata": {},
     "output_type": "execute_result"
    }
   ],
   "source": [
    "arr[1:6]"
   ]
  },
  {
   "cell_type": "code",
   "execution_count": 73,
   "metadata": {
    "ExecuteTime": {
     "end_time": "2019-01-29T23:15:43.565696Z",
     "start_time": "2019-01-29T23:15:43.520943Z"
    }
   },
   "outputs": [
    {
     "data": {
      "text/plain": [
       "array([[    1.,     2., -1000.],\n",
       "       [    2.,     3.,     4.],\n",
       "       [    3.,     4.,     5.]], dtype=float32)"
      ]
     },
     "execution_count": 73,
     "metadata": {},
     "output_type": "execute_result"
    }
   ],
   "source": [
    "arr2d"
   ]
  },
  {
   "cell_type": "code",
   "execution_count": 74,
   "metadata": {
    "ExecuteTime": {
     "end_time": "2019-01-29T23:15:43.594721Z",
     "start_time": "2019-01-29T23:15:43.568051Z"
    }
   },
   "outputs": [
    {
     "data": {
      "text/plain": [
       "array([[    1.,     2., -1000.],\n",
       "       [    2.,     3.,     4.]], dtype=float32)"
      ]
     },
     "execution_count": 74,
     "metadata": {},
     "output_type": "execute_result"
    }
   ],
   "source": [
    "arr2d[:2]"
   ]
  },
  {
   "cell_type": "code",
   "execution_count": 75,
   "metadata": {
    "ExecuteTime": {
     "end_time": "2019-01-29T23:15:43.621702Z",
     "start_time": "2019-01-29T23:15:43.597126Z"
    },
    "collapsed": true
   },
   "outputs": [],
   "source": [
    "arr2d[:2, 1:] = 4"
   ]
  },
  {
   "cell_type": "code",
   "execution_count": 76,
   "metadata": {
    "ExecuteTime": {
     "end_time": "2019-01-29T23:15:43.667649Z",
     "start_time": "2019-01-29T23:15:43.624154Z"
    }
   },
   "outputs": [
    {
     "data": {
      "text/plain": [
       "array([[ 1.,  4.,  4.],\n",
       "       [ 2.,  4.,  4.],\n",
       "       [ 3.,  4.,  5.]], dtype=float32)"
      ]
     },
     "execution_count": 76,
     "metadata": {},
     "output_type": "execute_result"
    }
   ],
   "source": [
    "arr2d"
   ]
  },
  {
   "cell_type": "code",
   "execution_count": 77,
   "metadata": {
    "ExecuteTime": {
     "end_time": "2019-01-29T23:15:43.705575Z",
     "start_time": "2019-01-29T23:15:43.671866Z"
    }
   },
   "outputs": [
    {
     "name": "stdout",
     "output_type": "stream",
     "text": [
      "(1, 3)\n"
     ]
    },
    {
     "data": {
      "text/plain": [
       "array([[ 1.,  4.,  4.]], dtype=float32)"
      ]
     },
     "execution_count": 77,
     "metadata": {},
     "output_type": "execute_result"
    }
   ],
   "source": [
    "b1 = arr2d[0:1, :]\n",
    "print(b1.shape)\n",
    "b1"
   ]
  },
  {
   "cell_type": "code",
   "execution_count": 78,
   "metadata": {
    "ExecuteTime": {
     "end_time": "2019-01-29T23:15:43.738813Z",
     "start_time": "2019-01-29T23:15:43.708827Z"
    }
   },
   "outputs": [
    {
     "name": "stdout",
     "output_type": "stream",
     "text": [
      "(3,)\n"
     ]
    },
    {
     "data": {
      "text/plain": [
       "array([ 1.,  4.,  4.], dtype=float32)"
      ]
     },
     "execution_count": 78,
     "metadata": {},
     "output_type": "execute_result"
    }
   ],
   "source": [
    "b2 = arr2d[0, :]\n",
    "print(b2.shape)\n",
    "b2"
   ]
  },
  {
   "cell_type": "code",
   "execution_count": 79,
   "metadata": {
    "ExecuteTime": {
     "end_time": "2019-01-29T23:15:43.781725Z",
     "start_time": "2019-01-29T23:15:43.741164Z"
    }
   },
   "outputs": [
    {
     "name": "stdout",
     "output_type": "stream",
     "text": [
      "(1,)\n"
     ]
    },
    {
     "data": {
      "text/plain": [
       "array([ 3.], dtype=float32)"
      ]
     },
     "execution_count": 79,
     "metadata": {},
     "output_type": "execute_result"
    }
   ],
   "source": [
    "b3 = arr2d[2, :1]\n",
    "print(b3.shape)\n",
    "b3"
   ]
  },
  {
   "cell_type": "code",
   "execution_count": 80,
   "metadata": {
    "ExecuteTime": {
     "end_time": "2019-01-29T23:15:43.828882Z",
     "start_time": "2019-01-29T23:15:43.789058Z"
    }
   },
   "outputs": [
    {
     "data": {
      "text/plain": [
       "array([[ 1.],\n",
       "       [ 2.],\n",
       "       [ 3.]], dtype=float32)"
      ]
     },
     "execution_count": 80,
     "metadata": {},
     "output_type": "execute_result"
    }
   ],
   "source": [
    "arr2d[:, :1]"
   ]
  },
  {
   "cell_type": "code",
   "execution_count": 81,
   "metadata": {
    "ExecuteTime": {
     "end_time": "2019-01-29T23:15:43.863060Z",
     "start_time": "2019-01-29T23:15:43.831352Z"
    }
   },
   "outputs": [
    {
     "data": {
      "text/plain": [
       "array([[ 1.,  0.,  0.],\n",
       "       [ 2.,  0.,  0.],\n",
       "       [ 3.,  4.,  5.]], dtype=float32)"
      ]
     },
     "execution_count": 81,
     "metadata": {},
     "output_type": "execute_result"
    }
   ],
   "source": [
    "arr2d[:2, 1:] = 0\n",
    "arr2d"
   ]
  },
  {
   "cell_type": "markdown",
   "metadata": {
    "collapsed": true
   },
   "source": [
    "## 布尔型索引"
   ]
  },
  {
   "cell_type": "code",
   "execution_count": 82,
   "metadata": {
    "ExecuteTime": {
     "end_time": "2019-01-29T23:15:43.895559Z",
     "start_time": "2019-01-29T23:15:43.865572Z"
    }
   },
   "outputs": [
    {
     "name": "stdout",
     "output_type": "stream",
     "text": [
      "['Bob' 'Joe' 'Will' 'Bob' 'Will' 'Joe' 'Joe']\n",
      "[[ 1.8522  0.8567  2.8783  1.5256]\n",
      " [-1.1829  0.6622 -0.6537  0.582 ]\n",
      " [-1.7112 -0.1922  0.2664  1.1876]\n",
      " [-0.5894 -0.7522 -0.7392  1.1005]\n",
      " [ 1.6783 -1.5442 -0.6689  0.6988]\n",
      " [ 1.3655 -0.1998  0.4993 -0.1786]\n",
      " [ 0.3475  0.9761  0.6016  0.4553]]\n"
     ]
    }
   ],
   "source": [
    "names = np.array(['Bob', 'Joe', 'Will', 'Bob', 'Will', 'Joe', 'Joe'])\n",
    "data = randn(7, 4)\n",
    "print(names)\n",
    "print(data)"
   ]
  },
  {
   "cell_type": "code",
   "execution_count": 83,
   "metadata": {
    "ExecuteTime": {
     "end_time": "2019-01-29T23:15:43.942220Z",
     "start_time": "2019-01-29T23:15:43.899992Z"
    }
   },
   "outputs": [
    {
     "data": {
      "text/plain": [
       "array([[ 1.8522,  0.8567,  2.8783,  1.5256],\n",
       "       [-0.5894, -0.7522, -0.7392,  1.1005]])"
      ]
     },
     "execution_count": 83,
     "metadata": {},
     "output_type": "execute_result"
    }
   ],
   "source": [
    "data[names == 'Bob']"
   ]
  },
  {
   "cell_type": "code",
   "execution_count": 84,
   "metadata": {
    "ExecuteTime": {
     "end_time": "2019-01-29T23:15:43.981065Z",
     "start_time": "2019-01-29T23:15:43.944603Z"
    }
   },
   "outputs": [
    {
     "data": {
      "text/plain": [
       "array([[ 2.8783,  1.5256],\n",
       "       [-0.7392,  1.1005]])"
      ]
     },
     "execution_count": 84,
     "metadata": {},
     "output_type": "execute_result"
    }
   ],
   "source": [
    "data[names == 'Bob', 2:]"
   ]
  },
  {
   "cell_type": "code",
   "execution_count": 85,
   "metadata": {
    "ExecuteTime": {
     "end_time": "2019-01-29T23:15:44.014048Z",
     "start_time": "2019-01-29T23:15:43.983484Z"
    }
   },
   "outputs": [
    {
     "data": {
      "text/plain": [
       "array([ 2.8783, -0.7392])"
      ]
     },
     "execution_count": 85,
     "metadata": {},
     "output_type": "execute_result"
    }
   ],
   "source": [
    "data[names=='Bob', 2]"
   ]
  },
  {
   "cell_type": "code",
   "execution_count": 86,
   "metadata": {
    "ExecuteTime": {
     "end_time": "2019-01-29T23:15:44.046825Z",
     "start_time": "2019-01-29T23:15:44.016579Z"
    }
   },
   "outputs": [
    {
     "data": {
      "text/plain": [
       "array([[ 1.8522,  0.8567,  2.8783,  1.5256],\n",
       "       [-1.7112, -0.1922,  0.2664,  1.1876],\n",
       "       [-0.5894, -0.7522, -0.7392,  1.1005],\n",
       "       [ 1.6783, -1.5442, -0.6689,  0.6988]])"
      ]
     },
     "execution_count": 86,
     "metadata": {},
     "output_type": "execute_result"
    }
   ],
   "source": [
    "data[(names=='Bob') | (names=='Will')]"
   ]
  },
  {
   "cell_type": "code",
   "execution_count": 87,
   "metadata": {
    "ExecuteTime": {
     "end_time": "2019-01-29T23:15:44.080110Z",
     "start_time": "2019-01-29T23:15:44.049190Z"
    }
   },
   "outputs": [
    {
     "data": {
      "text/plain": [
       "array([[ 1.8522,  0.8567,  2.8783,  1.5256],\n",
       "       [ 0.    ,  0.6622,  0.    ,  0.582 ],\n",
       "       [ 0.    ,  0.    ,  0.2664,  1.1876],\n",
       "       [ 0.    ,  0.    ,  0.    ,  1.1005],\n",
       "       [ 1.6783,  0.    ,  0.    ,  0.6988],\n",
       "       [ 1.3655,  0.    ,  0.4993,  0.    ],\n",
       "       [ 0.3475,  0.9761,  0.6016,  0.4553]])"
      ]
     },
     "execution_count": 87,
     "metadata": {},
     "output_type": "execute_result"
    }
   ],
   "source": [
    "data[data<=0]=0\n",
    "data"
   ]
  },
  {
   "cell_type": "code",
   "execution_count": 88,
   "metadata": {
    "ExecuteTime": {
     "end_time": "2019-01-29T23:15:44.117011Z",
     "start_time": "2019-01-29T23:15:44.084034Z"
    }
   },
   "outputs": [
    {
     "data": {
      "text/plain": [
       "array([[ 7.    ,  7.    ,  7.    ,  7.    ],\n",
       "       [ 0.    ,  0.6622,  0.    ,  0.582 ],\n",
       "       [ 7.    ,  7.    ,  7.    ,  7.    ],\n",
       "       [ 7.    ,  7.    ,  7.    ,  7.    ],\n",
       "       [ 7.    ,  7.    ,  7.    ,  7.    ],\n",
       "       [ 1.3655,  0.    ,  0.4993,  0.    ],\n",
       "       [ 0.3475,  0.9761,  0.6016,  0.4553]])"
      ]
     },
     "execution_count": 88,
     "metadata": {},
     "output_type": "execute_result"
    }
   ],
   "source": [
    "data[names != 'Joe'] = 7\n",
    "data"
   ]
  },
  {
   "cell_type": "markdown",
   "metadata": {},
   "source": [
    "## 花式索引"
   ]
  },
  {
   "cell_type": "code",
   "execution_count": 89,
   "metadata": {
    "ExecuteTime": {
     "end_time": "2019-01-29T23:15:44.150374Z",
     "start_time": "2019-01-29T23:15:44.119387Z"
    }
   },
   "outputs": [
    {
     "data": {
      "text/plain": [
       "array([[[ 0,  1,  2,  3],\n",
       "        [ 4,  5,  6,  7],\n",
       "        [ 8,  9, 10, 11],\n",
       "        [12, 13, 14, 15]],\n",
       "\n",
       "       [[16, 17, 18, 19],\n",
       "        [20, 21, 22, 23],\n",
       "        [24, 25, 26, 27],\n",
       "        [28, 29, 30, 31]]])"
      ]
     },
     "execution_count": 89,
     "metadata": {},
     "output_type": "execute_result"
    }
   ],
   "source": [
    "arr = np.arange(32).reshape((2,4,4))\n",
    "arr"
   ]
  },
  {
   "cell_type": "code",
   "execution_count": 90,
   "metadata": {
    "ExecuteTime": {
     "end_time": "2019-01-29T23:15:44.193095Z",
     "start_time": "2019-01-29T23:15:44.152274Z"
    }
   },
   "outputs": [
    {
     "data": {
      "text/plain": [
       "array([[[ 4,  5,  6,  7],\n",
       "        [12, 13, 14, 15]],\n",
       "\n",
       "       [[20, 21, 22, 23],\n",
       "        [28, 29, 30, 31]]])"
      ]
     },
     "execution_count": 90,
     "metadata": {},
     "output_type": "execute_result"
    }
   ],
   "source": [
    "x = arr[:, [1,3]]   #是复制哟\n",
    "x"
   ]
  },
  {
   "cell_type": "code",
   "execution_count": 91,
   "metadata": {
    "ExecuteTime": {
     "end_time": "2019-01-29T23:15:44.228565Z",
     "start_time": "2019-01-29T23:15:44.195778Z"
    }
   },
   "outputs": [
    {
     "data": {
      "text/plain": [
       "array([[[ 4,  5,  6,  7],\n",
       "        [12, 13, 14, 15]],\n",
       "\n",
       "       [[ 6,  6,  6,  6],\n",
       "        [ 6,  6,  6,  6]]])"
      ]
     },
     "execution_count": 91,
     "metadata": {},
     "output_type": "execute_result"
    }
   ],
   "source": [
    "x[1, :] = 6\n",
    "x"
   ]
  },
  {
   "cell_type": "code",
   "execution_count": 92,
   "metadata": {
    "ExecuteTime": {
     "end_time": "2019-01-29T23:15:44.257026Z",
     "start_time": "2019-01-29T23:15:44.230696Z"
    }
   },
   "outputs": [
    {
     "data": {
      "text/plain": [
       "array([[[ 0,  1,  2,  3],\n",
       "        [ 4,  5,  6,  7],\n",
       "        [ 8,  9, 10, 11],\n",
       "        [12, 13, 14, 15]],\n",
       "\n",
       "       [[16, 17, 18, 19],\n",
       "        [20, 21, 22, 23],\n",
       "        [24, 25, 26, 27],\n",
       "        [28, 29, 30, 31]]])"
      ]
     },
     "execution_count": 92,
     "metadata": {},
     "output_type": "execute_result"
    }
   ],
   "source": [
    "arr"
   ]
  },
  {
   "cell_type": "code",
   "execution_count": 93,
   "metadata": {
    "ExecuteTime": {
     "end_time": "2019-01-29T23:15:44.297646Z",
     "start_time": "2019-01-29T23:15:44.259283Z"
    }
   },
   "outputs": [
    {
     "name": "stdout",
     "output_type": "stream",
     "text": [
      "[[ 0  1  2  3]\n",
      " [ 4  5  6  7]\n",
      " [ 8  9 10 11]\n",
      " [12 13 14 15]\n",
      " [16 17 18 19]\n",
      " [20 21 22 23]\n",
      " [24 25 26 27]\n",
      " [28 29 30 31]]\n"
     ]
    },
    {
     "data": {
      "text/plain": [
       "array([[ 4,  7,  5,  6],\n",
       "       [20, 23, 21, 22],\n",
       "       [28, 31, 29, 30],\n",
       "       [ 8, 11,  9, 10]])"
      ]
     },
     "execution_count": 93,
     "metadata": {},
     "output_type": "execute_result"
    }
   ],
   "source": [
    "arr = np.arange(32).reshape((8,4))\n",
    "print(arr)\n",
    "b = arr[[1,5,7,2]][:, [0, 3, 1, 2]]  # 也是复制\n",
    "b"
   ]
  },
  {
   "cell_type": "code",
   "execution_count": 94,
   "metadata": {
    "ExecuteTime": {
     "end_time": "2019-01-29T23:15:44.340225Z",
     "start_time": "2019-01-29T23:15:44.299870Z"
    }
   },
   "outputs": [
    {
     "data": {
      "text/plain": [
       "array([[10,  7,  5,  6],\n",
       "       [20, 23, 21, 22],\n",
       "       [28, 31, 29, 30],\n",
       "       [ 8, 11,  9, 10]])"
      ]
     },
     "execution_count": 94,
     "metadata": {},
     "output_type": "execute_result"
    }
   ],
   "source": [
    "b[0, 0] = 10\n",
    "b"
   ]
  },
  {
   "cell_type": "code",
   "execution_count": 95,
   "metadata": {
    "ExecuteTime": {
     "end_time": "2019-01-29T23:15:44.382766Z",
     "start_time": "2019-01-29T23:15:44.342682Z"
    }
   },
   "outputs": [
    {
     "data": {
      "text/plain": [
       "array([[ 0,  1,  2,  3],\n",
       "       [ 4,  5,  6,  7],\n",
       "       [ 8,  9, 10, 11],\n",
       "       [12, 13, 14, 15],\n",
       "       [16, 17, 18, 19],\n",
       "       [20, 21, 22, 23],\n",
       "       [24, 25, 26, 27],\n",
       "       [28, 29, 30, 31]])"
      ]
     },
     "execution_count": 95,
     "metadata": {},
     "output_type": "execute_result"
    }
   ],
   "source": [
    "arr"
   ]
  },
  {
   "cell_type": "code",
   "execution_count": 96,
   "metadata": {
    "ExecuteTime": {
     "end_time": "2019-01-29T23:15:44.423552Z",
     "start_time": "2019-01-29T23:15:44.386672Z"
    }
   },
   "outputs": [
    {
     "name": "stdout",
     "output_type": "stream",
     "text": [
      "[[15  5  6  7]\n",
      " [ 8  9 10 11]]\n"
     ]
    },
    {
     "data": {
      "text/plain": [
       "array([[ 0,  1,  2,  3],\n",
       "       [ 4,  5,  6,  7],\n",
       "       [ 8,  9, 10, 11],\n",
       "       [12, 13, 14, 15],\n",
       "       [16, 17, 18, 19],\n",
       "       [20, 21, 22, 23],\n",
       "       [24, 25, 26, 27],\n",
       "       [28, 29, 30, 31]])"
      ]
     },
     "execution_count": 96,
     "metadata": {},
     "output_type": "execute_result"
    }
   ],
   "source": [
    "arr = np.arange(32).reshape((8, 4))\n",
    "c = arr[[1,2]]  # 这是复制\n",
    "c[0, 0] = 15\n",
    "print(c)\n",
    "arr"
   ]
  },
  {
   "cell_type": "code",
   "execution_count": 97,
   "metadata": {
    "ExecuteTime": {
     "end_time": "2019-01-29T23:15:44.458247Z",
     "start_time": "2019-01-29T23:15:44.426530Z"
    }
   },
   "outputs": [
    {
     "name": "stdout",
     "output_type": "stream",
     "text": [
      "[[15  5  6  7]\n",
      " [ 8  9 10 11]]\n"
     ]
    },
    {
     "data": {
      "text/plain": [
       "array([[ 0,  1,  2,  3],\n",
       "       [15,  5,  6,  7],\n",
       "       [ 8,  9, 10, 11],\n",
       "       [12, 13, 14, 15],\n",
       "       [16, 17, 18, 19],\n",
       "       [20, 21, 22, 23],\n",
       "       [24, 25, 26, 27],\n",
       "       [28, 29, 30, 31]])"
      ]
     },
     "execution_count": 97,
     "metadata": {},
     "output_type": "execute_result"
    }
   ],
   "source": [
    "arr = np.arange(32).reshape((8, 4))\n",
    "d = arr[1:3]  # 这是视图\n",
    "d[0, 0] = 15\n",
    "print(d)\n",
    "arr"
   ]
  },
  {
   "cell_type": "code",
   "execution_count": 98,
   "metadata": {
    "ExecuteTime": {
     "end_time": "2019-01-29T23:15:44.493751Z",
     "start_time": "2019-01-29T23:15:44.460340Z"
    }
   },
   "outputs": [
    {
     "name": "stdout",
     "output_type": "stream",
     "text": [
      "[4 5 6 7]\n"
     ]
    },
    {
     "data": {
      "text/plain": [
       "array([[  0,   1,   2,   3],\n",
       "       [100, 100, 100, 100],\n",
       "       [  8,   9,  10,  11],\n",
       "       [ 12,  13,  14,  15],\n",
       "       [ 16,  17,  18,  19],\n",
       "       [ 20,  21,  22,  23],\n",
       "       [ 24,  25,  26,  27],\n",
       "       [ 28,  29,  30,  31]])"
      ]
     },
     "execution_count": 98,
     "metadata": {},
     "output_type": "execute_result"
    }
   ],
   "source": [
    "arr = np.arange(32).reshape((8, 4))\n",
    "e = arr[1]  # 这是复制\n",
    "print(e)\n",
    "e[:] = 100\n",
    "arr"
   ]
  },
  {
   "cell_type": "code",
   "execution_count": 99,
   "metadata": {
    "ExecuteTime": {
     "end_time": "2019-01-29T23:15:44.532107Z",
     "start_time": "2019-01-29T23:15:44.495943Z"
    }
   },
   "outputs": [
    {
     "name": "stdout",
     "output_type": "stream",
     "text": [
      "[[ 0  1  2  3]\n",
      " [ 4  5  6  7]\n",
      " [ 8  9 10 11]\n",
      " [12 13 14 15]\n",
      " [16 17 18 19]\n",
      " [20 21 22 23]\n",
      " [24 25 26 27]\n",
      " [28 29 30 31]]\n"
     ]
    },
    {
     "data": {
      "text/plain": [
       "array([[ 4,  7],\n",
       "       [20, 23]])"
      ]
     },
     "execution_count": 99,
     "metadata": {},
     "output_type": "execute_result"
    }
   ],
   "source": [
    "arr = np.arange(32).reshape((8, 4))\n",
    "print(arr)\n",
    "ix = np.ix_([1,5],[0,3])\n",
    "arr[ix]"
   ]
  },
  {
   "cell_type": "markdown",
   "metadata": {},
   "source": [
    "## 数组转置"
   ]
  },
  {
   "cell_type": "code",
   "execution_count": 100,
   "metadata": {
    "ExecuteTime": {
     "end_time": "2019-01-29T23:15:44.576727Z",
     "start_time": "2019-01-29T23:15:44.534614Z"
    }
   },
   "outputs": [
    {
     "data": {
      "text/plain": [
       "array([[ 0,  1,  2,  3,  4],\n",
       "       [ 5,  6,  7,  8,  9],\n",
       "       [10, 11, 12, 13, 14]])"
      ]
     },
     "execution_count": 100,
     "metadata": {},
     "output_type": "execute_result"
    }
   ],
   "source": [
    "arr = np.arange(15).reshape((3, 5))\n",
    "arr"
   ]
  },
  {
   "cell_type": "code",
   "execution_count": 101,
   "metadata": {
    "ExecuteTime": {
     "end_time": "2019-01-29T23:15:44.624637Z",
     "start_time": "2019-01-29T23:15:44.582559Z"
    }
   },
   "outputs": [
    {
     "data": {
      "text/plain": [
       "array([[ 0,  5, 10],\n",
       "       [ 1,  6, 11],\n",
       "       [ 2,  7, 12],\n",
       "       [ 3,  8, 13],\n",
       "       [ 4,  9, 14]])"
      ]
     },
     "execution_count": 101,
     "metadata": {},
     "output_type": "execute_result"
    }
   ],
   "source": [
    "b = arr.T  \n",
    "b"
   ]
  },
  {
   "cell_type": "code",
   "execution_count": 102,
   "metadata": {
    "ExecuteTime": {
     "end_time": "2019-01-29T23:15:44.664588Z",
     "start_time": "2019-01-29T23:15:44.628342Z"
    }
   },
   "outputs": [
    {
     "data": {
      "text/plain": [
       "array([[  0,   5,  10],\n",
       "       [  1,   6, 100],\n",
       "       [  2,   7,  12],\n",
       "       [  3,   8,  13],\n",
       "       [  4,   9,  14]])"
      ]
     },
     "execution_count": 102,
     "metadata": {},
     "output_type": "execute_result"
    }
   ],
   "source": [
    "b[1, 2] = 100  # 转置是视图\n",
    "b"
   ]
  },
  {
   "cell_type": "code",
   "execution_count": 103,
   "metadata": {
    "ExecuteTime": {
     "end_time": "2019-01-29T23:15:44.699774Z",
     "start_time": "2019-01-29T23:15:44.667686Z"
    }
   },
   "outputs": [
    {
     "data": {
      "text/plain": [
       "array([[  0,   1,   2,   3,   4],\n",
       "       [  5,   6,   7,   8,   9],\n",
       "       [ 10, 100,  12,  13,  14]])"
      ]
     },
     "execution_count": 103,
     "metadata": {},
     "output_type": "execute_result"
    }
   ],
   "source": [
    "arr"
   ]
  },
  {
   "cell_type": "code",
   "execution_count": 104,
   "metadata": {
    "ExecuteTime": {
     "end_time": "2019-01-29T23:15:44.747823Z",
     "start_time": "2019-01-29T23:15:44.703506Z"
    }
   },
   "outputs": [
    {
     "data": {
      "text/plain": [
       "(2, 1)"
      ]
     },
     "execution_count": 104,
     "metadata": {},
     "output_type": "execute_result"
    }
   ],
   "source": [
    "divmod(11, 5)"
   ]
  },
  {
   "cell_type": "markdown",
   "metadata": {},
   "source": [
    "## 通用函数"
   ]
  },
  {
   "cell_type": "code",
   "execution_count": 105,
   "metadata": {
    "ExecuteTime": {
     "end_time": "2019-01-29T23:15:44.796702Z",
     "start_time": "2019-01-29T23:15:44.750964Z"
    }
   },
   "outputs": [
    {
     "data": {
      "text/plain": [
       "array([ 0.3248, -1.605 ,  0.5267, -2.4161,  1.6205,  0.9052,  0.7474])"
      ]
     },
     "execution_count": 105,
     "metadata": {},
     "output_type": "execute_result"
    }
   ],
   "source": [
    "arr = (np.random.rand(7) - 0.5) * 5\n",
    "arr"
   ]
  },
  {
   "cell_type": "code",
   "execution_count": 106,
   "metadata": {
    "ExecuteTime": {
     "end_time": "2019-01-29T23:15:44.842136Z",
     "start_time": "2019-01-29T23:15:44.799675Z"
    }
   },
   "outputs": [
    {
     "data": {
      "text/plain": [
       "(array([ 0.3248, -0.605 ,  0.5267, -0.4161,  0.6205,  0.9052,  0.7474]),\n",
       " array([ 0., -1.,  0., -2.,  1.,  0.,  0.]))"
      ]
     },
     "execution_count": 106,
     "metadata": {},
     "output_type": "execute_result"
    }
   ],
   "source": [
    "np.modf(arr)"
   ]
  },
  {
   "cell_type": "code",
   "execution_count": 107,
   "metadata": {
    "ExecuteTime": {
     "end_time": "2019-01-29T23:15:44.875636Z",
     "start_time": "2019-01-29T23:15:44.845175Z"
    },
    "collapsed": true
   },
   "outputs": [],
   "source": [
    "# np.modf?"
   ]
  },
  {
   "cell_type": "code",
   "execution_count": 108,
   "metadata": {
    "ExecuteTime": {
     "end_time": "2019-01-29T23:15:44.913154Z",
     "start_time": "2019-01-29T23:15:44.878532Z"
    }
   },
   "outputs": [
    {
     "data": {
      "text/plain": [
       "array([-3.,  4.,  5.])"
      ]
     },
     "execution_count": 108,
     "metadata": {},
     "output_type": "execute_result"
    }
   ],
   "source": [
    "a = np.array([3, 4, 5])\n",
    "a_sign = np.array([-1, 5, 6])\n",
    "\n",
    "np.copysign(a, a_sign)"
   ]
  },
  {
   "cell_type": "code",
   "execution_count": 109,
   "metadata": {
    "ExecuteTime": {
     "end_time": "2019-01-29T23:15:44.960676Z",
     "start_time": "2019-01-29T23:15:44.915477Z"
    }
   },
   "outputs": [
    {
     "data": {
      "text/plain": [
       "array([-3,  4,  5])"
      ]
     },
     "execution_count": 109,
     "metadata": {},
     "output_type": "execute_result"
    }
   ],
   "source": [
    "np.where(a_sign>0, np.abs(a), -np.abs(a))"
   ]
  },
  {
   "cell_type": "markdown",
   "metadata": {
    "ExecuteTime": {
     "end_time": "2019-01-27T13:33:20.429482Z",
     "start_time": "2019-01-27T13:33:20.400422Z"
    }
   },
   "source": [
    "## 利用数组进行数据处理(矢量化)"
   ]
  },
  {
   "cell_type": "code",
   "execution_count": 110,
   "metadata": {
    "ExecuteTime": {
     "end_time": "2019-01-29T23:15:45.028688Z",
     "start_time": "2019-01-29T23:15:44.964164Z"
    },
    "collapsed": true
   },
   "outputs": [],
   "source": [
    "x = np.arange(-5, 5, 0.01)\n",
    "y = np.arange(-5, 5, 0.01)\n",
    "xs, ys = np.meshgrid(x, y)"
   ]
  },
  {
   "cell_type": "code",
   "execution_count": 111,
   "metadata": {
    "ExecuteTime": {
     "end_time": "2019-01-29T23:15:45.066590Z",
     "start_time": "2019-01-29T23:15:45.031655Z"
    }
   },
   "outputs": [
    {
     "data": {
      "text/plain": [
       "array([[-5.  , -4.99, -4.98, ...,  4.97,  4.98,  4.99],\n",
       "       [-5.  , -4.99, -4.98, ...,  4.97,  4.98,  4.99],\n",
       "       [-5.  , -4.99, -4.98, ...,  4.97,  4.98,  4.99],\n",
       "       ..., \n",
       "       [-5.  , -4.99, -4.98, ...,  4.97,  4.98,  4.99],\n",
       "       [-5.  , -4.99, -4.98, ...,  4.97,  4.98,  4.99],\n",
       "       [-5.  , -4.99, -4.98, ...,  4.97,  4.98,  4.99]])"
      ]
     },
     "execution_count": 111,
     "metadata": {},
     "output_type": "execute_result"
    }
   ],
   "source": [
    "xs"
   ]
  },
  {
   "cell_type": "code",
   "execution_count": 112,
   "metadata": {
    "ExecuteTime": {
     "end_time": "2019-01-29T23:15:45.103667Z",
     "start_time": "2019-01-29T23:15:45.069296Z"
    }
   },
   "outputs": [
    {
     "data": {
      "text/plain": [
       "array([[-5.  , -5.  , -5.  , ..., -5.  , -5.  , -5.  ],\n",
       "       [-4.99, -4.99, -4.99, ..., -4.99, -4.99, -4.99],\n",
       "       [-4.98, -4.98, -4.98, ..., -4.98, -4.98, -4.98],\n",
       "       ..., \n",
       "       [ 4.97,  4.97,  4.97, ...,  4.97,  4.97,  4.97],\n",
       "       [ 4.98,  4.98,  4.98, ...,  4.98,  4.98,  4.98],\n",
       "       [ 4.99,  4.99,  4.99, ...,  4.99,  4.99,  4.99]])"
      ]
     },
     "execution_count": 112,
     "metadata": {},
     "output_type": "execute_result"
    }
   ],
   "source": [
    "ys"
   ]
  },
  {
   "cell_type": "code",
   "execution_count": 113,
   "metadata": {
    "ExecuteTime": {
     "end_time": "2019-01-29T23:15:45.150956Z",
     "start_time": "2019-01-29T23:15:45.106868Z"
    },
    "collapsed": true
   },
   "outputs": [],
   "source": [
    "import matplotlib.pyplot as plt"
   ]
  },
  {
   "cell_type": "code",
   "execution_count": 114,
   "metadata": {
    "ExecuteTime": {
     "end_time": "2019-01-29T23:15:45.226739Z",
     "start_time": "2019-01-29T23:15:45.155341Z"
    }
   },
   "outputs": [
    {
     "name": "stdout",
     "output_type": "stream",
     "text": [
      "(1000, 1000)\n"
     ]
    },
    {
     "data": {
      "text/plain": [
       "array([[ 7.0711,  7.064 ,  7.0569, ...,  7.0499,  7.0569,  7.064 ],\n",
       "       [ 7.064 ,  7.0569,  7.0499, ...,  7.0428,  7.0499,  7.0569],\n",
       "       [ 7.0569,  7.0499,  7.0428, ...,  7.0357,  7.0428,  7.0499],\n",
       "       ..., \n",
       "       [ 7.0499,  7.0428,  7.0357, ...,  7.0286,  7.0357,  7.0428],\n",
       "       [ 7.0569,  7.0499,  7.0428, ...,  7.0357,  7.0428,  7.0499],\n",
       "       [ 7.064 ,  7.0569,  7.0499, ...,  7.0428,  7.0499,  7.0569]])"
      ]
     },
     "execution_count": 114,
     "metadata": {},
     "output_type": "execute_result"
    }
   ],
   "source": [
    "z = np.sqrt(xs ** 2 + ys ** 2)\n",
    "print(z.shape)\n",
    "z"
   ]
  },
  {
   "cell_type": "code",
   "execution_count": 115,
   "metadata": {
    "ExecuteTime": {
     "end_time": "2019-01-29T23:15:46.196514Z",
     "start_time": "2019-01-29T23:15:45.229952Z"
    },
    "scrolled": false
   },
   "outputs": [
    {
     "data": {
      "text/plain": [
       "<matplotlib.text.Text at 0x1239038d0>"
      ]
     },
     "execution_count": 115,
     "metadata": {},
     "output_type": "execute_result"
    },
    {
     "data": {
      "image/png": "[encoded data removed]",
      "text/plain": [
       "<matplotlib.figure.Figure at 0x114dfbbd0>"
      ]
     },
     "metadata": {},
     "output_type": "display_data"
    }
   ],
   "source": [
    "plt.imshow(z, cmap=plt.cm.gray);\n",
    "plt.colorbar()\n",
    "plt.title('$\\sqrt{x^2+y^2}$')"
   ]
  },
  {
   "cell_type": "markdown",
   "metadata": {
    "ExecuteTime": {
     "end_time": "2019-01-27T13:35:48.145335Z",
     "start_time": "2019-01-27T13:35:48.115810Z"
    }
   },
   "source": [
    "## where的妙用"
   ]
  },
  {
   "cell_type": "code",
   "execution_count": 116,
   "metadata": {
    "ExecuteTime": {
     "end_time": "2019-01-29T23:15:46.234975Z",
     "start_time": "2019-01-29T23:15:46.199392Z"
    }
   },
   "outputs": [
    {
     "data": {
      "text/plain": [
       "array([[-2,  2, -2,  2],\n",
       "       [ 2,  2,  2, -2],\n",
       "       [-2, -2, -2, -2],\n",
       "       [ 2, -2, -2,  2]])"
      ]
     },
     "execution_count": 116,
     "metadata": {},
     "output_type": "execute_result"
    }
   ],
   "source": [
    "arr = np.random.randn(4, 4)\n",
    "np.where(arr>0, 2, -2)"
   ]
  },
  {
   "cell_type": "code",
   "execution_count": 117,
   "metadata": {
    "ExecuteTime": {
     "end_time": "2019-01-29T23:15:46.272661Z",
     "start_time": "2019-01-29T23:15:46.238102Z"
    }
   },
   "outputs": [
    {
     "data": {
      "text/plain": [
       "array([[-2,  2, -2,  2],\n",
       "       [ 2,  2,  2, -2],\n",
       "       [-2, -2, -2, -2],\n",
       "       [ 2, -2, -2,  2]])"
      ]
     },
     "execution_count": 117,
     "metadata": {},
     "output_type": "execute_result"
    }
   ],
   "source": [
    "a = arr.copy()\n",
    "a[arr>0] = 2\n",
    "a[arr<0] = -2\n",
    "a.astype(np.int64)"
   ]
  },
  {
   "cell_type": "code",
   "execution_count": 118,
   "metadata": {
    "ExecuteTime": {
     "end_time": "2019-01-29T23:15:46.319567Z",
     "start_time": "2019-01-29T23:15:46.275509Z"
    }
   },
   "outputs": [
    {
     "data": {
      "text/plain": [
       "array([[ True,  True,  True,  True],\n",
       "       [ True,  True,  True,  True],\n",
       "       [ True,  True,  True,  True],\n",
       "       [ True,  True,  True,  True]], dtype=bool)"
      ]
     },
     "execution_count": 118,
     "metadata": {},
     "output_type": "execute_result"
    }
   ],
   "source": [
    "a == np.where(arr>0, 2, -2)"
   ]
  },
  {
   "cell_type": "code",
   "execution_count": 119,
   "metadata": {
    "ExecuteTime": {
     "end_time": "2019-01-29T23:15:46.366060Z",
     "start_time": "2019-01-29T23:15:46.324543Z"
    }
   },
   "outputs": [
    {
     "name": "stdout",
     "output_type": "stream",
     "text": [
      "[[-0.7909  0.7799 -0.6348  1.3389]\n",
      " [ 0.0508  0.9284  0.1373 -0.055 ]\n",
      " [-1.2266 -0.6663 -0.4836 -0.1085]\n",
      " [ 0.2924 -1.02   -1.6049  1.1388]]\n"
     ]
    },
    {
     "data": {
      "text/plain": [
       "array([[ 0.,  2.,  0.,  2.],\n",
       "       [ 2.,  2.,  2.,  0.],\n",
       "       [ 0.,  0.,  0.,  0.],\n",
       "       [ 2.,  0.,  0.,  2.]])"
      ]
     },
     "execution_count": 119,
     "metadata": {},
     "output_type": "execute_result"
    }
   ],
   "source": [
    "print(arr)\n",
    "a = np.where(arr>0, 2, np.zeros_like(arr))\n",
    "a"
   ]
  },
  {
   "cell_type": "code",
   "execution_count": 120,
   "metadata": {
    "ExecuteTime": {
     "end_time": "2019-01-29T23:15:46.410402Z",
     "start_time": "2019-01-29T23:15:46.368979Z"
    }
   },
   "outputs": [
    {
     "data": {
      "text/plain": [
       "[1.1000000000000001, 2.2000000000000002, 1.3, 1.3999999999999999, 2.5]"
      ]
     },
     "execution_count": 120,
     "metadata": {},
     "output_type": "execute_result"
    }
   ],
   "source": [
    "xarr = np.array([1.1, 1.2, 1.3, 1.4, 1.5])\n",
    "yarr = np.array([2.1, 2.2, 2.3, 2.4, 2.5])\n",
    "cond = np.array([True, False, True, True, False])\n",
    "result = [(x if c else y)\n",
    "          for x, y, c in zip(xarr, yarr, cond)]\n",
    "result"
   ]
  },
  {
   "cell_type": "code",
   "execution_count": 224,
   "metadata": {
    "ExecuteTime": {
     "end_time": "2019-01-27T14:29:19.180142Z",
     "start_time": "2019-01-27T14:29:19.147661Z"
    }
   },
   "outputs": [
    {
     "data": {
      "text/plain": [
       "array([ 1.1,  2.2,  1.3,  1.4,  2.5])"
      ]
     },
     "execution_count": 224,
     "metadata": {},
     "output_type": "execute_result"
    }
   ],
   "source": [
    "np.where(cond, xarr, yarr)"
   ]
  },
  {
   "cell_type": "markdown",
   "metadata": {
    "ExecuteTime": {
     "end_time": "2019-01-27T14:29:43.214116Z",
     "start_time": "2019-01-27T14:29:43.187806Z"
    }
   },
   "source": [
    "## 数学和统计方法"
   ]
  },
  {
   "cell_type": "code",
   "execution_count": 122,
   "metadata": {
    "ExecuteTime": {
     "end_time": "2019-01-29T23:16:05.084848Z",
     "start_time": "2019-01-29T23:16:05.047679Z"
    }
   },
   "outputs": [
    {
     "name": "stdout",
     "output_type": "stream",
     "text": [
      "[[-0.5232 -0.692   1.1931 -0.7544]\n",
      " [ 0.3232 -0.9813 -1.0292 -0.7089]\n",
      " [ 1.5694 -0.1669  0.5864  2.0495]\n",
      " [ 0.7963 -1.5194  1.148  -1.3374]\n",
      " [ 1.2461 -0.1029  0.1948 -1.4302]]\n",
      "-0.00694651711318\n",
      "-0.00694651711318\n",
      "-0.138930342264\n"
     ]
    }
   ],
   "source": [
    "arr = np.random.randn(5, 4) # normally-distributed data\n",
    "print(arr)\n",
    "print arr.mean()\n",
    "print np.mean(arr)\n",
    "print arr.sum()"
   ]
  },
  {
   "cell_type": "code",
   "execution_count": 123,
   "metadata": {
    "ExecuteTime": {
     "end_time": "2019-01-29T23:16:15.756797Z",
     "start_time": "2019-01-29T23:16:15.729279Z"
    }
   },
   "outputs": [
    {
     "data": {
      "text/plain": [
       "array([-0.1941, -0.599 ,  1.0096, -0.2281, -0.023 ])"
      ]
     },
     "execution_count": 123,
     "metadata": {},
     "output_type": "execute_result"
    }
   ],
   "source": [
    "arr.mean(axis=1)"
   ]
  },
  {
   "cell_type": "code",
   "execution_count": 124,
   "metadata": {
    "ExecuteTime": {
     "end_time": "2019-01-29T23:16:28.107459Z",
     "start_time": "2019-01-29T23:16:28.078665Z"
    }
   },
   "outputs": [
    {
     "data": {
      "text/plain": [
       "array([ 0.6824, -0.6925,  0.4186, -0.4363])"
      ]
     },
     "execution_count": 124,
     "metadata": {},
     "output_type": "execute_result"
    }
   ],
   "source": [
    "arr.mean(axis=0)"
   ]
  },
  {
   "cell_type": "code",
   "execution_count": 125,
   "metadata": {
    "ExecuteTime": {
     "end_time": "2019-01-29T23:16:46.635331Z",
     "start_time": "2019-01-29T23:16:46.600591Z"
    }
   },
   "outputs": [
    {
     "data": {
      "text/plain": [
       "array([ 3.4118, -3.4625,  2.0932, -2.1814])"
      ]
     },
     "execution_count": 125,
     "metadata": {},
     "output_type": "execute_result"
    }
   ],
   "source": [
    "arr.sum(axis=0)"
   ]
  },
  {
   "cell_type": "code",
   "execution_count": 150,
   "metadata": {
    "ExecuteTime": {
     "end_time": "2019-01-29T23:20:50.281155Z",
     "start_time": "2019-01-29T23:20:50.242116Z"
    }
   },
   "outputs": [
    {
     "data": {
      "text/plain": [
       "array([[ 0,  1,  2],\n",
       "       [ 3, 40,  5],\n",
       "       [ 6,  7,  8],\n",
       "       [ 9, 10, 11]])"
      ]
     },
     "execution_count": 150,
     "metadata": {},
     "output_type": "execute_result"
    }
   ],
   "source": [
    "arr = np.array([[0, 1, 2], [3, 40, 5], [6, 7, 8], [9, 10, 11]])\n",
    "arr"
   ]
  },
  {
   "cell_type": "code",
   "execution_count": 140,
   "metadata": {
    "ExecuteTime": {
     "end_time": "2019-01-29T23:19:06.762065Z",
     "start_time": "2019-01-29T23:19:06.729144Z"
    }
   },
   "outputs": [
    {
     "data": {
      "text/plain": [
       "array([  0,   1,   3,   6,  46,  51,  57,  64,  72,  81,  91, 102])"
      ]
     },
     "execution_count": 140,
     "metadata": {},
     "output_type": "execute_result"
    }
   ],
   "source": [
    "arr.cumsum()"
   ]
  },
  {
   "cell_type": "code",
   "execution_count": 141,
   "metadata": {
    "ExecuteTime": {
     "end_time": "2019-01-29T23:19:07.880927Z",
     "start_time": "2019-01-29T23:19:07.853016Z"
    }
   },
   "outputs": [
    {
     "data": {
      "text/plain": [
       "array([[ 0,  1,  2],\n",
       "       [ 3, 41,  7],\n",
       "       [ 9, 48, 15],\n",
       "       [18, 58, 26]])"
      ]
     },
     "execution_count": 141,
     "metadata": {},
     "output_type": "execute_result"
    }
   ],
   "source": [
    "arr.cumsum(axis=0)"
   ]
  },
  {
   "cell_type": "code",
   "execution_count": 142,
   "metadata": {
    "ExecuteTime": {
     "end_time": "2019-01-29T23:19:08.472938Z",
     "start_time": "2019-01-29T23:19:08.445357Z"
    }
   },
   "outputs": [
    {
     "data": {
      "text/plain": [
       "array([[ 0,  1,  3],\n",
       "       [ 3, 43, 48],\n",
       "       [ 6, 13, 21],\n",
       "       [ 9, 19, 30]])"
      ]
     },
     "execution_count": 142,
     "metadata": {},
     "output_type": "execute_result"
    }
   ],
   "source": [
    "arr.cumsum(axis=1)"
   ]
  },
  {
   "cell_type": "code",
   "execution_count": 144,
   "metadata": {
    "ExecuteTime": {
     "end_time": "2019-01-29T23:19:13.916867Z",
     "start_time": "2019-01-29T23:19:13.890544Z"
    }
   },
   "outputs": [
    {
     "data": {
      "text/plain": [
       "4"
      ]
     },
     "execution_count": 144,
     "metadata": {},
     "output_type": "execute_result"
    }
   ],
   "source": [
    "arr.argmax()"
   ]
  },
  {
   "cell_type": "code",
   "execution_count": 146,
   "metadata": {
    "ExecuteTime": {
     "end_time": "2019-01-29T23:19:30.531536Z",
     "start_time": "2019-01-29T23:19:30.504868Z"
    }
   },
   "outputs": [
    {
     "data": {
      "text/plain": [
       "array([3, 1, 3])"
      ]
     },
     "execution_count": 146,
     "metadata": {},
     "output_type": "execute_result"
    }
   ],
   "source": [
    "arr.argmax(0)"
   ]
  },
  {
   "cell_type": "code",
   "execution_count": 147,
   "metadata": {
    "ExecuteTime": {
     "end_time": "2019-01-29T23:19:42.270955Z",
     "start_time": "2019-01-29T23:19:42.238090Z"
    }
   },
   "outputs": [
    {
     "data": {
      "text/plain": [
       "array([2, 1, 2, 2])"
      ]
     },
     "execution_count": 147,
     "metadata": {},
     "output_type": "execute_result"
    }
   ],
   "source": [
    "arr.argmax(axis=1)"
   ]
  },
  {
   "cell_type": "code",
   "execution_count": 149,
   "metadata": {
    "ExecuteTime": {
     "end_time": "2019-01-29T23:20:33.261460Z",
     "start_time": "2019-01-29T23:20:33.223345Z"
    }
   },
   "outputs": [
    {
     "name": "stdout",
     "output_type": "stream",
     "text": [
      "[[ 0  1  2]\n",
      " [ 3 40  5]\n",
      " [ 6  7  8]\n",
      " [ 9 10 11]]\n"
     ]
    },
    {
     "data": {
      "text/plain": [
       "array([ 3, 48, 21, 30])"
      ]
     },
     "execution_count": 149,
     "metadata": {},
     "output_type": "execute_result"
    }
   ],
   "source": [
    "print(arr)\n",
    "np.sum(arr, axis=1)"
   ]
  },
  {
   "cell_type": "markdown",
   "metadata": {},
   "source": [
    "## 基于布尔型数组的方法"
   ]
  },
  {
   "cell_type": "code",
   "execution_count": 161,
   "metadata": {
    "ExecuteTime": {
     "end_time": "2019-01-29T23:23:04.399574Z",
     "start_time": "2019-01-29T23:23:04.371350Z"
    }
   },
   "outputs": [
    {
     "data": {
      "text/plain": [
       "array([[-0.6538, -0.3443,  1.0977, -0.9688,  0.1265, -0.5299, -0.5862,\n",
       "         1.3306,  0.0908, -1.7462],\n",
       "       [ 1.2376, -1.9363,  0.4467, -0.4391, -0.4902,  0.616 ,  1.8276,\n",
       "         0.1171,  0.5706, -1.3541],\n",
       "       [ 0.0503, -0.5641,  0.8241, -1.0246, -0.5129,  0.7431, -0.4404,\n",
       "        -2.0805,  1.4548, -1.098 ],\n",
       "       [-1.318 ,  0.7706,  0.7262, -0.3073, -0.3819,  0.877 , -1.1595,\n",
       "         0.611 , -0.7215,  0.1292],\n",
       "       [ 1.357 ,  1.1011, -0.8263, -1.5527,  0.7703,  0.2625,  1.8685,\n",
       "         0.8247,  0.9259,  2.0902],\n",
       "       [-0.1651, -1.349 , -0.686 ,  0.7267, -1.1351, -0.3945,  0.4748,\n",
       "        -0.9086,  1.488 ,  0.8425],\n",
       "       [-1.7976, -0.5377, -0.5723,  1.6789, -0.3378, -0.3054, -0.0916,\n",
       "        -0.8379, -0.879 , -0.2077],\n",
       "       [ 0.3897, -0.8929, -0.9149, -0.0987,  0.0244,  0.1914, -0.8797,\n",
       "         1.439 , -0.2551,  2.3054],\n",
       "       [ 0.4763,  0.8204, -0.6406,  0.1184, -0.9688,  0.6758, -0.1593,\n",
       "        -0.6503,  0.501 , -0.1086],\n",
       "       [-1.2419,  0.3076,  0.6293, -0.508 ,  1.1045,  0.4327, -0.3083,\n",
       "        -3.0933,  0.5835, -0.3873]])"
      ]
     },
     "execution_count": 161,
     "metadata": {},
     "output_type": "execute_result"
    }
   ],
   "source": [
    "arr  = np.random.randn(10,10) \n",
    "arr"
   ]
  },
  {
   "cell_type": "code",
   "execution_count": 162,
   "metadata": {
    "ExecuteTime": {
     "end_time": "2019-01-29T23:23:07.687051Z",
     "start_time": "2019-01-29T23:23:07.658837Z"
    }
   },
   "outputs": [
    {
     "data": {
      "text/plain": [
       "47"
      ]
     },
     "execution_count": 162,
     "metadata": {},
     "output_type": "execute_result"
    }
   ],
   "source": [
    "(arr > 0).sum()"
   ]
  },
  {
   "cell_type": "code",
   "execution_count": 165,
   "metadata": {
    "ExecuteTime": {
     "end_time": "2019-01-29T23:23:50.266894Z",
     "start_time": "2019-01-29T23:23:50.238717Z"
    }
   },
   "outputs": [
    {
     "data": {
      "text/plain": [
       "array([ True,  True, False,  True], dtype=bool)"
      ]
     },
     "execution_count": 165,
     "metadata": {},
     "output_type": "execute_result"
    }
   ],
   "source": [
    "bools = np.array([1,2,0,-3],dtype=np.bool)\n",
    "bools"
   ]
  },
  {
   "cell_type": "code",
   "execution_count": 166,
   "metadata": {
    "ExecuteTime": {
     "end_time": "2019-01-29T23:23:57.193620Z",
     "start_time": "2019-01-29T23:23:57.159564Z"
    }
   },
   "outputs": [
    {
     "data": {
      "text/plain": [
       "True"
      ]
     },
     "execution_count": 166,
     "metadata": {},
     "output_type": "execute_result"
    }
   ],
   "source": [
    "bools.any()"
   ]
  },
  {
   "cell_type": "code",
   "execution_count": 167,
   "metadata": {
    "ExecuteTime": {
     "end_time": "2019-01-29T23:24:01.380511Z",
     "start_time": "2019-01-29T23:24:01.347068Z"
    }
   },
   "outputs": [
    {
     "data": {
      "text/plain": [
       "False"
      ]
     },
     "execution_count": 167,
     "metadata": {},
     "output_type": "execute_result"
    }
   ],
   "source": [
    "bools.all()"
   ]
  },
  {
   "cell_type": "markdown",
   "metadata": {},
   "source": [
    "## 排序"
   ]
  },
  {
   "cell_type": "code",
   "execution_count": 317,
   "metadata": {
    "ExecuteTime": {
     "end_time": "2019-01-30T00:21:25.612928Z",
     "start_time": "2019-01-30T00:21:25.586731Z"
    }
   },
   "outputs": [],
   "source": [
    "from numpy.random import randn, rand"
   ]
  },
  {
   "cell_type": "code",
   "execution_count": 171,
   "metadata": {
    "ExecuteTime": {
     "end_time": "2019-01-29T23:25:18.118037Z",
     "start_time": "2019-01-29T23:25:18.082240Z"
    }
   },
   "outputs": [
    {
     "data": {
      "text/plain": [
       "array([-0.5106, -1.38  , -0.1263, -2.7324,  0.1029, -1.2304, -0.2261,\n",
       "        0.4537])"
      ]
     },
     "execution_count": 171,
     "metadata": {},
     "output_type": "execute_result"
    }
   ],
   "source": [
    "arr = randn(8)\n",
    "arr"
   ]
  },
  {
   "cell_type": "code",
   "execution_count": 172,
   "metadata": {
    "ExecuteTime": {
     "end_time": "2019-01-29T23:25:26.186967Z",
     "start_time": "2019-01-29T23:25:26.137005Z"
    }
   },
   "outputs": [
    {
     "data": {
      "text/plain": [
       "array([-2.7324, -1.38  , -1.2304, -0.5106, -0.2261, -0.1263,  0.1029,\n",
       "        0.4537])"
      ]
     },
     "execution_count": 172,
     "metadata": {},
     "output_type": "execute_result"
    }
   ],
   "source": [
    "arr.sort()\n",
    "arr"
   ]
  },
  {
   "cell_type": "code",
   "execution_count": 174,
   "metadata": {
    "ExecuteTime": {
     "end_time": "2019-01-29T23:26:25.033268Z",
     "start_time": "2019-01-29T23:26:25.008932Z"
    },
    "collapsed": true
   },
   "outputs": [],
   "source": [
    "# arr.sort?"
   ]
  },
  {
   "cell_type": "code",
   "execution_count": 320,
   "metadata": {
    "ExecuteTime": {
     "end_time": "2019-01-30T00:21:36.529037Z",
     "start_time": "2019-01-30T00:21:36.501427Z"
    }
   },
   "outputs": [
    {
     "data": {
      "text/plain": [
       "array([[ 0.7512,  0.4199,  0.0807,  0.5787,  0.0464],\n",
       "       [ 0.7429,  0.6292,  0.724 ,  0.8233,  0.2849],\n",
       "       [ 0.7307,  0.2652,  0.722 ,  0.4417,  0.6815],\n",
       "       [ 0.1935,  0.0274,  0.7681,  0.0839,  0.0695]])"
      ]
     },
     "execution_count": 320,
     "metadata": {},
     "output_type": "execute_result"
    }
   ],
   "source": [
    "arr = rand(4,5)\n",
    "arr"
   ]
  },
  {
   "cell_type": "code",
   "execution_count": 326,
   "metadata": {
    "ExecuteTime": {
     "end_time": "2019-01-30T00:22:45.827902Z",
     "start_time": "2019-01-30T00:22:45.790699Z"
    }
   },
   "outputs": [
    {
     "data": {
      "text/plain": [
       "array([[ 0.0464,  0.0807,  0.4199,  0.5787,  0.7512],\n",
       "       [ 0.2849,  0.6292,  0.724 ,  0.7429,  0.8233],\n",
       "       [ 0.2652,  0.4417,  0.6815,  0.722 ,  0.7307],\n",
       "       [ 0.0274,  0.0695,  0.0839,  0.1935,  0.7681]])"
      ]
     },
     "execution_count": 326,
     "metadata": {},
     "output_type": "execute_result"
    }
   ],
   "source": [
    "arr.sort(axis=1)\n",
    "arr"
   ]
  },
  {
   "cell_type": "code",
   "execution_count": 327,
   "metadata": {
    "ExecuteTime": {
     "end_time": "2019-01-30T00:22:48.775996Z",
     "start_time": "2019-01-30T00:22:48.743136Z"
    }
   },
   "outputs": [
    {
     "data": {
      "text/plain": [
       "array([[ 0.9682,  0.9918,  0.7462,  0.9391,  0.1829],\n",
       "       [ 0.473 ,  0.6092,  0.1895,  0.4016,  0.2904],\n",
       "       [ 0.3906,  0.8937,  0.4031,  0.6181,  0.1181],\n",
       "       [ 0.4392,  0.7293,  0.9566,  0.1932,  0.9464]])"
      ]
     },
     "execution_count": 327,
     "metadata": {},
     "output_type": "execute_result"
    }
   ],
   "source": [
    "arr = rand(4,5)\n",
    "arr"
   ]
  },
  {
   "cell_type": "code",
   "execution_count": 329,
   "metadata": {
    "ExecuteTime": {
     "end_time": "2019-01-30T00:23:08.316420Z",
     "start_time": "2019-01-30T00:23:08.288044Z"
    }
   },
   "outputs": [
    {
     "data": {
      "text/plain": [
       "array([[ 0.3906,  0.6092,  0.1895,  0.1932,  0.1181],\n",
       "       [ 0.4392,  0.7293,  0.4031,  0.4016,  0.1829],\n",
       "       [ 0.473 ,  0.8937,  0.7462,  0.6181,  0.2904],\n",
       "       [ 0.9682,  0.9918,  0.9566,  0.9391,  0.9464]])"
      ]
     },
     "execution_count": 329,
     "metadata": {},
     "output_type": "execute_result"
    }
   ],
   "source": [
    "np.sort(arr, axis=0)"
   ]
  },
  {
   "cell_type": "code",
   "execution_count": 341,
   "metadata": {
    "ExecuteTime": {
     "end_time": "2019-01-30T00:25:07.368608Z",
     "start_time": "2019-01-30T00:25:07.333360Z"
    }
   },
   "outputs": [
    {
     "data": {
      "text/plain": [
       "-1.6270178193235894"
      ]
     },
     "execution_count": 341,
     "metadata": {},
     "output_type": "execute_result"
    }
   ],
   "source": [
    "large_arr = randn(10000)\n",
    "# 5%分位数\n",
    "np.sort(large_arr)[int(len(large_arr)*0.05)]"
   ]
  },
  {
   "cell_type": "markdown",
   "metadata": {},
   "source": [
    "## 日期和时间"
   ]
  },
  {
   "cell_type": "markdown",
   "metadata": {},
   "source": [
    "Python内建的datetime模块提供了datetime、date和time类型。datetime类型结合了date和time，是最常使用的："
   ]
  },
  {
   "cell_type": "code",
   "execution_count": 208,
   "metadata": {
    "ExecuteTime": {
     "end_time": "2019-01-29T23:43:30.167856Z",
     "start_time": "2019-01-29T23:43:30.133852Z"
    },
    "collapsed": true
   },
   "outputs": [],
   "source": [
    "from datetime import datetime, date, time"
   ]
  },
  {
   "cell_type": "code",
   "execution_count": 203,
   "metadata": {
    "ExecuteTime": {
     "end_time": "2019-01-29T23:42:21.813209Z",
     "start_time": "2019-01-29T23:42:21.616685Z"
    }
   },
   "outputs": [
    {
     "name": "stdout",
     "output_type": "stream",
     "text": [
      "2011-10-29 20:30:21\n",
      "29\n",
      "21\n"
     ]
    },
    {
     "data": {
      "text/plain": [
       "datetime.datetime(2011, 10, 29, 20, 30, 21)"
      ]
     },
     "execution_count": 203,
     "metadata": {},
     "output_type": "execute_result"
    }
   ],
   "source": [
    "dt = datetime(2011, 10, 29, 20, 30, 21)\n",
    "print(dt)\n",
    "print(dt.day)\n",
    "print(dt.second)\n",
    "dt"
   ]
  },
  {
   "cell_type": "code",
   "execution_count": 184,
   "metadata": {
    "ExecuteTime": {
     "end_time": "2019-01-29T23:39:25.884582Z",
     "start_time": "2019-01-29T23:39:25.841904Z"
    }
   },
   "outputs": [
    {
     "name": "stdout",
     "output_type": "stream",
     "text": [
      "2011-10-29\n"
     ]
    },
    {
     "data": {
      "text/plain": [
       "datetime.date(2011, 10, 29)"
      ]
     },
     "execution_count": 184,
     "metadata": {},
     "output_type": "execute_result"
    }
   ],
   "source": [
    "adate = dt.date()\n",
    "print(adate)\n",
    "adate"
   ]
  },
  {
   "cell_type": "code",
   "execution_count": 185,
   "metadata": {
    "ExecuteTime": {
     "end_time": "2019-01-29T23:39:30.728815Z",
     "start_time": "2019-01-29T23:39:30.690585Z"
    }
   },
   "outputs": [
    {
     "name": "stdout",
     "output_type": "stream",
     "text": [
      "20:30:21\n"
     ]
    },
    {
     "data": {
      "text/plain": [
       "datetime.time(20, 30, 21)"
      ]
     },
     "execution_count": 185,
     "metadata": {},
     "output_type": "execute_result"
    }
   ],
   "source": [
    "atime = dt.time()\n",
    "print(atime)\n",
    "atime"
   ]
  },
  {
   "cell_type": "code",
   "execution_count": 191,
   "metadata": {
    "ExecuteTime": {
     "end_time": "2019-01-29T23:40:07.689696Z",
     "start_time": "2019-01-29T23:40:07.656829Z"
    }
   },
   "outputs": [
    {
     "name": "stdout",
     "output_type": "stream",
     "text": [
      "2019-01-02\n"
     ]
    }
   ],
   "source": [
    "print(date(2019,1,2))"
   ]
  },
  {
   "cell_type": "code",
   "execution_count": 194,
   "metadata": {
    "ExecuteTime": {
     "end_time": "2019-01-29T23:40:20.898352Z",
     "start_time": "2019-01-29T23:40:20.873708Z"
    }
   },
   "outputs": [
    {
     "name": "stdout",
     "output_type": "stream",
     "text": [
      "10:50:00\n"
     ]
    }
   ],
   "source": [
    "print(time(10,50))"
   ]
  },
  {
   "cell_type": "code",
   "execution_count": 195,
   "metadata": {
    "ExecuteTime": {
     "end_time": "2019-01-29T23:40:30.693174Z",
     "start_time": "2019-01-29T23:40:30.663197Z"
    }
   },
   "outputs": [
    {
     "data": {
      "text/plain": [
       "'10/29/2011 20:30'"
      ]
     },
     "execution_count": 195,
     "metadata": {},
     "output_type": "execute_result"
    }
   ],
   "source": [
    "dt.strftime('%m/%d/%Y %H:%M')"
   ]
  },
  {
   "cell_type": "code",
   "execution_count": 196,
   "metadata": {
    "ExecuteTime": {
     "end_time": "2019-01-29T23:40:53.586708Z",
     "start_time": "2019-01-29T23:40:53.554275Z"
    }
   },
   "outputs": [
    {
     "data": {
      "text/plain": [
       "'10/29/2011'"
      ]
     },
     "execution_count": 196,
     "metadata": {},
     "output_type": "execute_result"
    }
   ],
   "source": [
    "adate.strftime('%m/%d/%Y')"
   ]
  },
  {
   "cell_type": "code",
   "execution_count": 201,
   "metadata": {
    "ExecuteTime": {
     "end_time": "2019-01-29T23:41:34.716951Z",
     "start_time": "2019-01-29T23:41:34.678051Z"
    }
   },
   "outputs": [
    {
     "data": {
      "text/plain": [
       "'20:30:21'"
      ]
     },
     "execution_count": 201,
     "metadata": {},
     "output_type": "execute_result"
    }
   ],
   "source": [
    "atime.strftime('%H:%M:%S')"
   ]
  },
  {
   "cell_type": "code",
   "execution_count": 209,
   "metadata": {
    "ExecuteTime": {
     "end_time": "2019-01-29T23:44:59.630051Z",
     "start_time": "2019-01-29T23:44:59.585085Z"
    }
   },
   "outputs": [
    {
     "data": {
      "text/plain": [
       "datetime.datetime(2009, 10, 31, 0, 0)"
      ]
     },
     "execution_count": 209,
     "metadata": {},
     "output_type": "execute_result"
    }
   ],
   "source": [
    "datetime.strptime('20091031', '%Y%m%d')"
   ]
  },
  {
   "cell_type": "code",
   "execution_count": 210,
   "metadata": {
    "ExecuteTime": {
     "end_time": "2019-01-29T23:45:31.781531Z",
     "start_time": "2019-01-29T23:45:31.742805Z"
    }
   },
   "outputs": [
    {
     "data": {
      "text/plain": [
       "datetime.datetime(2011, 10, 29, 20, 30, 21)"
      ]
     },
     "execution_count": 210,
     "metadata": {},
     "output_type": "execute_result"
    }
   ],
   "source": [
    "dt"
   ]
  },
  {
   "cell_type": "code",
   "execution_count": 222,
   "metadata": {
    "ExecuteTime": {
     "end_time": "2019-01-29T23:47:58.963994Z",
     "start_time": "2019-01-29T23:47:58.926509Z"
    }
   },
   "outputs": [
    {
     "name": "stdout",
     "output_type": "stream",
     "text": [
      "2019-10-29 20:00:00\n"
     ]
    },
    {
     "data": {
      "text/plain": [
       "datetime.datetime(2019, 10, 29, 20, 0)"
      ]
     },
     "execution_count": 222,
     "metadata": {},
     "output_type": "execute_result"
    }
   ],
   "source": [
    "new_dt = dt.replace(year=2019, minute=0, second=0)\n",
    "print(new_dt)\n",
    "new_dt"
   ]
  },
  {
   "cell_type": "code",
   "execution_count": 219,
   "metadata": {
    "ExecuteTime": {
     "end_time": "2019-01-29T23:47:03.488936Z",
     "start_time": "2019-01-29T23:47:03.451669Z"
    }
   },
   "outputs": [
    {
     "data": {
      "text/plain": [
       "datetime.datetime(2011, 10, 29, 20, 30, 21)"
      ]
     },
     "execution_count": 219,
     "metadata": {},
     "output_type": "execute_result"
    }
   ],
   "source": [
    "dt  # datetime.datetime是不可变类型"
   ]
  },
  {
   "cell_type": "code",
   "execution_count": 230,
   "metadata": {
    "ExecuteTime": {
     "end_time": "2019-01-29T23:49:39.140463Z",
     "start_time": "2019-01-29T23:49:39.112735Z"
    }
   },
   "outputs": [
    {
     "data": {
      "text/plain": [
       "datetime.timedelta(17, 7179)"
      ]
     },
     "execution_count": 230,
     "metadata": {},
     "output_type": "execute_result"
    }
   ],
   "source": [
    "dt2 = datetime(2011, 11, 15, 22, 30)\n",
    "delta = dt2 - dt\n",
    "delta  # 指17天又7179秒"
   ]
  },
  {
   "cell_type": "code",
   "execution_count": 228,
   "metadata": {
    "ExecuteTime": {
     "end_time": "2019-01-29T23:49:18.868658Z",
     "start_time": "2019-01-29T23:49:18.841801Z"
    },
    "collapsed": true
   },
   "outputs": [],
   "source": [
    "from datetime import timedelta"
   ]
  },
  {
   "cell_type": "code",
   "execution_count": 231,
   "metadata": {
    "ExecuteTime": {
     "end_time": "2019-01-29T23:50:20.593796Z",
     "start_time": "2019-01-29T23:50:20.560296Z"
    }
   },
   "outputs": [
    {
     "data": {
      "text/plain": [
       "datetime.timedelta(12)"
      ]
     },
     "execution_count": 231,
     "metadata": {},
     "output_type": "execute_result"
    }
   ],
   "source": [
    "timedelta(12,0)"
   ]
  },
  {
   "cell_type": "code",
   "execution_count": 243,
   "metadata": {
    "ExecuteTime": {
     "end_time": "2019-01-29T23:52:04.195490Z",
     "start_time": "2019-01-29T23:52:04.150568Z"
    }
   },
   "outputs": [
    {
     "data": {
      "text/plain": [
       "datetime.datetime(2011, 11, 1, 20, 30, 31)"
      ]
     },
     "execution_count": 243,
     "metadata": {},
     "output_type": "execute_result"
    }
   ],
   "source": [
    "dt + timedelta(3, 10)"
   ]
  },
  {
   "cell_type": "code",
   "execution_count": 245,
   "metadata": {
    "ExecuteTime": {
     "end_time": "2019-01-29T23:54:53.362528Z",
     "start_time": "2019-01-29T23:54:53.316192Z"
    }
   },
   "outputs": [
    {
     "data": {
      "text/plain": [
       "10"
      ]
     },
     "execution_count": 245,
     "metadata": {},
     "output_type": "execute_result"
    }
   ],
   "source": [
    "timedelta(3, 10).seconds"
   ]
  },
  {
   "cell_type": "code",
   "execution_count": 246,
   "metadata": {
    "ExecuteTime": {
     "end_time": "2019-01-29T23:56:13.630020Z",
     "start_time": "2019-01-29T23:56:13.372811Z"
    }
   },
   "outputs": [
    {
     "data": {
      "text/plain": [
       "259210.0"
      ]
     },
     "execution_count": 246,
     "metadata": {},
     "output_type": "execute_result"
    }
   ],
   "source": [
    "timedelta(3, 10).total_seconds()"
   ]
  },
  {
   "cell_type": "code",
   "execution_count": 248,
   "metadata": {
    "ExecuteTime": {
     "end_time": "2019-01-29T23:56:58.351018Z",
     "start_time": "2019-01-29T23:56:58.320001Z"
    }
   },
   "outputs": [
    {
     "name": "stdout",
     "output_type": "stream",
     "text": [
      "4 days, 3:46:40\n"
     ]
    }
   ],
   "source": [
    "print(timedelta(3, 100000))"
   ]
  },
  {
   "cell_type": "code",
   "execution_count": 255,
   "metadata": {
    "ExecuteTime": {
     "end_time": "2019-01-29T23:58:36.851505Z",
     "start_time": "2019-01-29T23:58:36.824487Z"
    }
   },
   "outputs": [
    {
     "data": {
      "text/plain": [
       "17"
      ]
     },
     "execution_count": 255,
     "metadata": {},
     "output_type": "execute_result"
    }
   ],
   "source": [
    "(dt2 - dt).days"
   ]
  },
  {
   "cell_type": "code",
   "execution_count": 259,
   "metadata": {
    "ExecuteTime": {
     "end_time": "2019-01-30T00:00:16.002301Z",
     "start_time": "2019-01-30T00:00:15.966267Z"
    }
   },
   "outputs": [
    {
     "name": "stdout",
     "output_type": "stream",
     "text": [
      "2013-01-01\n",
      "2013-01-02\n",
      "2013-01-03\n",
      "2013-01-04\n"
     ]
    }
   ],
   "source": [
    "from datetime import timedelta, date\n",
    "\n",
    "def daterange(start_date, end_date):\n",
    "    for n in range(int ((end_date - start_date).days)):\n",
    "        yield start_date + timedelta(n)\n",
    "\n",
    "start_date = date(2013, 1, 1)\n",
    "end_date = date(2013, 1, 5)\n",
    "for single_date in daterange(start_date, end_date):\n",
    "    print single_date.strftime(\"%Y-%m-%d\")"
   ]
  },
  {
   "cell_type": "code",
   "execution_count": 263,
   "metadata": {
    "ExecuteTime": {
     "end_time": "2019-01-30T00:01:13.420173Z",
     "start_time": "2019-01-30T00:01:13.387384Z"
    }
   },
   "outputs": [
    {
     "data": {
      "text/plain": [
       "345600.0"
      ]
     },
     "execution_count": 263,
     "metadata": {},
     "output_type": "execute_result"
    }
   ],
   "source": [
    "(end_date -start_date).total_seconds()"
   ]
  },
  {
   "cell_type": "code",
   "execution_count": 264,
   "metadata": {
    "ExecuteTime": {
     "end_time": "2019-01-30T00:02:55.361079Z",
     "start_time": "2019-01-30T00:02:55.318169Z"
    },
    "collapsed": true
   },
   "outputs": [],
   "source": [
    "from datetime import date"
   ]
  },
  {
   "cell_type": "code",
   "execution_count": 270,
   "metadata": {
    "ExecuteTime": {
     "end_time": "2019-01-30T00:03:50.693249Z",
     "start_time": "2019-01-30T00:03:50.667214Z"
    }
   },
   "outputs": [],
   "source": [
    "td = date.today()"
   ]
  },
  {
   "cell_type": "code",
   "execution_count": 271,
   "metadata": {
    "ExecuteTime": {
     "end_time": "2019-01-30T00:03:51.191821Z",
     "start_time": "2019-01-30T00:03:51.160733Z"
    }
   },
   "outputs": [
    {
     "data": {
      "text/plain": [
       "2"
      ]
     },
     "execution_count": 271,
     "metadata": {},
     "output_type": "execute_result"
    }
   ],
   "source": [
    "td.weekday()"
   ]
  },
  {
   "cell_type": "code",
   "execution_count": 289,
   "metadata": {
    "ExecuteTime": {
     "end_time": "2019-01-30T00:09:03.134113Z",
     "start_time": "2019-01-30T00:09:03.100277Z"
    }
   },
   "outputs": [
    {
     "name": "stdout",
     "output_type": "stream",
     "text": [
      "2019-01-30 08:09:03.129216\n",
      "The current time is 08:09:03.129216\n",
      "The current time is 08:09:03.129216\n",
      "Today is day number 2\n",
      "which is a wednesday\n",
      "2\n"
     ]
    }
   ],
   "source": [
    "from datetime import date\n",
    "from datetime import time\n",
    "from datetime import datetime\n",
    "def main():\n",
    "    ##DATETIME OBJECTS\n",
    "    #Get today's date from datetime class\n",
    "    today=datetime.now()\n",
    "    print(today)\n",
    "    # Get the current time\n",
    "    t = datetime.time(today)\n",
    "    print \"The current time is\", t\n",
    "    print \"The current time is\", today.time()\n",
    "    #weekday returns 0 (monday) through 6 (sunday)\n",
    "    wd=date.weekday(today)\n",
    "    #Days start at 0 for monday\n",
    "    days= [\"monday\",\"tuesday\",\"wednesday\",\"thursday\",\"friday\",\"saturday\",\"sunday\"]\n",
    "    print(\"Today is day number %d\" % wd)\n",
    "    print(\"which is a \" + days[wd])\n",
    "    print(today.weekday())\n",
    "\n",
    "\n",
    "if __name__== \"__main__\":\n",
    "    main()"
   ]
  },
  {
   "cell_type": "code",
   "execution_count": 313,
   "metadata": {
    "ExecuteTime": {
     "end_time": "2019-01-30T00:15:33.106134Z",
     "start_time": "2019-01-30T00:15:33.073250Z"
    }
   },
   "outputs": [
    {
     "data": {
      "text/plain": [
       "NoneType"
      ]
     },
     "execution_count": 313,
     "metadata": {},
     "output_type": "execute_result"
    }
   ],
   "source": [
    "datetime.now()"
   ]
  },
  {
   "cell_type": "code",
   "execution_count": 307,
   "metadata": {
    "ExecuteTime": {
     "end_time": "2019-01-30T00:15:06.954871Z",
     "start_time": "2019-01-30T00:15:06.887490Z"
    }
   },
   "outputs": [
    {
     "data": {
      "text/plain": [
       "datetime.date(2019, 1, 30)"
      ]
     },
     "execution_count": 307,
     "metadata": {},
     "output_type": "execute_result"
    }
   ],
   "source": [
    "date.today()"
   ]
  },
  {
   "cell_type": "code",
   "execution_count": 314,
   "metadata": {
    "ExecuteTime": {
     "end_time": "2019-01-30T00:15:40.555357Z",
     "start_time": "2019-01-30T00:15:40.529862Z"
    }
   },
   "outputs": [],
   "source": [
    "datetime.today()"
   ]
  },
  {
   "cell_type": "markdown",
   "metadata": {
    "ExecuteTime": {
     "end_time": "2019-01-30T00:15:50.514056Z",
     "start_time": "2019-01-30T00:15:50.486108Z"
    }
   },
   "source": [
    "### tzinfo"
   ]
  },
  {
   "cell_type": "code",
   "execution_count": 343,
   "metadata": {
    "ExecuteTime": {
     "end_time": "2019-01-30T00:25:59.629003Z",
     "start_time": "2019-01-30T00:25:59.597500Z"
    }
   },
   "outputs": [
    {
     "data": {
      "text/plain": [
       "'\\nThe function datetime.now() takes tzinfo as keyword argument but datetime.today() does not take any keyword arguments.\\nQuoting the docs:\\n\\ndatetime.now() returns the current local date and time. If optional argument tz is None or not specified, \\nthis is like today(), but, if possible, supplies more precision than can be gotten from going through a time.time() \\ntimestamp (for example, this may be possible on platforms supplying the C gettimeofday() function).\\n'"
      ]
     },
     "execution_count": 343,
     "metadata": {},
     "output_type": "execute_result"
    }
   ],
   "source": [
    "# 待研究\n",
    "\"\"\"\n",
    "The function datetime.now() takes tzinfo as keyword argument but datetime.today() does not take any keyword arguments.\n",
    "Quoting the docs:\n",
    "\n",
    "datetime.now() returns the current local date and time. If optional argument tz is None or not specified, \n",
    "this is like today(), but, if possible, supplies more precision than can be gotten from going through a time.time() \n",
    "timestamp (for example, this may be possible on platforms supplying the C gettimeofday() function).\n",
    "\"\"\"\n"
   ]
  },
  {
   "cell_type": "markdown",
   "metadata": {},
   "source": [
    "## 唯一化以及其他的集合逻辑"
   ]
  },
  {
   "cell_type": "code",
   "execution_count": 345,
   "metadata": {
    "ExecuteTime": {
     "end_time": "2019-01-30T00:29:24.715640Z",
     "start_time": "2019-01-30T00:29:24.677054Z"
    }
   },
   "outputs": [
    {
     "data": {
      "text/plain": [
       "array(['Bob', 'Joe', 'Will'],\n",
       "      dtype='|S4')"
      ]
     },
     "execution_count": 345,
     "metadata": {},
     "output_type": "execute_result"
    }
   ],
   "source": [
    "names = np.array(['Bob', 'Joe', 'Will', 'Bob', 'Will', 'Joe', 'Joe'])\n",
    "np.unique(names)"
   ]
  },
  {
   "cell_type": "code",
   "execution_count": 358,
   "metadata": {
    "ExecuteTime": {
     "end_time": "2019-01-30T00:32:36.069030Z",
     "start_time": "2019-01-30T00:32:36.027190Z"
    }
   },
   "outputs": [
    {
     "data": {
      "text/plain": [
       "array([1, 2, 3, 4])"
      ]
     },
     "execution_count": 358,
     "metadata": {},
     "output_type": "execute_result"
    }
   ],
   "source": [
    "ints = np.array([3, 3, 3, 2, 2, 1, 1, 4, 4])\n",
    "np.unique(ints)"
   ]
  },
  {
   "cell_type": "code",
   "execution_count": 359,
   "metadata": {
    "ExecuteTime": {
     "end_time": "2019-01-30T00:32:51.736390Z",
     "start_time": "2019-01-30T00:32:51.702690Z"
    }
   },
   "outputs": [
    {
     "data": {
      "text/plain": [
       "[1, 2, 3, 4]"
      ]
     },
     "execution_count": 359,
     "metadata": {},
     "output_type": "execute_result"
    }
   ],
   "source": [
    "sorted(set(ints))"
   ]
  },
  {
   "cell_type": "code",
   "execution_count": 360,
   "metadata": {
    "ExecuteTime": {
     "end_time": "2019-01-30T00:33:02.938297Z",
     "start_time": "2019-01-30T00:33:02.894375Z"
    }
   },
   "outputs": [
    {
     "data": {
      "text/plain": [
       "array([ True, False, False,  True,  True, False,  True], dtype=bool)"
      ]
     },
     "execution_count": 360,
     "metadata": {},
     "output_type": "execute_result"
    }
   ],
   "source": [
    "values = np.array([6, 0, 0, 3, 2, 5, 6])\n",
    "np.in1d(values, [2, 3, 6])"
   ]
  },
  {
   "cell_type": "markdown",
   "metadata": {
    "ExecuteTime": {
     "end_time": "2019-01-30T00:31:41.450919Z",
     "start_time": "2019-01-30T00:31:41.418720Z"
    }
   },
   "source": [
    "## 用于数组的文件输入输出"
   ]
  },
  {
   "cell_type": "code",
   "execution_count": 379,
   "metadata": {
    "ExecuteTime": {
     "end_time": "2019-01-30T00:42:13.886219Z",
     "start_time": "2019-01-30T00:42:13.861403Z"
    },
    "collapsed": true
   },
   "outputs": [],
   "source": [
    "arr = np.arange(100)"
   ]
  },
  {
   "cell_type": "code",
   "execution_count": 380,
   "metadata": {
    "ExecuteTime": {
     "end_time": "2019-01-30T00:42:14.120528Z",
     "start_time": "2019-01-30T00:42:14.083088Z"
    },
    "collapsed": true
   },
   "outputs": [],
   "source": [
    "np.save('my_some_array', arr)"
   ]
  },
  {
   "cell_type": "code",
   "execution_count": 381,
   "metadata": {
    "ExecuteTime": {
     "end_time": "2019-01-30T00:42:14.356458Z",
     "start_time": "2019-01-30T00:42:14.309708Z"
    }
   },
   "outputs": [],
   "source": [
    "# cat my_some_array.npy"
   ]
  },
  {
   "cell_type": "code",
   "execution_count": 382,
   "metadata": {
    "ExecuteTime": {
     "end_time": "2019-01-30T00:42:14.468135Z",
     "start_time": "2019-01-30T00:42:14.432493Z"
    }
   },
   "outputs": [
    {
     "data": {
      "text/plain": [
       "array([ 0,  1,  2,  3,  4,  5,  6,  7,  8,  9, 10, 11, 12, 13, 14, 15, 16,\n",
       "       17, 18, 19, 20, 21, 22, 23, 24, 25, 26, 27, 28, 29, 30, 31, 32, 33,\n",
       "       34, 35, 36, 37, 38, 39, 40, 41, 42, 43, 44, 45, 46, 47, 48, 49, 50,\n",
       "       51, 52, 53, 54, 55, 56, 57, 58, 59, 60, 61, 62, 63, 64, 65, 66, 67,\n",
       "       68, 69, 70, 71, 72, 73, 74, 75, 76, 77, 78, 79, 80, 81, 82, 83, 84,\n",
       "       85, 86, 87, 88, 89, 90, 91, 92, 93, 94, 95, 96, 97, 98, 99])"
      ]
     },
     "execution_count": 382,
     "metadata": {},
     "output_type": "execute_result"
    }
   ],
   "source": [
    "new_arr = np.load('my_some_array.npy')\n",
    "new_arr"
   ]
  },
  {
   "cell_type": "code",
   "execution_count": 384,
   "metadata": {
    "ExecuteTime": {
     "end_time": "2019-01-30T00:55:50.298882Z",
     "start_time": "2019-01-30T00:55:50.264420Z"
    }
   },
   "outputs": [],
   "source": [
    "np.savez('my_array_archive.npz', a=arr, b=arr)"
   ]
  },
  {
   "cell_type": "code",
   "execution_count": 385,
   "metadata": {
    "ExecuteTime": {
     "end_time": "2019-01-30T00:55:59.928374Z",
     "start_time": "2019-01-30T00:55:59.895066Z"
    },
    "collapsed": true
   },
   "outputs": [],
   "source": [
    "arch = np.load('array_archive.npz')"
   ]
  },
  {
   "cell_type": "code",
   "execution_count": 396,
   "metadata": {
    "ExecuteTime": {
     "end_time": "2019-01-30T00:57:31.037378Z",
     "start_time": "2019-01-30T00:57:30.981453Z"
    }
   },
   "outputs": [
    {
     "name": "stdout",
     "output_type": "stream",
     "text": [
      "[ 0 10  2  3  4  5  6  7  8  9 10 11 12 13 14 15 16 17 18 19 20 21 22 23 24\n",
      " 25 26 27 28 29 30 31 32 33 34 35 36 37 38 39 40 41 42 43 44 45 46 47 48 49\n",
      " 50 51 52 53 54 55 56 57 58 59 60 61 62 63 64 65 66 67 68 69 70 71 72 73 74\n",
      " 75 76 77 78 79 80 81 82 83 84 85 86 87 88 89 90 91 92 93 94 95 96 97 98 99]\n"
     ]
    },
    {
     "data": {
      "text/plain": [
       "array([ 0,  1,  2,  3,  4,  5,  6,  7,  8,  9, 10, 11, 12, 13, 14, 15, 16,\n",
       "       17, 18, 19, 20, 21, 22, 23, 24, 25, 26, 27, 28, 29, 30, 31, 32, 33,\n",
       "       34, 35, 36, 37, 38, 39, 40, 41, 42, 43, 44, 45, 46, 47, 48, 49, 50,\n",
       "       51, 52, 53, 54, 55, 56, 57, 58, 59, 60, 61, 62, 63, 64, 65, 66, 67,\n",
       "       68, 69, 70, 71, 72, 73, 74, 75, 76, 77, 78, 79, 80, 81, 82, 83, 84,\n",
       "       85, 86, 87, 88, 89, 90, 91, 92, 93, 94, 95, 96, 97, 98, 99])"
      ]
     },
     "execution_count": 396,
     "metadata": {},
     "output_type": "execute_result"
    }
   ],
   "source": [
    "z = arch[\"a\"]\n",
    "z[1]= 10\n",
    "print(z)\n",
    "arch['a']"
   ]
  },
  {
   "cell_type": "code",
   "execution_count": 397,
   "metadata": {
    "ExecuteTime": {
     "end_time": "2019-01-30T00:57:36.668087Z",
     "start_time": "2019-01-30T00:57:36.639024Z"
    }
   },
   "outputs": [
    {
     "data": {
      "text/plain": [
       "array([ 0,  1,  2,  3,  4,  5,  6,  7,  8,  9, 10, 11, 12, 13, 14, 15, 16,\n",
       "       17, 18, 19, 20, 21, 22, 23, 24, 25, 26, 27, 28, 29, 30, 31, 32, 33,\n",
       "       34, 35, 36, 37, 38, 39, 40, 41, 42, 43, 44, 45, 46, 47, 48, 49, 50,\n",
       "       51, 52, 53, 54, 55, 56, 57, 58, 59, 60, 61, 62, 63, 64, 65, 66, 67,\n",
       "       68, 69, 70, 71, 72, 73, 74, 75, 76, 77, 78, 79, 80, 81, 82, 83, 84,\n",
       "       85, 86, 87, 88, 89, 90, 91, 92, 93, 94, 95, 96, 97, 98, 99])"
      ]
     },
     "execution_count": 397,
     "metadata": {},
     "output_type": "execute_result"
    }
   ],
   "source": [
    "arch[\"b\"]"
   ]
  },
  {
   "cell_type": "markdown",
   "metadata": {},
   "source": [
    "## 存取文本文件"
   ]
  },
  {
   "cell_type": "code",
   "execution_count": 400,
   "metadata": {
    "ExecuteTime": {
     "end_time": "2019-01-30T01:00:02.369000Z",
     "start_time": "2019-01-30T01:00:02.196322Z"
    }
   },
   "outputs": [
    {
     "name": "stdout",
     "output_type": "stream",
     "text": [
      "1,2,3\r\n",
      "4,5,6\r\n",
      "7,8,9\r\n"
     ]
    }
   ],
   "source": [
    "cat array_ext.txt"
   ]
  },
  {
   "cell_type": "code",
   "execution_count": 402,
   "metadata": {
    "ExecuteTime": {
     "end_time": "2019-01-30T01:00:26.216609Z",
     "start_time": "2019-01-30T01:00:26.192006Z"
    }
   },
   "outputs": [],
   "source": [
    "arr = np.loadtxt('array_ext.txt', delimiter=',')"
   ]
  },
  {
   "cell_type": "code",
   "execution_count": 405,
   "metadata": {
    "ExecuteTime": {
     "end_time": "2019-01-30T01:00:37.624193Z",
     "start_time": "2019-01-30T01:00:37.585875Z"
    }
   },
   "outputs": [
    {
     "data": {
      "text/plain": [
       "array([[ 1.,  2.,  3.],\n",
       "       [ 4.,  5.,  6.],\n",
       "       [ 7.,  8.,  9.]])"
      ]
     },
     "execution_count": 405,
     "metadata": {},
     "output_type": "execute_result"
    }
   ],
   "source": [
    "arr"
   ]
  },
  {
   "cell_type": "markdown",
   "metadata": {
    "ExecuteTime": {
     "end_time": "2019-01-30T01:01:04.625366Z",
     "start_time": "2019-01-30T01:01:04.588656Z"
    }
   },
   "source": [
    "## 线性代数"
   ]
  },
  {
   "cell_type": "code",
   "execution_count": 418,
   "metadata": {
    "ExecuteTime": {
     "end_time": "2019-01-30T01:06:33.770405Z",
     "start_time": "2019-01-30T01:06:33.731692Z"
    }
   },
   "outputs": [
    {
     "name": "stdout",
     "output_type": "stream",
     "text": [
      "[[ 1. -0.  0. -0. -0.]\n",
      " [-0.  1. -0. -0.  0.]\n",
      " [-0.  0.  1.  0.  0.]\n",
      " [ 0. -0.  0.  1.  0.]\n",
      " [ 0.  0.  0. -0.  1.]]\n",
      "[[ -6.9271   7.389    6.1227  -7.1163  -4.9215]\n",
      " [  0.      -3.9735  -0.8671   2.9747  -5.7402]\n",
      " [  0.       0.     -10.2681   1.8909   1.6079]\n",
      " [  0.       0.       0.      -1.2996   3.3577]\n",
      " [  0.       0.       0.       0.       0.5571]]\n",
      "[[-0.5883 -0.2619 -0.2013 -0.3233 -0.6635]\n",
      " [ 0.4772 -0.6609  0.1734 -0.5501  0.0532]\n",
      " [ 0.1887 -0.0806 -0.9635 -0.0266  0.1698]\n",
      " [-0.4975  0.1618  0.0179 -0.5581  0.6438]\n",
      " [-0.3782 -0.6797  0.0276  0.5298  0.3371]]\n"
     ]
    }
   ],
   "source": [
    "np.random.seed(12345)\n",
    "from numpy.linalg import inv, qr, svd\n",
    "X = randn(5, 5)\n",
    "mat = X.T.dot(X)\n",
    "inv(mat)\n",
    "print(mat.dot(inv(mat)))\n",
    "q, r = qr(mat)\n",
    "print(r)\n",
    "print(q)"
   ]
  },
  {
   "cell_type": "code",
   "execution_count": 428,
   "metadata": {
    "ExecuteTime": {
     "end_time": "2019-01-30T01:07:41.650409Z",
     "start_time": "2019-01-30T01:07:41.616473Z"
    }
   },
   "outputs": [
    {
     "data": {
      "text/plain": [
       "array([[-3.6367, -1.2667,  0.6088],\n",
       "       [ 1.6764,  1.8779, -0.8646],\n",
       "       [-1.8605, -0.8827, -0.1787]])"
      ]
     },
     "execution_count": 428,
     "metadata": {},
     "output_type": "execute_result"
    }
   ],
   "source": [
    "inv(randn(3, 3))"
   ]
  },
  {
   "cell_type": "code",
   "execution_count": 432,
   "metadata": {
    "ExecuteTime": {
     "end_time": "2019-01-30T01:07:56.717438Z",
     "start_time": "2019-01-30T01:07:56.678953Z"
    }
   },
   "outputs": [],
   "source": [
    "u,s,v = svd(randn(3, 3))"
   ]
  },
  {
   "cell_type": "code",
   "execution_count": 433,
   "metadata": {
    "ExecuteTime": {
     "end_time": "2019-01-30T01:07:57.596056Z",
     "start_time": "2019-01-30T01:07:57.562632Z"
    }
   },
   "outputs": [
    {
     "data": {
      "text/plain": [
       "array([[ 0.641 , -0.3004, -0.7063],\n",
       "       [-0.5176,  0.5104, -0.6867],\n",
       "       [ 0.5668,  0.8058,  0.1717]])"
      ]
     },
     "execution_count": 433,
     "metadata": {},
     "output_type": "execute_result"
    }
   ],
   "source": [
    "u"
   ]
  },
  {
   "cell_type": "code",
   "execution_count": 434,
   "metadata": {
    "ExecuteTime": {
     "end_time": "2019-01-30T01:07:59.125391Z",
     "start_time": "2019-01-30T01:07:59.098039Z"
    }
   },
   "outputs": [
    {
     "data": {
      "text/plain": [
       "array([ 2.1149,  1.8053,  1.1245])"
      ]
     },
     "execution_count": 434,
     "metadata": {},
     "output_type": "execute_result"
    }
   ],
   "source": [
    "s"
   ]
  },
  {
   "cell_type": "code",
   "execution_count": 435,
   "metadata": {
    "ExecuteTime": {
     "end_time": "2019-01-30T01:08:00.844692Z",
     "start_time": "2019-01-30T01:08:00.800595Z"
    }
   },
   "outputs": [
    {
     "data": {
      "text/plain": [
       "array([[-0.2381, -0.8038, -0.5452],\n",
       "       [ 0.0389,  0.553 , -0.8323],\n",
       "       [-0.9705,  0.2194,  0.1004]])"
      ]
     },
     "execution_count": 435,
     "metadata": {},
     "output_type": "execute_result"
    }
   ],
   "source": [
    "v"
   ]
  },
  {
   "cell_type": "markdown",
   "metadata": {},
   "source": [
    "## 随机数生成"
   ]
  },
  {
   "cell_type": "markdown",
   "metadata": {},
   "source": [
    "sigma * np.random.randn(...) + mu\n",
    "is the same as\n",
    "\n",
    "np.random.normal(loc= mu, scale= sigma, ...)"
   ]
  },
  {
   "cell_type": "code",
   "execution_count": 447,
   "metadata": {
    "ExecuteTime": {
     "end_time": "2019-01-30T14:17:01.778856Z",
     "start_time": "2019-01-30T14:17:01.751343Z"
    }
   },
   "outputs": [
    {
     "data": {
      "text/plain": [
       "array([[-0.137 , -0.9305,  0.3275,  1.303 ],\n",
       "       [-1.4094, -0.1441, -0.7164,  0.1036],\n",
       "       [-1.4957, -1.1749,  2.614 , -0.6893],\n",
       "       [-0.7517,  0.6363, -1.1576,  0.6147]])"
      ]
     },
     "execution_count": 447,
     "metadata": {},
     "output_type": "execute_result"
    }
   ],
   "source": [
    "samples = np.random.normal(loc=0, scale=1, size=(4,4))\n",
    "samples"
   ]
  },
  {
   "cell_type": "code",
   "execution_count": 448,
   "metadata": {
    "ExecuteTime": {
     "end_time": "2019-01-30T14:17:03.424634Z",
     "start_time": "2019-01-30T14:17:03.392296Z"
    }
   },
   "outputs": [
    {
     "data": {
      "text/plain": [
       "array([[ 1.0214,  0.6683, -0.8095, -0.9081],\n",
       "       [ 1.5123,  0.0951,  1.1847,  0.637 ],\n",
       "       [-0.5393, -0.0551, -1.1359, -0.1705],\n",
       "       [-1.1581,  1.1046,  0.6342,  1.2597]])"
      ]
     },
     "execution_count": 448,
     "metadata": {},
     "output_type": "execute_result"
    }
   ],
   "source": [
    "np.random.randn(4,4)"
   ]
  },
  {
   "cell_type": "code",
   "execution_count": 494,
   "metadata": {
    "ExecuteTime": {
     "end_time": "2019-01-30T14:55:09.942450Z",
     "start_time": "2019-01-30T14:55:09.655019Z"
    }
   },
   "outputs": [],
   "source": [
    "from random import normalvariate\n",
    "import numpy as np\n",
    "import random\n",
    "N = 1000000"
   ]
  },
  {
   "cell_type": "code",
   "execution_count": 450,
   "metadata": {
    "ExecuteTime": {
     "end_time": "2019-01-30T14:17:51.093666Z",
     "start_time": "2019-01-30T14:17:51.058561Z"
    }
   },
   "outputs": [
    {
     "data": {
      "text/plain": [
       "-0.34819221367651226"
      ]
     },
     "execution_count": 450,
     "metadata": {},
     "output_type": "execute_result"
    }
   ],
   "source": [
    "normalvariate(mu=0, sigma=1)"
   ]
  },
  {
   "cell_type": "code",
   "execution_count": 473,
   "metadata": {
    "ExecuteTime": {
     "end_time": "2019-01-30T14:24:01.851451Z",
     "start_time": "2019-01-30T14:23:58.494934Z"
    }
   },
   "outputs": [
    {
     "name": "stdout",
     "output_type": "stream",
     "text": [
      "1 loop, best of 3: 769 ms per loop\n"
     ]
    }
   ],
   "source": [
    "%timeit samples = [normalvariate(0,1) for _ in xrange(N)]"
   ]
  },
  {
   "cell_type": "code",
   "execution_count": 474,
   "metadata": {
    "ExecuteTime": {
     "end_time": "2019-01-30T14:24:05.610275Z",
     "start_time": "2019-01-30T14:24:04.024596Z"
    }
   },
   "outputs": [
    {
     "name": "stdout",
     "output_type": "stream",
     "text": [
      "10 loops, best of 3: 33.9 ms per loop\n"
     ]
    }
   ],
   "source": [
    "%timeit samples = np.random.normal(size=N)"
   ]
  },
  {
   "cell_type": "code",
   "execution_count": 481,
   "metadata": {
    "ExecuteTime": {
     "end_time": "2019-01-30T14:24:45.609920Z",
     "start_time": "2019-01-30T14:24:45.566701Z"
    }
   },
   "outputs": [
    {
     "data": {
      "text/plain": [
       "array([ 1.2421,  0.239 ,  1.5975])"
      ]
     },
     "execution_count": 481,
     "metadata": {},
     "output_type": "execute_result"
    }
   ],
   "source": [
    "np.random.normal(size=3)"
   ]
  },
  {
   "cell_type": "code",
   "execution_count": 484,
   "metadata": {
    "ExecuteTime": {
     "end_time": "2019-01-30T14:25:31.531702Z",
     "start_time": "2019-01-30T14:25:31.467787Z"
    }
   },
   "outputs": [
    {
     "data": {
      "text/plain": [
       "[9, 7, 6, 3, 2, 5, 8, 1, 0, 4]"
      ]
     },
     "execution_count": 484,
     "metadata": {},
     "output_type": "execute_result"
    }
   ],
   "source": [
    "x = range(10)\n",
    "np.random.shuffle(x)\n",
    "x"
   ]
  },
  {
   "cell_type": "code",
   "execution_count": 488,
   "metadata": {
    "ExecuteTime": {
     "end_time": "2019-01-30T14:26:35.817597Z",
     "start_time": "2019-01-30T14:26:35.787157Z"
    }
   },
   "outputs": [
    {
     "data": {
      "text/plain": [
       "array([[ 0.0654,  0.9443,  0.2625,  0.3476],\n",
       "       [ 0.8855,  0.6424,  0.5415,  0.1908],\n",
       "       [ 0.1517,  0.6391,  0.9649,  0.5685]])"
      ]
     },
     "execution_count": 488,
     "metadata": {},
     "output_type": "execute_result"
    }
   ],
   "source": [
    "np.random.rand(3, 4)"
   ]
  },
  {
   "cell_type": "code",
   "execution_count": 493,
   "metadata": {
    "ExecuteTime": {
     "end_time": "2019-01-30T14:27:36.347930Z",
     "start_time": "2019-01-30T14:27:36.313693Z"
    }
   },
   "outputs": [
    {
     "data": {
      "text/plain": [
       "array([[ 7.4457,  8.3562,  7.8889,  6.6751],\n",
       "       [ 9.258 ,  3.9434,  7.0414,  4.3049],\n",
       "       [ 9.4805,  0.831 ,  7.0728,  6.4041]])"
      ]
     },
     "execution_count": 493,
     "metadata": {},
     "output_type": "execute_result"
    }
   ],
   "source": [
    "np.random.uniform(low=0,high=10,size=(3,4))  # 均匀分布"
   ]
  },
  {
   "cell_type": "code",
   "execution_count": 492,
   "metadata": {
    "ExecuteTime": {
     "end_time": "2019-01-30T14:27:28.247593Z",
     "start_time": "2019-01-30T14:27:28.219455Z"
    }
   },
   "outputs": [
    {
     "data": {
      "text/plain": [
       "dtype('float64')"
      ]
     },
     "execution_count": 492,
     "metadata": {},
     "output_type": "execute_result"
    }
   ],
   "source": [
    "np.random.rand(3).dtype"
   ]
  },
  {
   "cell_type": "markdown",
   "metadata": {},
   "source": [
    "## 随机漫步"
   ]
  },
  {
   "cell_type": "code",
   "execution_count": 566,
   "metadata": {
    "ExecuteTime": {
     "end_time": "2019-01-30T15:12:25.441913Z",
     "start_time": "2019-01-30T15:12:25.216823Z"
    }
   },
   "outputs": [
    {
     "data": {
      "text/plain": [
       "[<matplotlib.lines.Line2D at 0x12a1a9790>]"
      ]
     },
     "execution_count": 566,
     "metadata": {},
     "output_type": "execute_result"
    },
    {
     "data": {
      "image/png": "[encoded data removed]",
      "text/plain": [
       "<matplotlib.figure.Figure at 0x129a3c590>"
      ]
     },
     "metadata": {},
     "output_type": "display_data"
    }
   ],
   "source": [
    "N = 1000\n",
    "position = 0\n",
    "walk = [position]\n",
    "for i in range(1, N):\n",
    "    step = 1 if random.randint(0, 1) else -1\n",
    "    position += step\n",
    "    walk.append(position)\n",
    "from matplotlib import pyplot as plt\n",
    "plt.plot(walk)"
   ]
  },
  {
   "cell_type": "code",
   "execution_count": 567,
   "metadata": {
    "ExecuteTime": {
     "end_time": "2019-01-30T15:12:27.228313Z",
     "start_time": "2019-01-30T15:12:26.933079Z"
    }
   },
   "outputs": [
    {
     "name": "stdout",
     "output_type": "stream",
     "text": [
      "57\n",
      "-21\n",
      "400\n"
     ]
    },
    {
     "data": {
      "image/png": "[encoded data removed]",
      "text/plain": [
       "<matplotlib.figure.Figure at 0x12a43abd0>"
      ]
     },
     "metadata": {},
     "output_type": "display_data"
    }
   ],
   "source": [
    "steps = np.where(np.random.randint(0, 2, size=N)>0, -1, 1)\n",
    "walks = steps.cumsum()\n",
    "plt.plot(walks)\n",
    "print(max(walks))\n",
    "print(min(walks))\n",
    "# 计算首次穿越10的时间\n",
    "print(np.argmax(walks>10))"
   ]
  },
  {
   "cell_type": "code",
   "execution_count": 568,
   "metadata": {
    "ExecuteTime": {
     "end_time": "2019-01-30T15:12:33.283053Z",
     "start_time": "2019-01-30T15:12:33.247036Z"
    }
   },
   "outputs": [],
   "source": [
    "# np.argmax?"
   ]
  },
  {
   "cell_type": "code",
   "execution_count": 588,
   "metadata": {
    "ExecuteTime": {
     "end_time": "2019-01-30T15:17:22.451131Z",
     "start_time": "2019-01-30T15:17:22.280256Z"
    }
   },
   "outputs": [
    {
     "name": "stdout",
     "output_type": "stream",
     "text": [
      "(5000, 1000)\n",
      "3288\n",
      "(3288, 1000)\n"
     ]
    },
    {
     "data": {
      "text/plain": [
       "462.14933090024329"
      ]
     },
     "execution_count": 588,
     "metadata": {},
     "output_type": "execute_result"
    }
   ],
   "source": [
    "steps = np.where(np.random.randint(0, 2, size=(5000, N))>0, -1, 1)\n",
    "walks = steps.cumsum(axis=1)\n",
    "print(walks.shape)\n",
    "print((np.abs(walks)>30).any(1).sum())\n",
    "hit30 = walks[np.any(np.abs(walks)>30, axis=1)]\n",
    "print(hit30.shape)\n",
    "np.mean(hit30.argmax(1))"
   ]
  },
  {
   "cell_type": "code",
   "execution_count": 625,
   "metadata": {
    "ExecuteTime": {
     "end_time": "2019-01-30T15:21:17.408662Z",
     "start_time": "2019-01-30T15:21:17.155197Z"
    }
   },
   "outputs": [
    {
     "name": "stdout",
     "output_type": "stream",
     "text": [
      "(5000, 1000)\n",
      "12\n",
      "(12, 1000)\n"
     ]
    },
    {
     "data": {
      "text/plain": [
       "324.33333333333331"
      ]
     },
     "execution_count": 625,
     "metadata": {},
     "output_type": "execute_result"
    }
   ],
   "source": [
    "steps = np.random.normal(0, 0.5, size=(5000, N))\n",
    "walks = steps.cumsum(axis=1)\n",
    "print(walks.shape)\n",
    "print((np.abs(walks)>50).any(1).sum())\n",
    "hit30 = walks[np.any(np.abs(walks)>50, axis=1)]\n",
    "print(hit30.shape)\n",
    "np.mean(hit30.argmax(1))"
   ]
  },
  {
   "cell_type": "markdown",
   "metadata": {},
   "source": [
    "##### "
   ]
  }
 ],
 "metadata": {
  "kernelspec": {
   "display_name": "Python 2",
   "language": "python",
   "name": "python2"
  },
  "language_info": {
   "codemirror_mode": {
    "name": "ipython",
    "version": 2
   },
   "file_extension": ".py",
   "mimetype": "text/x-python",
   "name": "python",
   "nbconvert_exporter": "python",
   "pygments_lexer": "ipython2",
   "version": "2.7.13"
  },
  "toc": {
   "nav_menu": {},
   "number_sections": true,
   "sideBar": true,
   "skip_h1_title": false,
   "toc_cell": true,
   "toc_position": {
    "height": "660px",
    "left": "0px",
    "right": "1228px",
    "top": "106px",
    "width": "212px"
   },
   "toc_section_display": "block",
   "toc_window_display": false
  },
  "varInspector": {
   "cols": {
    "lenName": 16,
    "lenType": 16,
    "lenVar": 40
   },
   "kernels_config": {
    "python": {
     "delete_cmd_postfix": "",
     "delete_cmd_prefix": "del ",
     "library": "var_list.py",
     "varRefreshCmd": "print(var_dic_list())"
    },
    "r": {
     "delete_cmd_postfix": ") ",
     "delete_cmd_prefix": "rm(",
     "library": "var_list.r",
     "varRefreshCmd": "cat(var_dic_list()) "
    }
   },
   "oldHeight": 122,
   "position": {
    "height": "323px",
    "left": "769px",
    "right": "20px",
    "top": "121px",
    "width": "649px"
   },
   "types_to_exclude": [
    "module",
    "function",
    "builtin_function_or_method",
    "instance",
    "_Feature"
   ],
   "varInspector_section_display": "block",
   "window_display": false
  }
 },
 "nbformat": 4,
 "nbformat_minor": 2
}
